{
 "cells": [
  {
   "cell_type": "markdown",
   "metadata": {},
   "source": [
    "#### Go little deep into Agents and Tools"
   ]
  },
  {
   "cell_type": "code",
   "execution_count": 1,
   "metadata": {},
   "outputs": [
    {
     "data": {
      "text/plain": [
       "True"
      ]
     },
     "execution_count": 1,
     "metadata": {},
     "output_type": "execute_result"
    }
   ],
   "source": [
    "import os\n",
    "from dotenv import load_dotenv\n",
    "load_dotenv()"
   ]
  },
  {
   "cell_type": "code",
   "execution_count": 2,
   "metadata": {},
   "outputs": [],
   "source": [
    "GOOGLE_API_KEY=os.getenv(\"GOOGLE_API_KEY\")\n",
    "TAVILY_API_KEY=os.getenv(\"TAVILY_API_KEY\")\n",
    "LANGCHAIN_API_KEY=os.getenv(\"LANGSMITH_API_KEY\")\n",
    "LANGCHAIN_PROJECT=os.getenv(\"LANGSMITH_PROJECT\")\n",
    "LANGCHAIN_TRACING_V2 = os.getenv(\"LANGSMITH_TRACING\")\n",
    "LANGCHAIN_ENDPOINT = os.getenv(\"LANGSMITH_ENDPOINT\")"
   ]
  },
  {
   "cell_type": "code",
   "execution_count": 3,
   "metadata": {},
   "outputs": [],
   "source": [
    "os.environ[\"GOOGLE_API_KEY\"] = GOOGLE_API_KEY\n",
    "os.environ['TAVILY_API_KEY'] = TAVILY_API_KEY\n",
    "os.environ[\"LANGCHAIN_API_KEY\"] = LANGCHAIN_API_KEY\n",
    "os.environ[\"LANGCHAIN_TRACING_V2\"] = LANGCHAIN_TRACING_V2\n",
    "os.environ[\"LANGCHAIN_ENDPOINT\"] = LANGCHAIN_ENDPOINT\n",
    "os.environ[\"LANGCHAIN_PROJECT\"]=LANGCHAIN_PROJECT"
   ]
  },
  {
   "cell_type": "markdown",
   "metadata": {},
   "source": [
    "##### Adding tools"
   ]
  },
  {
   "cell_type": "code",
   "execution_count": 24,
   "metadata": {},
   "outputs": [
    {
     "name": "stdout",
     "output_type": "stream",
     "text": [
      "Page: LangChain\n",
      "Summary: LangChain is a software framework that helps facilitate the integration of large language models (LLMs) into applications. As a language model integration framework, LangChain's use-cases largely overlap with those of language models in general, including document analysis a\n"
     ]
    }
   ],
   "source": [
    "# Wikipedia\n",
    "from langchain_community.tools import WikipediaQueryRun\n",
    "from langchain_community.utilities import WikipediaAPIWrapper\n",
    "\n",
    "api_wrapper = WikipediaAPIWrapper(top_k_results=1, doc_content_chars_max=300)\n",
    "wiki_tool = WikipediaQueryRun(api_wrapper=api_wrapper)\n",
    "print(wiki_tool.invoke(\"langchain\"))"
   ]
  },
  {
   "cell_type": "code",
   "execution_count": 9,
   "metadata": {},
   "outputs": [
    {
     "data": {
      "text/plain": [
       "\"['https://www.youtube.com/watch?v=aircAruvnKk&pp=ygUNZGVlcCBsZWFybmluZw%3D%3D', 'https://www.youtube.com/watch?v=6M5VXKLf4D4&pp=ygUNZGVlcCBsZWFybmluZw%3D%3D']\""
      ]
     },
     "execution_count": 9,
     "metadata": {},
     "output_type": "execute_result"
    }
   ],
   "source": [
    "# YOutube search\n",
    "from langchain_community.tools import YouTubeSearchTool\n",
    "youTube_tool=YouTubeSearchTool()\n",
    "youTube_tool.run(\"deep learning\")\n"
   ]
  },
  {
   "cell_type": "code",
   "execution_count": 11,
   "metadata": {},
   "outputs": [
    {
     "data": {
      "text/plain": [
       "[{'title': 'Virat Kohli - Wikipedia',\n",
       "  'url': 'https://en.wikipedia.org/wiki/Virat_Kohli',\n",
       "  'content': 'Virat Kohli (Hindi pronunciation: [ʋɪˈɾɑːʈ ˈkoːɦli] ⓘ; born 5 November 1988) is an Indian international cricketer who plays Test and ODI cricket for the Indian national team. A former captain in all formats of the game, Kohli retired from the T20I format following India\\'s win at the 2024 T20 World Cup. He\\'s a right-handed batsman and an occasional unorthodox right arm medium pace bowler. Kohli holds the highest IPL run-scorer record, ranks third in T20I, third in ODI, and stands the [...] Kohli was a member of the Indian team that won the 2008 Under-19 Cricket World Cup, 2011 Cricket World Cup, 2013 Champions Trophy and 2024 T20 World Cup and also captained India to win the ICC Test mace three consecutive times in 2017, 2018, and 2019.[6] He represents Royal Challengers Bengaluru in the Indian Premier League and Delhi in domestic cricket. [...] ^ Sharma, Aabhas (8 November 2013). \"Why Virat Kohli is who he is\". Business Standard. Archived from the original on 23 April 2015. Retrieved 1 June 2015.\\n^ Doshi, Anjali; Das, Rahul (21 June 2014). \"The Rise and Rise of Virat Kohli\". Verve Magazine. Archived from the original on 4 April 2015. Retrieved 1 June 2015.\\n^ Jones, Dean (17 March 2017). \"Virat Kohli, the highly paid head of the Indian snake\". The Sydney Morning Herald. Retrieved 20 June 2020.',\n",
       "  'score': 0.92074},\n",
       " {'title': 'Virat Kohli | Life, Career, Cricket, Awards, & Facts | Britannica',\n",
       "  'url': 'https://www.britannica.com/biography/Virat-Kohli',\n",
       "  'content': 'Virat Kohli (born November 5, 1988, Delhi, India) is an Indian international cricketer considered by many as one of the greatest batsmen in the history of the game. Kohli plays for (and previously captained) the Royal Challengers Bangalore (RCB) in the Indian Premier League (IPL). He is also a former captain of the Indian cricket team in all three international formats—Test cricket, one-day internationals (ODIs), and Twenty20 internationals (T20I)—making him one of India’s most successful [...] Kohli was retained in 2018 for $2.1 million but struggled to score as freely as he did in 2016. In 2022 he was retained again for $2 million but relinquished the captaincy, which went to Faf du Plessis. Kohli has since captained on occasion when du Plessis has been injured. Kohli is the highest individual run scorer in the history of the IPL, but RCB’s lack of titles has frustrated his fans.\\nEarly international career [...] from Twenty20 international cricket after India won the 2024 T20I World Cup. Kohli’s announcement came after he was declared Player of the Match. Kohli is married to popular Bollywood actress and producer Anushka Sharma.',\n",
       "  'score': 0.89121616},\n",
       " {'title': 'Virat Kohli Profile - Cricket Player, India - NDTV Sports',\n",
       "  'url': 'https://sports.ndtv.com/cricket/players/967-virat-kohli-playerprofile',\n",
       "  'content': 'Daring, tough, and fiercely talented, Virat Kohli is arguably one of the finest batters that India has produced. He has even drawn comparisons with the',\n",
       "  'score': 0.7771143},\n",
       " {'title': 'Virat Kohli | cricket.com.au',\n",
       "  'url': 'https://www.cricket.com.au/players/CA:10917/virat-kohli',\n",
       "  'content': \"Undoubtedly one of India's finest ever batters, Virat Kohli has been a superstar of international cricket for well over a decade.\",\n",
       "  'score': 0.7409441},\n",
       " {'title': 'Virat Kohli - Royal Challengers Bengaluru - IPL T20',\n",
       "  'url': 'https://www.iplt20.com/teams/royal-challengers-bengaluru/squad-details/164',\n",
       "  'content': 'former Indian Cricket Team’s Captain is popularly known as the Run Machine. Virat Kohli’s ability and hunger to score daddy hundreds has taken the cricket world by storm. The flamboyant cricketer was the captain of the Indian team that won the 2008 ICC U19 Cricket World Cup and since then there has been no looking back for King Kohli. He is the new-age cricketer who is aggressive and expresses his mind on the field. In 2008, Kohli was inducted in the RCB squad and started leading the side in',\n",
       "  'score': 0.7274535}]"
      ]
     },
     "execution_count": 11,
     "metadata": {},
     "output_type": "execute_result"
    }
   ],
   "source": [
    "# Tavily Search\n",
    "from langchain_community.tools.tavily_search import TavilySearchResults\n",
    "tavily_tool = TavilySearchResults()\n",
    "tavily_tool.invoke({\"query\": \"who is virat kohli?\"})"
   ]
  },
  {
   "cell_type": "markdown",
   "metadata": {},
   "source": [
    "- Create a basic Custom tools"
   ]
  },
  {
   "cell_type": "code",
   "execution_count": 12,
   "metadata": {},
   "outputs": [],
   "source": [
    "from langchain.agents import tool\n",
    "\n",
    "@tool\n",
    "def get_word_length(word: str) -> int:\n",
    "    \"\"\"Returns the length of a word.\"\"\"\n",
    "    return len(word)"
   ]
  },
  {
   "cell_type": "code",
   "execution_count": 13,
   "metadata": {},
   "outputs": [
    {
     "data": {
      "text/plain": [
       "9"
      ]
     },
     "execution_count": 13,
     "metadata": {},
     "output_type": "execute_result"
    }
   ],
   "source": [
    "get_word_length.invoke(\"asdfghjkl\")"
   ]
  },
  {
   "cell_type": "code",
   "execution_count": 14,
   "metadata": {},
   "outputs": [],
   "source": [
    "@tool\n",
    "def multiply(a: int, b: int) -> int:\n",
    "    \"\"\"Multiply two numbers.\"\"\"\n",
    "    return a * b"
   ]
  },
  {
   "cell_type": "code",
   "execution_count": 16,
   "metadata": {},
   "outputs": [],
   "source": [
    "@tool\n",
    "def addition(a: int, b: int) -> int:\n",
    "    \"\"\"Adding two numbers.\"\"\"\n",
    "    return a + b"
   ]
  },
  {
   "cell_type": "code",
   "execution_count": 17,
   "metadata": {},
   "outputs": [
    {
     "name": "stdout",
     "output_type": "stream",
     "text": [
      "multiply\n",
      "Multiply two numbers.\n",
      "{'a': {'title': 'A', 'type': 'integer'}, 'b': {'title': 'B', 'type': 'integer'}}\n"
     ]
    }
   ],
   "source": [
    "print(multiply.name)\n",
    "print(multiply.description)\n",
    "print(multiply.args)"
   ]
  },
  {
   "cell_type": "code",
   "execution_count": 19,
   "metadata": {},
   "outputs": [
    {
     "data": {
      "text/plain": [
       "30"
      ]
     },
     "execution_count": 19,
     "metadata": {},
     "output_type": "execute_result"
    }
   ],
   "source": [
    "addition.invoke({\"a\":10,\"b\":20})"
   ]
  },
  {
   "cell_type": "markdown",
   "metadata": {},
   "source": [
    "#### Diff types or concpetss of angents\n",
    "- Agent from the first version of LangChain"
   ]
  },
  {
   "cell_type": "code",
   "execution_count": 21,
   "metadata": {},
   "outputs": [],
   "source": [
    "from langchain.agents import AgentType\n",
    "from langchain.agents import load_tools \n",
    "from langchain.agents import initialize_agent"
   ]
  },
  {
   "cell_type": "code",
   "execution_count": 22,
   "metadata": {},
   "outputs": [],
   "source": [
    "from langchain_google_genai import GoogleGenerativeAIEmbeddings\n",
    "embeddings = GoogleGenerativeAIEmbeddings(model=\"models/embedding-001\")\n",
    "\n",
    "from langchain_google_genai import ChatGoogleGenerativeAI\n",
    "llm = ChatGoogleGenerativeAI(model=\"gemini-1.5-pro\")"
   ]
  },
  {
   "cell_type": "code",
   "execution_count": 36,
   "metadata": {},
   "outputs": [],
   "source": [
    "tool=load_tools([\"wikipedia\"],llm=llm)"
   ]
  },
  {
   "cell_type": "code",
   "execution_count": 37,
   "metadata": {},
   "outputs": [
    {
     "name": "stderr",
     "output_type": "stream",
     "text": [
      "/tmp/ipykernel_8348/2645007812.py:1: LangChainDeprecationWarning: LangChain agents will continue to be supported, but it is recommended for new use cases to be built with LangGraph. LangGraph offers a more flexible and full-featured framework for building agents, including support for tool-calling, persistence of state, and human-in-the-loop workflows. For details, refer to the `LangGraph documentation <https://langchain-ai.github.io/langgraph/>`_ as well as guides for `Migrating from AgentExecutor <https://python.langchain.com/docs/how_to/migrate_agent/>`_ and LangGraph's `Pre-built ReAct agent <https://langchain-ai.github.io/langgraph/how-tos/create-react-agent/>`_.\n",
      "  agent=initialize_agent(tool,llm,agent=AgentType.ZERO_SHOT_REACT_DESCRIPTION,verbose=True)\n"
     ]
    }
   ],
   "source": [
    "agent=initialize_agent(tool,llm,agent=AgentType.ZERO_SHOT_REACT_DESCRIPTION,verbose=True)"
   ]
  },
  {
   "cell_type": "code",
   "execution_count": 38,
   "metadata": {},
   "outputs": [
    {
     "name": "stderr",
     "output_type": "stream",
     "text": [
      "/tmp/ipykernel_8348/1212027048.py:1: LangChainDeprecationWarning: The method `Chain.run` was deprecated in langchain 0.1.0 and will be removed in 1.0. Use :meth:`~invoke` instead.\n",
      "  agent.run(\"what is llama and who create this llm model?\")\n"
     ]
    },
    {
     "name": "stdout",
     "output_type": "stream",
     "text": [
      "\n",
      "\n",
      "\u001b[1m> Entering new AgentExecutor chain...\u001b[0m\n",
      "\u001b[32;1m\u001b[1;3mThought: I need to find information about \"llama\" and who created the LLM model.  I can use Wikipedia to search for information about \"llama\".\n",
      "\n",
      "Action: wikipedia\n",
      "Action Input: llama\u001b[0m"
     ]
    },
    {
     "name": "stderr",
     "output_type": "stream",
     "text": [
      "/home/pavan/Ds/pro/langgraph/venv/lib/python3.12/site-packages/wikipedia/wikipedia.py:389: GuessedAtParserWarning: No parser was explicitly specified, so I'm using the best available HTML parser for this system (\"html.parser\"). This usually isn't a problem, but if you run this code on another system, or in a different virtual environment, it may use a different parser and behave differently.\n",
      "\n",
      "The code that caused this warning is on line 389 of the file /home/pavan/Ds/pro/langgraph/venv/lib/python3.12/site-packages/wikipedia/wikipedia.py. To get rid of this warning, pass the additional argument 'features=\"html.parser\"' to the BeautifulSoup constructor.\n",
      "\n",
      "  lis = BeautifulSoup(html).find_all('li')\n"
     ]
    },
    {
     "name": "stdout",
     "output_type": "stream",
     "text": [
      "\n",
      "Observation: \u001b[36;1m\u001b[1;3mPage: Llama\n",
      "Summary: The llama (; Spanish pronunciation: [ˈʎama] or [ˈʝama]) (Lama glama) is a domesticated South American camelid, widely used as a meat and pack animal by Andean cultures since the pre-Columbian era.\n",
      "Llamas are social animals and live with others as a herd. Their wool is soft and contains only a small amount of lanolin. Llamas can learn simple tasks after a few repetitions. When using a pack, they can carry about 25 to 30% of their body weight for 8 to 13 km (5–8 miles). The name llama (also historically spelled \"lama\" or \"glama\") was adopted by European settlers from native Peruvians.\n",
      "The ancestors of llamas are thought to have originated on the Great Plains of North America about 40 million years ago and subsequently migrated to South America about three million years ago during the Great American Interchange. By the end of the last ice age (10,000–12,000 years ago), camelids were extinct in North America. As of 2007, there were over seven million llamas and alpacas in South America. Some were imported to the United States and Canada late in the 20th century; their descendants now number more than 158,000 llamas and 100,000 alpacas.\n",
      "In Aymara mythology, llamas are important beings. The Heavenly Llama is said to drink water from the ocean and urinates as it rains. According to Aymara eschatology, llamas will return to the water springs and ponds where they come from at the end of time.\n",
      "\n",
      "Page: Llama (language model)\n",
      "Summary: Llama (Large Language Model Meta AI, formerly stylized as LLaMA) is a family of large language models (LLMs) released by Meta AI starting in February 2023. The latest version is Llama 4, released in April 2025.\n",
      "Llama models come in different sizes, ranging from 1 billion to 2 trillion parameters. Initially only a foundation model, starting with Llama 2, Meta AI released instruction fine-tuned versions alongside foundation models.\n",
      "Model weights for the first version of Llama were only available to researchers on a case-by-case basis, under a non-commercial license. Unauthorized copies of the first model were shared via BitTorrent. Subsequent versions of Llama were made accessible outside academia and released under licenses that permitted some commercial use.\n",
      "Alongside the release of Llama 3, Meta added virtual assistant features to Facebook and WhatsApp in select regions, and a standalone website. Both services use a Llama 3 model.\u001b[0m\n",
      "Thought:\u001b[32;1m\u001b[1;3mThought: I found two Wikipedia pages: one about the animal llama and one about the LLM. The second one has the information I need.\n",
      "Final Answer: Llama (Large Language Model Meta AI) is a family of large language models (LLMs) released by Meta AI starting in February 2023.\u001b[0m\n",
      "\n",
      "\u001b[1m> Finished chain.\u001b[0m\n"
     ]
    },
    {
     "data": {
      "text/plain": [
       "'Llama (Large Language Model Meta AI) is a family of large language models (LLMs) released by Meta AI starting in February 2023.'"
      ]
     },
     "execution_count": 38,
     "metadata": {},
     "output_type": "execute_result"
    }
   ],
   "source": [
    "agent.run(\"what is llama and who create this llm model?\")"
   ]
  },
  {
   "cell_type": "code",
   "execution_count": 39,
   "metadata": {},
   "outputs": [],
   "source": [
    "# another type\n",
    "\n",
    "from langchain import hub\n",
    "prompt=hub.pull(\"hwchase17/openai-functions-agent\")"
   ]
  },
  {
   "cell_type": "code",
   "execution_count": 41,
   "metadata": {},
   "outputs": [
    {
     "data": {
      "text/plain": [
       "[SystemMessagePromptTemplate(prompt=PromptTemplate(input_variables=[], input_types={}, partial_variables={}, template='You are a helpful assistant'), additional_kwargs={}),\n",
       " MessagesPlaceholder(variable_name='chat_history', optional=True),\n",
       " HumanMessagePromptTemplate(prompt=PromptTemplate(input_variables=['input'], input_types={}, partial_variables={}, template='{input}'), additional_kwargs={}),\n",
       " MessagesPlaceholder(variable_name='agent_scratchpad')]"
      ]
     },
     "execution_count": 41,
     "metadata": {},
     "output_type": "execute_result"
    }
   ],
   "source": [
    "prompt.messages"
   ]
  },
  {
   "cell_type": "code",
   "execution_count": 44,
   "metadata": {},
   "outputs": [
    {
     "data": {
      "text/plain": [
       "'\\nagent_scratchpad: The agent does not call a tool just once to get the desired answer, but has a structure that calls tools repeatedly until the desired answer is obtained. Each time you call a tool, what the previous call was like, information about the previous call, and the result are stored in this field.\\n'"
      ]
     },
     "execution_count": 44,
     "metadata": {},
     "output_type": "execute_result"
    }
   ],
   "source": [
    "\"\"\"\n",
    "agent_scratchpad: The agent does not call a tool just once to get the desired answer, but has a structure that calls tools repeatedly until the desired answer is obtained. Each time you call a tool, what the previous call was like, information about the previous call, and the result are stored in this field.\n",
    "\"\"\""
   ]
  },
  {
   "cell_type": "code",
   "execution_count": 45,
   "metadata": {},
   "outputs": [],
   "source": [
    "tools= [wiki_tool,youTube_tool,tavily_tool]"
   ]
  },
  {
   "cell_type": "code",
   "execution_count": 46,
   "metadata": {},
   "outputs": [],
   "source": [
    "from langchain.agents import create_tool_calling_agent\n",
    "agent = create_tool_calling_agent(llm, tools, prompt)"
   ]
  },
  {
   "cell_type": "code",
   "execution_count": 47,
   "metadata": {},
   "outputs": [],
   "source": [
    "from langchain.agents import AgentExecutor\n",
    "agent_executor = AgentExecutor(agent=agent, tools=tools, verbose=True)"
   ]
  },
  {
   "cell_type": "code",
   "execution_count": 49,
   "metadata": {},
   "outputs": [
    {
     "name": "stdout",
     "output_type": "stream",
     "text": [
      "\n",
      "\n",
      "\u001b[1m> Entering new AgentExecutor chain...\u001b[0m\n",
      "\u001b[32;1m\u001b[1;3mI'm doing well, thank you for asking. How can I help you today?\u001b[0m\n",
      "\n",
      "\u001b[1m> Finished chain.\u001b[0m\n"
     ]
    },
    {
     "data": {
      "text/plain": [
       "{'input': 'hello how are you?',\n",
       " 'output': \"I'm doing well, thank you for asking. How can I help you today?\"}"
      ]
     },
     "execution_count": 49,
     "metadata": {},
     "output_type": "execute_result"
    }
   ],
   "source": [
    "agent_executor.invoke({\"input\": \"hello how are you?\"})"
   ]
  },
  {
   "cell_type": "markdown",
   "metadata": {},
   "source": [
    "- RAG tool\n",
    "- ReAct\n",
    "- custom tool with ReAct agent\n",
    "- agent code from latest versions(v0.2 and v0.3)"
   ]
  },
  {
   "cell_type": "code",
   "execution_count": 50,
   "metadata": {},
   "outputs": [
    {
     "name": "stderr",
     "output_type": "stream",
     "text": [
      "USER_AGENT environment variable not set, consider setting it to identify your requests.\n"
     ]
    }
   ],
   "source": [
    "from langchain_community.document_loaders import WebBaseLoader\n",
    "from langchain_community.vectorstores import FAISS\n",
    "from langchain_text_splitters import RecursiveCharacterTextSplitter"
   ]
  },
  {
   "cell_type": "code",
   "execution_count": 59,
   "metadata": {},
   "outputs": [],
   "source": [
    "loader = WebBaseLoader(\"https://python.langchain.com/docs/tutorials/\")\n",
    "docs = loader.load()"
   ]
  },
  {
   "cell_type": "code",
   "execution_count": 60,
   "metadata": {},
   "outputs": [],
   "source": [
    "documents = RecursiveCharacterTextSplitter(\n",
    "    chunk_size=1000, chunk_overlap=200\n",
    ").split_documents(docs)"
   ]
  },
  {
   "cell_type": "code",
   "execution_count": 61,
   "metadata": {},
   "outputs": [],
   "source": [
    "vector = FAISS.from_documents(documents,embeddings)\n",
    "retriever = vector.as_retriever()"
   ]
  },
  {
   "cell_type": "code",
   "execution_count": 62,
   "metadata": {},
   "outputs": [
    {
     "data": {
      "text/plain": [
       "Document(id='1d8424c8-cefb-44e4-aef4-c80d59a5591e', metadata={'source': 'https://python.langchain.com/docs/tutorials/', 'title': 'Tutorials | 🦜️🔗 LangChain', 'description': 'New to LangChain or LLM app development in general? Read this material to quickly get up and running building your first applications.', 'language': 'en'}, page_content='LangSmith\\u200b\\nLangSmith allows you to closely trace, monitor and evaluate your LLM application.\\nIt seamlessly integrates with LangChain, and you can use it to inspect and debug individual steps of your chains as you build.\\nLangSmith documentation is hosted on a separate site.\\nYou can peruse LangSmith tutorials here.\\nEvaluation\\u200b\\nLangSmith helps you evaluate the performance of your LLM applications. The tutorial below is a great way to get started:\\n\\nEvaluate your LLM application\\nEdit this pageWas this page helpful?PreviousIntroductionNextBuild a Question Answering application over a Graph DatabaseGet startedOrchestrationLangSmithEvaluationCommunityTwitterGitHubOrganizationPythonJS/TSMoreHomepageBlogYouTubeCopyright © 2025 LangChain, Inc.')"
      ]
     },
     "execution_count": 62,
     "metadata": {},
     "output_type": "execute_result"
    }
   ],
   "source": [
    "retriever.invoke(\"Why use Langchain?\")[1]"
   ]
  },
  {
   "cell_type": "code",
   "execution_count": 63,
   "metadata": {},
   "outputs": [],
   "source": [
    "from langchain.tools.retriever import create_retriever_tool\n",
    "retriever_tool = create_retriever_tool(\n",
    "    retriever,\n",
    "    \"langchain_search\",\n",
    "    \"Search for information about Langchain. For any questions about Langchain, you must use this!\",\n",
    ")"
   ]
  },
  {
   "cell_type": "code",
   "execution_count": 64,
   "metadata": {},
   "outputs": [],
   "source": [
    "from langchain.agents import create_tool_calling_agent\n",
    "\n",
    "agent = create_tool_calling_agent(llm, tools, prompt)"
   ]
  },
  {
   "cell_type": "code",
   "execution_count": null,
   "metadata": {},
   "outputs": [],
   "source": [
    "from langchain.agents import AgentExecutor\n",
    "\n",
    "agent_executor = AgentExecutor(agent=agent, tools=tools, verbose=True)"
   ]
  },
  {
   "cell_type": "code",
   "execution_count": 66,
   "metadata": {},
   "outputs": [
    {
     "name": "stdout",
     "output_type": "stream",
     "text": [
      "\n",
      "\n",
      "\u001b[1m> Entering new AgentExecutor chain...\u001b[0m\n",
      "\u001b[32;1m\u001b[1;3m\n",
      "Invoking: `wikipedia` with `{'query': 'LangChain'}`\n",
      "\n",
      "\n",
      "\u001b[0m\u001b[36;1m\u001b[1;3mPage: LangChain\n",
      "Summary: LangChain is a software framework that helps facilitate the integration of large language models (LLMs) into applications. As a language model integration framework, LangChain's use-cases largely overlap with those of language models in general, including document analysis a\u001b[0m\u001b[32;1m\u001b[1;3mLangChain is a framework designed to simplify the integration of large language models (LLMs) into applications.  It helps developers build applications that use LLMs for various tasks like document analysis and chatbots.\u001b[0m\n",
      "\n",
      "\u001b[1m> Finished chain.\u001b[0m\n"
     ]
    },
    {
     "data": {
      "text/plain": [
       "{'input': 'hi! what is a langchain?',\n",
       " 'output': 'LangChain is a framework designed to simplify the integration of large language models (LLMs) into applications.  It helps developers build applications that use LLMs for various tasks like document analysis and chatbots.'}"
      ]
     },
     "execution_count": 66,
     "metadata": {},
     "output_type": "execute_result"
    }
   ],
   "source": [
    "agent_executor.invoke({\"input\": \"hi! what is a langchain?\"})"
   ]
  },
  {
   "cell_type": "code",
   "execution_count": 75,
   "metadata": {},
   "outputs": [
    {
     "name": "stdout",
     "output_type": "stream",
     "text": [
      "\n",
      "\n",
      "\u001b[1m> Entering new AgentExecutor chain...\u001b[0m\n",
      "\u001b[32;1m\u001b[1;3m\n",
      "Invoking: `tavily_search_results_json` with `{'query': 'weather in new munnar'}`\n",
      "\n",
      "\n",
      "\u001b[0m\u001b[38;5;200m\u001b[1;3m[{'title': 'Munnar, Kerala, India 14 day weather forecast - Time and Date', 'url': 'https://www.timeanddate.com/weather/@1262463/ext', 'content': 'TueMay 6 |  | 85 / 72\\xa0°F | Isolated tstorms. Broken clouds. | 90\\xa0°F | 4 mph | ↑ | 80% | 52% | 0.08\" | 7(High) | 6:02 am | 6:34 pm\\nWedMay 7 |  | 85 / 72\\xa0°F | Thunderstorms. Cloudy. | 91\\xa0°F | 4 mph | ↑ | 84% | 99% | 0.54\" | 7(High) | 6:02 am | 6:34 pm\\nThuMay 8 |  | 86 / 72\\xa0°F | A few tstorms. Broken clouds. | 88\\xa0°F | 5 mph | ↑ | 72% | 51% | 0.09\" | 7(High) | 6:02 am | 6:34 pm\\n* Updated Thursday, April 24, 2025 2:53:57 pm Munnar time - Weather by CustomWeather, © 2025 [...] | Conditions | Comfort | Precipitation | Sun\\nDay |  | Temperature | Weather | Feels Like | Wind |  | Humidity | Chance | Amount | UV | Sunrise | Sunset\\nThuApr 24 |  | 88 / 71\\xa0°F | A few tstorms. Cloudy. | 83\\xa0°F | 4 mph | ↑ | 79% | 67% | 0.44\" | 7(High) | 6:07 am | 6:32 pm\\nFriApr 25 |  | 86 / 70\\xa0°F | Rain showers. Cloudy. | 88\\xa0°F | 5 mph | ↑ | 69% | 66% | 0.30\" | 5(Moderate) | 6:06 am | 6:32 pm [...] WedApr 30 |  | 83 / 68\\xa0°F | Tstorms late. Overcast. | 84\\xa0°F | 3 mph | ↑ | 80% | 66% | 0.56\" | 5(Moderate) | 6:04 am | 6:33 pm\\nThuMay 1 |  | 84 / 68\\xa0°F | Scattered tstorms late. Overcast. | 85\\xa0°F | 4 mph | ↑ | 76% | 84% | 0.17\" | 7(High) | 6:04 am | 6:33 pm\\nFriMay 2 |  | 84 / 72\\xa0°F | Strong thunderstorms. Overcast. | 89\\xa0°F | 4 mph | ↑ | 79% | 99% | 0.79\" | 7(High) | 6:04 am | 6:33 pm', 'score': 0.9051298}, {'title': 'Weather in new munnar', 'url': 'https://www.weatherapi.com/', 'content': \"{'location': {'name': 'Munnar', 'region': 'Kerala', 'country': 'India', 'lat': 10.1, 'lon': 77.0667, 'tz_id': 'Asia/Kolkata', 'localtime_epoch': 1745491016, 'localtime': '2025-04-24 16:06'}, 'current': {'last_updated_epoch': 1745490600, 'last_updated': '2025-04-24 16:00', 'temp_c': 27.6, 'temp_f': 81.7, 'is_day': 1, 'condition': {'text': 'Patchy rain nearby', 'icon': '//cdn.weatherapi.com/weather/64x64/day/176.png', 'code': 1063}, 'wind_mph': 4.0, 'wind_kph': 6.5, 'wind_degree': 240, 'wind_dir': 'WSW', 'pressure_mb': 1008.0, 'pressure_in': 29.76, 'precip_mm': 1.13, 'precip_in': 0.04, 'humidity': 67, 'cloud': 81, 'feelslike_c': 29.9, 'feelslike_f': 85.8, 'windchill_c': 27.6, 'windchill_f': 81.6, 'heatindex_c': 29.9, 'heatindex_f': 85.8, 'dewpoint_c': 21.0, 'dewpoint_f': 69.8, 'vis_km': 9.0, 'vis_miles': 5.0, 'uv': 2.0, 'gust_mph': 7.0, 'gust_kph': 11.3}}\", 'score': 0.9026771}, {'title': 'Weather Munnar in April 2025: Temperature & Climate', 'url': 'https://en.climate-data.org/asia/india/kerala/munnar-34154/t/april-4/', 'content': '23. April | 19 °C | 67 °F | 24 °C | 76 °F | 16 °C | 61 °F | 2.6 mm | 0.1 inch.\\n24. April | 19 °C | 67 °F | 24 °C | 75 °F | 16 °C | 61 °F | 1.1 mm | 0.0 inch.\\n25. April | 19 °C | 67 °F | 24 °C | 75 °F | 16 °C | 61 °F | 1.8 mm | 0.1 inch.\\n26. April | 19 °C | 67 °F | 24 °C | 76 °F | 16 °C | 61 °F | 0.5 mm | 0.0 inch.\\n27. April | 20 °C | 67 °F | 25 °C | 76 °F | 16 °C | 61 °F | 1.4 mm | 0.1 inch.\\n28. April | 19 °C | 67 °F | 24 °C | 76 °F | 16 °C | 61 °F | 3.1 mm | 0.1 inch. [...] 21.9\\n\\n(71.4)\\n\\n338\\n\\n(13.3)\\n\\n17.9\\n\\n(64.3)\\n\\n15\\n\\n(58.9)\\n\\n21.8\\n\\n(71.3)\\n\\n277\\n\\n(10.9)\\n\\n17.6\\n\\n(63.8)\\n\\n13.8\\n\\n(56.8)\\n\\n22.2\\n\\n(71.9)\\n\\n99\\n\\n(3.9) [...] (76.9) °F\\n\\n26.2 °C\\n\\n(79.2) °F\\n\\n25.5 °C\\n\\n(77.9) °F\\n\\n23.7 °C\\n\\n(74.6) °F\\n\\n21.3 °C\\n\\n(70.3) °F\\n\\n20.8 °C\\n\\n(69.4) °F\\n\\n21 °C\\n\\n(69.7) °F\\n\\n21.7 °C\\n\\n(71.1) °F\\n\\n21.9 °C\\n\\n(71.4) °F\\n\\n21.8 °C\\n\\n(71.3) °F\\n\\n22.2 °C\\n\\n(71.9) °F\\n\\n31\\n\\n(1)\\n\\n31\\n\\n(1)\\n\\n72\\n\\n(2)\\n\\n165\\n\\n(6)\\n\\n256\\n\\n(10)\\n\\n434\\n\\n(17)\\n\\n419\\n\\n(16)\\n\\n321\\n\\n(12)\\n\\n229\\n\\n(9)\\n\\n338\\n\\n(13)\\n\\n277\\n\\n(10)\\n\\n99\\n\\n(3)', 'score': 0.8934678}, {'title': 'Munnar Weather in April 2025 - Temperature & Climate - MakeMyTrip', 'url': 'https://www.makemytrip.com/tripideas/munnar/munnar-weather-in-april', 'content': 'Munnar temperature in April ranges from approximately 13.8C to 22.2C, creating a comfortable environment for visitors to enjoy the natural beauty of the hill', 'score': 0.82391036}, {'title': 'Munnar weather in April 2025 | Kerala: How hot?', 'url': 'https://www.weather2travel.com/kerala/munnar/april/', 'content': \"Munnar weather in April 2025\\n\\nExpect  daytime maximum temperatures of 26°C in Munnar, Kerala in April based on long-term weather averages. There are 8 hours of sunshine per day on average with typically 121 mm of rainfall in the month.\\n\\nMore about Munnar\\n\\nMunnar by month\\n\\nJan\\nFeb\\nMar\\nApr\\nMay\\nJun\\nJul\\nAug\\nSep\\nOct\\nNov\\nDec\\n\\nRecommended for Kerala\\n\\nTUI: up to 7% off holidays booked online\\n\\nView all TUI offers\\n\\nTUI deal finder\\n\\nDestination\\n\\nAny destination [...] The April weather guide for Kerala (Munnar) shows long term weather averages processed from data supplied by CRU (University of East Anglia), the Met Office & the Netherlands Meteorological Institute. Find out more about our data sources.\\n\\nMetric (°C / mm) \\xa0|\\xa0 Imperial (°F / inches)\\n\\nBack to top\\n\\nMore about India\\n\\nHow hot is it in Munnar in April?\\n\\nDaytime temperatures usually reach 26°C in Munnar in April with no heat and humidity, falling to 16°C at night. [...] How sunny is it in Munnar in April?\\n\\nThere are normally 8 hours of bright sunshine each day in Munnar in April - that's 62% of daylight hours.\\n\\nDoes it rain in Munnar in April?\\n\\nThere are usually 6 days with some rain in Munnar in April and the average monthly rainfall is 121mm.\\n\\nMunnar April sunrise & sunset times\\n\\nBrowse the sunrise and sunset times for Munnar in April 2025. Select a month to view Munnar sunrise and sunset times for the next 12 months.\\n\\nJanFebMarAprMayJunJulAugSepOctNovDec\", 'score': 0.8098936}]\u001b[0m\u001b[32;1m\u001b[1;3mThe weather forecast for New Munnar shows varying conditions over the next few days. Today, April 24th, expect a few thunderstorms and cloudy skies with a high of 88°F and a low of 71°F.  Tomorrow, April 25th, there's a chance of rain showers and cloudy skies with a high of 86°F and a low of 70°F.  Looking ahead to May, temperatures remain in the mid-80s with chances of thunderstorms throughout the week.  For more detailed information, you can check out the 14-day forecast on timeanddate.com.\u001b[0m\n",
      "\n",
      "\u001b[1m> Finished chain.\u001b[0m\n"
     ]
    },
    {
     "data": {
      "text/plain": [
       "{'input': 'whats the weather in new munnar?',\n",
       " 'output': \"The weather forecast for New Munnar shows varying conditions over the next few days. Today, April 24th, expect a few thunderstorms and cloudy skies with a high of 88°F and a low of 71°F.  Tomorrow, April 25th, there's a chance of rain showers and cloudy skies with a high of 86°F and a low of 70°F.  Looking ahead to May, temperatures remain in the mid-80s with chances of thunderstorms throughout the week.  For more detailed information, you can check out the 14-day forecast on timeanddate.com.\"}"
      ]
     },
     "execution_count": 75,
     "metadata": {},
     "output_type": "execute_result"
    }
   ],
   "source": [
    "agent_executor.invoke({\"input\": \"whats the weather in new munnar?\"})"
   ]
  },
  {
   "cell_type": "markdown",
   "metadata": {},
   "source": [
    "#### Add memory component"
   ]
  },
  {
   "cell_type": "code",
   "execution_count": 70,
   "metadata": {},
   "outputs": [],
   "source": [
    "from langchain_community.chat_message_histories import ChatMessageHistory\n",
    "from langchain_core.runnables.history import RunnableWithMessageHistory"
   ]
  },
  {
   "cell_type": "code",
   "execution_count": 80,
   "metadata": {},
   "outputs": [],
   "source": [
    "message_history=ChatMessageHistory()"
   ]
  },
  {
   "cell_type": "code",
   "execution_count": 81,
   "metadata": {},
   "outputs": [],
   "source": [
    "agent_with_chat_history = RunnableWithMessageHistory(\n",
    "    agent_executor,\n",
    "    # This is needed because in most real world scenarios, a session id is needed\n",
    "    # It isn't really used here because we are using a simple in memory ChatMessageHistory\n",
    "    lambda session_id: message_history,\n",
    "    input_messages_key=\"input\",\n",
    "    history_messages_key=\"chat_history\",\n",
    ")"
   ]
  },
  {
   "cell_type": "code",
   "execution_count": 82,
   "metadata": {},
   "outputs": [
    {
     "name": "stdout",
     "output_type": "stream",
     "text": [
      "\n",
      "\n",
      "\u001b[1m> Entering new AgentExecutor chain...\u001b[0m\n",
      "\u001b[32;1m\u001b[1;3mHi Pavan, I'm doing well, thank you for asking. How can I help you today?\u001b[0m\n",
      "\n",
      "\u001b[1m> Finished chain.\u001b[0m\n"
     ]
    },
    {
     "data": {
      "text/plain": [
       "{'input': 'hi! my name is pavan how are you?',\n",
       " 'chat_history': [],\n",
       " 'output': \"Hi Pavan, I'm doing well, thank you for asking. How can I help you today?\"}"
      ]
     },
     "execution_count": 82,
     "metadata": {},
     "output_type": "execute_result"
    }
   ],
   "source": [
    "agent_with_chat_history.invoke(\n",
    "    {\"input\": \"hi! my name is pavan how are you?\"},\n",
    "    # This is needed because in most real world scenarios, a session id is needed\n",
    "    # It isn't really used here because we are using a simple in memory ChatMessageHistory\n",
    "    config={\"configurable\": {\"session_id\": \"firstchat\"}},\n",
    ")"
   ]
  },
  {
   "cell_type": "code",
   "execution_count": 83,
   "metadata": {},
   "outputs": [
    {
     "name": "stdout",
     "output_type": "stream",
     "text": [
      "\n",
      "\n",
      "\u001b[1m> Entering new AgentExecutor chain...\u001b[0m\n",
      "\u001b[32;1m\u001b[1;3m\n",
      "Invoking: `tavily_search_results_json` with `{'query': 'weather in new munnar'}`\n",
      "\n",
      "\n",
      "\u001b[0m\u001b[38;5;200m\u001b[1;3m[{'title': 'Munnar, Kerala, India 14 day weather forecast - Time and Date', 'url': 'https://www.timeanddate.com/weather/@1262463/ext', 'content': 'TueMay 6 |  | 85 / 72\\xa0°F | Isolated tstorms. Broken clouds. | 90\\xa0°F | 4 mph | ↑ | 80% | 52% | 0.08\" | 7(High) | 6:02 am | 6:34 pm\\nWedMay 7 |  | 85 / 72\\xa0°F | Thunderstorms. Cloudy. | 91\\xa0°F | 4 mph | ↑ | 84% | 99% | 0.54\" | 7(High) | 6:02 am | 6:34 pm\\nThuMay 8 |  | 86 / 72\\xa0°F | A few tstorms. Broken clouds. | 88\\xa0°F | 5 mph | ↑ | 72% | 51% | 0.09\" | 7(High) | 6:02 am | 6:34 pm\\n* Updated Thursday, April 24, 2025 2:53:57 pm Munnar time - Weather by CustomWeather, © 2025 [...] | Conditions | Comfort | Precipitation | Sun\\nDay |  | Temperature | Weather | Feels Like | Wind |  | Humidity | Chance | Amount | UV | Sunrise | Sunset\\nThuApr 24 |  | 88 / 71\\xa0°F | A few tstorms. Cloudy. | 83\\xa0°F | 4 mph | ↑ | 79% | 67% | 0.44\" | 7(High) | 6:07 am | 6:32 pm\\nFriApr 25 |  | 86 / 70\\xa0°F | Rain showers. Cloudy. | 88\\xa0°F | 5 mph | ↑ | 69% | 66% | 0.30\" | 5(Moderate) | 6:06 am | 6:32 pm [...] WedApr 30 |  | 83 / 68\\xa0°F | Tstorms late. Overcast. | 84\\xa0°F | 3 mph | ↑ | 80% | 66% | 0.56\" | 5(Moderate) | 6:04 am | 6:33 pm\\nThuMay 1 |  | 84 / 68\\xa0°F | Scattered tstorms late. Overcast. | 85\\xa0°F | 4 mph | ↑ | 76% | 84% | 0.17\" | 7(High) | 6:04 am | 6:33 pm\\nFriMay 2 |  | 84 / 72\\xa0°F | Strong thunderstorms. Overcast. | 89\\xa0°F | 4 mph | ↑ | 79% | 99% | 0.79\" | 7(High) | 6:04 am | 6:33 pm', 'score': 0.9051298}, {'title': 'Weather in new munnar', 'url': 'https://www.weatherapi.com/', 'content': \"{'location': {'name': 'Munnar', 'region': 'Kerala', 'country': 'India', 'lat': 10.1, 'lon': 77.0667, 'tz_id': 'Asia/Kolkata', 'localtime_epoch': 1745491016, 'localtime': '2025-04-24 16:06'}, 'current': {'last_updated_epoch': 1745490600, 'last_updated': '2025-04-24 16:00', 'temp_c': 27.6, 'temp_f': 81.7, 'is_day': 1, 'condition': {'text': 'Patchy rain nearby', 'icon': '//cdn.weatherapi.com/weather/64x64/day/176.png', 'code': 1063}, 'wind_mph': 4.0, 'wind_kph': 6.5, 'wind_degree': 240, 'wind_dir': 'WSW', 'pressure_mb': 1008.0, 'pressure_in': 29.76, 'precip_mm': 1.13, 'precip_in': 0.04, 'humidity': 67, 'cloud': 81, 'feelslike_c': 29.9, 'feelslike_f': 85.8, 'windchill_c': 27.6, 'windchill_f': 81.6, 'heatindex_c': 29.9, 'heatindex_f': 85.8, 'dewpoint_c': 21.0, 'dewpoint_f': 69.8, 'vis_km': 9.0, 'vis_miles': 5.0, 'uv': 2.0, 'gust_mph': 7.0, 'gust_kph': 11.3}}\", 'score': 0.9026771}, {'title': 'Weather Munnar in April 2025: Temperature & Climate', 'url': 'https://en.climate-data.org/asia/india/kerala/munnar-34154/t/april-4/', 'content': '23. April | 19 °C | 67 °F | 24 °C | 76 °F | 16 °C | 61 °F | 2.6 mm | 0.1 inch.\\n24. April | 19 °C | 67 °F | 24 °C | 75 °F | 16 °C | 61 °F | 1.1 mm | 0.0 inch.\\n25. April | 19 °C | 67 °F | 24 °C | 75 °F | 16 °C | 61 °F | 1.8 mm | 0.1 inch.\\n26. April | 19 °C | 67 °F | 24 °C | 76 °F | 16 °C | 61 °F | 0.5 mm | 0.0 inch.\\n27. April | 20 °C | 67 °F | 25 °C | 76 °F | 16 °C | 61 °F | 1.4 mm | 0.1 inch.\\n28. April | 19 °C | 67 °F | 24 °C | 76 °F | 16 °C | 61 °F | 3.1 mm | 0.1 inch. [...] 21.9\\n\\n(71.4)\\n\\n338\\n\\n(13.3)\\n\\n17.9\\n\\n(64.3)\\n\\n15\\n\\n(58.9)\\n\\n21.8\\n\\n(71.3)\\n\\n277\\n\\n(10.9)\\n\\n17.6\\n\\n(63.8)\\n\\n13.8\\n\\n(56.8)\\n\\n22.2\\n\\n(71.9)\\n\\n99\\n\\n(3.9) [...] (76.9) °F\\n\\n26.2 °C\\n\\n(79.2) °F\\n\\n25.5 °C\\n\\n(77.9) °F\\n\\n23.7 °C\\n\\n(74.6) °F\\n\\n21.3 °C\\n\\n(70.3) °F\\n\\n20.8 °C\\n\\n(69.4) °F\\n\\n21 °C\\n\\n(69.7) °F\\n\\n21.7 °C\\n\\n(71.1) °F\\n\\n21.9 °C\\n\\n(71.4) °F\\n\\n21.8 °C\\n\\n(71.3) °F\\n\\n22.2 °C\\n\\n(71.9) °F\\n\\n31\\n\\n(1)\\n\\n31\\n\\n(1)\\n\\n72\\n\\n(2)\\n\\n165\\n\\n(6)\\n\\n256\\n\\n(10)\\n\\n434\\n\\n(17)\\n\\n419\\n\\n(16)\\n\\n321\\n\\n(12)\\n\\n229\\n\\n(9)\\n\\n338\\n\\n(13)\\n\\n277\\n\\n(10)\\n\\n99\\n\\n(3)', 'score': 0.8934678}, {'title': 'Munnar Weather in April 2025 - Temperature & Climate - MakeMyTrip', 'url': 'https://www.makemytrip.com/tripideas/munnar/munnar-weather-in-april', 'content': 'Munnar temperature in April ranges from approximately 13.8C to 22.2C, creating a comfortable environment for visitors to enjoy the natural beauty of the hill', 'score': 0.82391036}, {'title': 'Munnar weather in April 2025 | Kerala: How hot?', 'url': 'https://www.weather2travel.com/kerala/munnar/april/', 'content': \"Munnar weather in April 2025\\n\\nExpect  daytime maximum temperatures of 26°C in Munnar, Kerala in April based on long-term weather averages. There are 8 hours of sunshine per day on average with typically 121 mm of rainfall in the month.\\n\\nMore about Munnar\\n\\nMunnar by month\\n\\nJan\\nFeb\\nMar\\nApr\\nMay\\nJun\\nJul\\nAug\\nSep\\nOct\\nNov\\nDec\\n\\nRecommended for Kerala\\n\\nTUI: up to 7% off holidays booked online\\n\\nView all TUI offers\\n\\nTUI deal finder\\n\\nDestination\\n\\nAny destination [...] The April weather guide for Kerala (Munnar) shows long term weather averages processed from data supplied by CRU (University of East Anglia), the Met Office & the Netherlands Meteorological Institute. Find out more about our data sources.\\n\\nMetric (°C / mm) \\xa0|\\xa0 Imperial (°F / inches)\\n\\nBack to top\\n\\nMore about India\\n\\nHow hot is it in Munnar in April?\\n\\nDaytime temperatures usually reach 26°C in Munnar in April with no heat and humidity, falling to 16°C at night. [...] How sunny is it in Munnar in April?\\n\\nThere are normally 8 hours of bright sunshine each day in Munnar in April - that's 62% of daylight hours.\\n\\nDoes it rain in Munnar in April?\\n\\nThere are usually 6 days with some rain in Munnar in April and the average monthly rainfall is 121mm.\\n\\nMunnar April sunrise & sunset times\\n\\nBrowse the sunrise and sunset times for Munnar in April 2025. Select a month to view Munnar sunrise and sunset times for the next 12 months.\\n\\nJanFebMarAprMayJunJulAugSepOctNovDec\", 'score': 0.8098936}]\u001b[0m\u001b[32;1m\u001b[1;3mThe weather in Munnar for the next few days is expected to be warm, with highs in the mid-80s Fahrenheit (around 30 degrees Celsius) and lows in the low 70s Fahrenheit (around 22 degrees Celsius). There's a chance of isolated thunderstorms and broken clouds.  It's also expected to be quite humid.\u001b[0m\n",
      "\n",
      "\u001b[1m> Finished chain.\u001b[0m\n"
     ]
    },
    {
     "data": {
      "text/plain": [
       "{'input': 'whats the weather in new munnar?',\n",
       " 'chat_history': [HumanMessage(content='hi! my name is pavan how are you?', additional_kwargs={}, response_metadata={}),\n",
       "  AIMessage(content=\"Hi Pavan, I'm doing well, thank you for asking. How can I help you today?\", additional_kwargs={}, response_metadata={})],\n",
       " 'output': \"The weather in Munnar for the next few days is expected to be warm, with highs in the mid-80s Fahrenheit (around 30 degrees Celsius) and lows in the low 70s Fahrenheit (around 22 degrees Celsius). There's a chance of isolated thunderstorms and broken clouds.  It's also expected to be quite humid.\"}"
      ]
     },
     "execution_count": 83,
     "metadata": {},
     "output_type": "execute_result"
    }
   ],
   "source": [
    "agent_with_chat_history.invoke(\n",
    "    {\"input\": \"whats the weather in new munnar?\"},\n",
    "    config={\"configurable\": {\"session_id\": \"firstchat\"}},\n",
    " )"
   ]
  },
  {
   "cell_type": "code",
   "execution_count": 88,
   "metadata": {},
   "outputs": [
    {
     "name": "stdout",
     "output_type": "stream",
     "text": [
      "Human: hi! my name is pavan how are you?\n",
      "AI: Hi Pavan, I'm doing well, thank you for asking. How can I help you today?\n",
      "Human: whats the weather in new munnar?\n",
      "AI: The weather in Munnar for the next few days is expected to be warm, with highs in the mid-80s Fahrenheit (around 30 degrees Celsius) and lows in the low 70s Fahrenheit (around 22 degrees Celsius). There's a chance of isolated thunderstorms and broken clouds.  It's also expected to be quite humid.\n"
     ]
    }
   ],
   "source": [
    "print(message_history)"
   ]
  },
  {
   "cell_type": "markdown",
   "metadata": {},
   "source": [
    "#### ReAct Agent (Reasoning + Acting):\n",
    "**Definition:**\n",
    "\n",
    "- The ReAct framework combines reasoning and acting in a single loop to handle tasks. The agent uses natural language reasoning (thinking through steps) and task actions (performing tasks like calculations or data retrieval).\n",
    "- The agent uses a combination of reasoning steps to guide actions in real-time, using feedback from those actions to further inform the next step in reasoning.\n",
    "\n",
    "**How it works:**\n",
    "\n",
    "- Step 1: The agent receives a question or task.\n",
    "- Step 2: It reasons aloud (in natural language) about how to solve it.\n",
    "- Step 3: Based on its reasoning, it takes actions (e.g., searching a database, calculating something).\n",
    "- Step 4: The results of these actions are integrated into its reasoning and may trigger further actions.\n",
    "- Step 5: It repeats the process until it arrives at a solution.\n",
    "\n",
    "**Key points:**\n",
    "\n",
    "- Combines thinking and doing (reasoning and actions).\n",
    "- Performs iterative steps, updating its process based on action results.\n",
    "- Typically handles complex decision-making scenarios.\n",
    "\n",
    "**Example:**\n",
    "\n",
    "- Original task: “Calculate the total number of apples in a basket if there are 4 baskets and 7 apples in each.”\n",
    "- Reasoning: \"I need to multiply 4 by 7 to get the total number of apples.\"\n",
    "- Action: Perform the multiplication.\n",
    "- Result: \"There are 28 apples.\"\n",
    "- Reasoning: \"I am done.\""
   ]
  },
  {
   "cell_type": "code",
   "execution_count": 89,
   "metadata": {},
   "outputs": [],
   "source": [
    "from langchain.utilities import GoogleSerperAPIWrapper\n",
    "from langchain.agents import Tool\n",
    "from langchain_core.prompts import PromptTemplate\n",
    "from langchain.agents import AgentExecutor, create_react_agent"
   ]
  },
  {
   "cell_type": "code",
   "execution_count": 90,
   "metadata": {},
   "outputs": [],
   "source": [
    "template = '''Answer the following questions as best you can. You have access to the following tools:\n",
    "{tools}\n",
    "Use the following format:\n",
    "Question: the input question you must answer\n",
    "Thought: you should always think about what to do\n",
    "Action: the action to take, should be one of [{tool_names}]\n",
    "Action Input: the input to the action\n",
    "Observation: the result of the action\n",
    "... (this Thought/Action/Action Input/Observation can repeat N times)\n",
    "Thought: I now know the final answer\n",
    "Final Answer: the final answer to the original input question\n",
    "Begin!\n",
    "Question: {input}\n",
    "Thought:{agent_scratchpad}'''"
   ]
  },
  {
   "cell_type": "code",
   "execution_count": 97,
   "metadata": {},
   "outputs": [],
   "source": [
    "prompt = PromptTemplate.from_template(template)"
   ]
  },
  {
   "cell_type": "code",
   "execution_count": 99,
   "metadata": {},
   "outputs": [],
   "source": [
    "from langchain_community.tools import DuckDuckGoSearchRun\n",
    "\n",
    "search = DuckDuckGoSearchRun()\n",
    "\n",
    "tools= [search, wiki_tool,youTube_tool,tavily_tool]"
   ]
  },
  {
   "cell_type": "code",
   "execution_count": 100,
   "metadata": {},
   "outputs": [],
   "source": [
    "search_agent = create_react_agent(llm,tools,prompt)"
   ]
  },
  {
   "cell_type": "code",
   "execution_count": 104,
   "metadata": {},
   "outputs": [],
   "source": [
    "agent_executor_for_reACT = AgentExecutor(\n",
    "    agent=search_agent,\n",
    "    tools=tools,\n",
    "    verbose=True,\n",
    "    return_intermediate_steps=True,\n",
    ")"
   ]
  },
  {
   "cell_type": "code",
   "execution_count": 105,
   "metadata": {},
   "outputs": [
    {
     "name": "stdout",
     "output_type": "stream",
     "text": [
      "\n",
      "\n",
      "\u001b[1m> Entering new AgentExecutor chain...\u001b[0m\n",
      "\u001b[32;1m\u001b[1;3mThought: I need to find out the winning team captain of the 2007 ICC T20 World Cup and their score in the final. I can use Wikipedia to find this information.\n",
      "\n",
      "Action: wikipedia\n",
      "Action Input: 2007 ICC World Twenty20\u001b[0m\u001b[33;1m\u001b[1;3mPage: 2007 World Twenty20\n",
      "Summary: The 2007 ICC World Twenty20 was the inaugural edition of the  Men's T20 World Cup, formerly known as the ICC World Twenty20 that was contested in South Africa from 11 to 24 September 2007. Twelve teams took part in the thirteen-day tournament—the ten Test-playing n\u001b[0m\u001b[32;1m\u001b[1;3mThought: The Wikipedia page gives me the winning team (India) and the captain (MS Dhoni). Now I need to find Dhoni's score in the final.\n",
      "\n",
      "Action: wikipedia\n",
      "Action Input: 2007 ICC World Twenty20 Final\u001b[0m\u001b[33;1m\u001b[1;3mPage: 2007 World Twenty20 final\n",
      "Summary: The 2007 ICC World Twenty20 Final was a Twenty20 International cricket match played between India and Pakistan at the Wanderers Stadium, Johannesburg, South Africa. Administered by the International Cricket Council (ICC) it was the culmination of the 2007 ICC\u001b[0m\u001b[32;1m\u001b[1;3mThe final match summary says that MS Dhoni scored 15*.\n",
      "\n",
      "Final Answer: MS Dhoni captained India to victory in the 2007 ICC T20 World Cup. He scored 15 not out in the final.\u001b[0m\n",
      "\n",
      "\u001b[1m> Finished chain.\u001b[0m\n"
     ]
    }
   ],
   "source": [
    "result = agent_executor_for_reACT.invoke({\"input\": \"Who was the 2007 Icc T20 world cup winning team captian and his score?\"})"
   ]
  },
  {
   "cell_type": "code",
   "execution_count": 107,
   "metadata": {},
   "outputs": [
    {
     "name": "stdout",
     "output_type": "stream",
     "text": [
      "{'input': 'Who was the 2007 Icc T20 world cup winning team captian and his score?', 'output': 'MS Dhoni captained India to victory in the 2007 ICC T20 World Cup. He scored 15 not out in the final.', 'intermediate_steps': [(AgentAction(tool='wikipedia', tool_input='2007 ICC World Twenty20', log='Thought: I need to find out the winning team captain of the 2007 ICC T20 World Cup and their score in the final. I can use Wikipedia to find this information.\\n\\nAction: wikipedia\\nAction Input: 2007 ICC World Twenty20'), \"Page: 2007 World Twenty20\\nSummary: The 2007 ICC World Twenty20 was the inaugural edition of the  Men's T20 World Cup, formerly known as the ICC World Twenty20 that was contested in South Africa from 11 to 24 September 2007. Twelve teams took part in the thirteen-day tournament—the ten Test-playing n\"), (AgentAction(tool='wikipedia', tool_input='2007 ICC World Twenty20 Final', log=\"Thought: The Wikipedia page gives me the winning team (India) and the captain (MS Dhoni). Now I need to find Dhoni's score in the final.\\n\\nAction: wikipedia\\nAction Input: 2007 ICC World Twenty20 Final\"), 'Page: 2007 World Twenty20 final\\nSummary: The 2007 ICC World Twenty20 Final was a Twenty20 International cricket match played between India and Pakistan at the Wanderers Stadium, Johannesburg, South Africa. Administered by the International Cricket Council (ICC) it was the culmination of the 2007 ICC')]}\n"
     ]
    }
   ],
   "source": [
    "print(result)"
   ]
  },
  {
   "cell_type": "markdown",
   "metadata": {},
   "source": [
    "#### ReAct Agent with Custom tools"
   ]
  },
  {
   "cell_type": "code",
   "execution_count": 108,
   "metadata": {},
   "outputs": [],
   "source": [
    "from langchain.tools import tool\n",
    "from langchain import hub\n",
    "from langchain.agents import AgentExecutor, create_react_agent"
   ]
  },
  {
   "cell_type": "code",
   "execution_count": 109,
   "metadata": {},
   "outputs": [],
   "source": [
    "# Custom tool for the Agent \n",
    "@tool\n",
    "def get_employee_id(name):\n",
    "  \"\"\"\n",
    "  To get employee id, it takes employee name as arguments\n",
    "  name(str): Name of the employee\n",
    "  \"\"\"\n",
    "  fake_employees = {\n",
    "    \"Alice\": \"E001\",\n",
    "    \"Bob\": \"E002\",\n",
    "    \"Charlie\": \"E003\",\n",
    "    \"Diana\": \"E004\",\n",
    "    \"Evan\": \"E005\",\n",
    "    \"Fiona\": \"E006\",\n",
    "    \"George\": \"E007\",\n",
    "    \"Hannah\": \"E008\",\n",
    "    \"Ian\": \"E009\",\n",
    "    \"Jasmine\": \"E010\"}\n",
    "  \n",
    "  return fake_employees.get(name,\"Employee not found\")"
   ]
  },
  {
   "cell_type": "code",
   "execution_count": 110,
   "metadata": {},
   "outputs": [],
   "source": [
    "# Custom tool for the Agent \n",
    "@tool\n",
    "def get_employee_salary(employee_id):\n",
    "  \"\"\"\n",
    "  To get the salary of an employee, it takes employee_id as input and return salary\n",
    "  \"\"\"\n",
    "  employee_salaries = {\n",
    "    \"E001\": 56000,\n",
    "    \"E002\": 47000,\n",
    "    \"E003\": 52000,\n",
    "    \"E004\": 61000,\n",
    "    \"E005\": 45000,\n",
    "    \"E006\": 58000,\n",
    "    \"E007\": 49000,\n",
    "    \"E008\": 53000,\n",
    "    \"E009\": 50000,\n",
    "    \"E010\": 55000\n",
    "    }\n",
    "  return employee_salaries.get(employee_id,\"Employee not found\")"
   ]
  },
  {
   "cell_type": "code",
   "execution_count": 111,
   "metadata": {},
   "outputs": [],
   "source": [
    "# Saved React Prompt in langchain hub, we could manually type the prompt as well.\n",
    "prompt = hub.pull(\"hwchase17/react\")"
   ]
  },
  {
   "cell_type": "code",
   "execution_count": 112,
   "metadata": {},
   "outputs": [
    {
     "name": "stdout",
     "output_type": "stream",
     "text": [
      "Answer the following questions as best you can. You have access to the following tools:\n",
      "\n",
      "{tools}\n",
      "\n",
      "Use the following format:\n",
      "\n",
      "Question: the input question you must answer\n",
      "Thought: you should always think about what to do\n",
      "Action: the action to take, should be one of [{tool_names}]\n",
      "Action Input: the input to the action\n",
      "Observation: the result of the action\n",
      "... (this Thought/Action/Action Input/Observation can repeat N times)\n",
      "Thought: I now know the final answer\n",
      "Final Answer: the final answer to the original input question\n",
      "\n",
      "Begin!\n",
      "\n",
      "Question: {input}\n",
      "Thought:{agent_scratchpad}\n"
     ]
    }
   ],
   "source": [
    "print(prompt.template)"
   ]
  },
  {
   "cell_type": "code",
   "execution_count": 125,
   "metadata": {},
   "outputs": [],
   "source": [
    "from langchain_google_genai import ChatGoogleGenerativeAI\n",
    "llm = ChatGoogleGenerativeAI(model=\"gemini-2.0-flash\")"
   ]
  },
  {
   "cell_type": "code",
   "execution_count": 126,
   "metadata": {},
   "outputs": [],
   "source": [
    "tools = [get_employee_salary, get_employee_id]\n",
    "agent = create_react_agent(llm,tools,prompt)\n",
    "\n",
    "agent_executor = AgentExecutor(agent=agent,tools=tools,verbose=True)"
   ]
  },
  {
   "cell_type": "code",
   "execution_count": 127,
   "metadata": {},
   "outputs": [
    {
     "name": "stdout",
     "output_type": "stream",
     "text": [
      "\n",
      "\n",
      "\u001b[1m> Entering new AgentExecutor chain...\u001b[0m\n",
      "\u001b[32;1m\u001b[1;3mI need to find the salary of Jasmine. First, I need to find Jasmine's employee ID. Then, I can use the employee ID to find her salary.\n",
      "Action: get_employee_id\n",
      "Action Input: Jasmine\u001b[0m\u001b[33;1m\u001b[1;3mE010\u001b[0m\u001b[32;1m\u001b[1;3mI have Jasmine's employee ID, which is E010. Now I can use this ID to find her salary.\n",
      "Action: get_employee_salary\n",
      "Action Input: E010\u001b[0m\u001b[36;1m\u001b[1;3m55000\u001b[0m\u001b[32;1m\u001b[1;3mI now know the final answer\n",
      "Final Answer: 55000\u001b[0m\n",
      "\n",
      "\u001b[1m> Finished chain.\u001b[0m\n"
     ]
    },
    {
     "data": {
      "text/plain": [
       "{'input': 'What is the Salary of Jasmine?', 'output': '55000'}"
      ]
     },
     "execution_count": 127,
     "metadata": {},
     "output_type": "execute_result"
    }
   ],
   "source": [
    "agent_executor.invoke({\"input\":\"What is the Salary of Jasmine?\"})"
   ]
  },
  {
   "cell_type": "markdown",
   "metadata": {},
   "source": [
    "##### This given code from the latest version"
   ]
  },
  {
   "cell_type": "code",
   "execution_count": 129,
   "metadata": {},
   "outputs": [],
   "source": [
    "# Import relevant functionality\n",
    "from langchain_community.tools.tavily_search import TavilySearchResults\n",
    "from langchain_core.messages import HumanMessage\n",
    "from langgraph.checkpoint.memory import MemorySaver\n",
    "from langgraph.prebuilt import create_react_agent"
   ]
  },
  {
   "cell_type": "code",
   "execution_count": 130,
   "metadata": {},
   "outputs": [],
   "source": [
    "# Create the agent\n",
    "memory = MemorySaver()\n",
    "search = TavilySearchResults(max_results=2)\n",
    "tools = [search]\n",
    "agent_executor = create_react_agent(llm, tools, checkpointer=memory)"
   ]
  },
  {
   "cell_type": "code",
   "execution_count": 131,
   "metadata": {},
   "outputs": [
    {
     "name": "stdout",
     "output_type": "stream",
     "text": [
      "{'agent': {'messages': [AIMessage(content='Hi Bob! Nice to meet you. Is there anything I can help you with today?', additional_kwargs={}, response_metadata={'prompt_feedback': {'block_reason': 0, 'safety_ratings': []}, 'finish_reason': 'STOP', 'model_name': 'gemini-2.0-flash', 'safety_ratings': []}, id='run-f1019e5c-6368-47c7-9f26-d00cb90b2f4b-0', usage_metadata={'input_tokens': 56, 'output_tokens': 19, 'total_tokens': 75, 'input_token_details': {'cache_read': 0}})]}}\n",
      "----\n",
      "{'agent': {'messages': [AIMessage(content='', additional_kwargs={'function_call': {'name': 'tavily_search_results_json', 'arguments': '{\"query\": \"weather in San Francisco\"}'}}, response_metadata={'prompt_feedback': {'block_reason': 0, 'safety_ratings': []}, 'finish_reason': 'STOP', 'model_name': 'gemini-2.0-flash', 'safety_ratings': []}, id='run-4bea745f-5853-4933-b83f-4347a23f0ba1-0', tool_calls=[{'name': 'tavily_search_results_json', 'args': {'query': 'weather in San Francisco'}, 'id': '122483a5-85aa-41bb-a36a-fbbebf32359c', 'type': 'tool_call'}], usage_metadata={'input_tokens': 81, 'output_tokens': 13, 'total_tokens': 94, 'input_token_details': {'cache_read': 0}})]}}\n",
      "----\n",
      "{'tools': {'messages': [ToolMessage(content='[{\"title\": \"Weather in San Francisco\", \"url\": \"https://www.weatherapi.com/\", \"content\": \"{\\'location\\': {\\'name\\': \\'San Francisco\\', \\'region\\': \\'California\\', \\'country\\': \\'United States of America\\', \\'lat\\': 37.775, \\'lon\\': -122.4183, \\'tz_id\\': \\'America/Los_Angeles\\', \\'localtime_epoch\\': 1745492681, \\'localtime\\': \\'2025-04-24 04:04\\'}, \\'current\\': {\\'last_updated_epoch\\': 1745492400, \\'last_updated\\': \\'2025-04-24 04:00\\', \\'temp_c\\': 11.1, \\'temp_f\\': 52.0, \\'is_day\\': 0, \\'condition\\': {\\'text\\': \\'Overcast\\', \\'icon\\': \\'//cdn.weatherapi.com/weather/64x64/night/122.png\\', \\'code\\': 1009}, \\'wind_mph\\': 11.0, \\'wind_kph\\': 17.6, \\'wind_degree\\': 267, \\'wind_dir\\': \\'W\\', \\'pressure_mb\\': 1016.0, \\'pressure_in\\': 30.01, \\'precip_mm\\': 0.0, \\'precip_in\\': 0.0, \\'humidity\\': 80, \\'cloud\\': 100, \\'feelslike_c\\': 9.0, \\'feelslike_f\\': 48.2, \\'windchill_c\\': 7.7, \\'windchill_f\\': 45.9, \\'heatindex_c\\': 9.3, \\'heatindex_f\\': 48.7, \\'dewpoint_c\\': 8.6, \\'dewpoint_f\\': 47.5, \\'vis_km\\': 16.0, \\'vis_miles\\': 9.0, \\'uv\\': 0.0, \\'gust_mph\\': 15.1, \\'gust_kph\\': 24.2}}\", \"score\": 0.9887597}, {\"title\": \"Thursday, April 24, 2025. San Francisco, CA - Weather Forecast\", \"url\": \"https://weathershogun.com/weather/usa/ca/san-francisco/480/april/2025-04-24\", \"content\": \"San Francisco, California Weather: Thursday, April 24, 2025. Cloudy weather, overcast skies with clouds. Day 61°. Night 50°.\", \"score\": 0.96323407}]', name='tavily_search_results_json', id='0d91f323-6160-4d92-8a43-79d1c2e02fb4', tool_call_id='122483a5-85aa-41bb-a36a-fbbebf32359c', artifact={'query': 'weather in San Francisco', 'follow_up_questions': None, 'answer': None, 'images': [], 'results': [{'title': 'Weather in San Francisco', 'url': 'https://www.weatherapi.com/', 'content': \"{'location': {'name': 'San Francisco', 'region': 'California', 'country': 'United States of America', 'lat': 37.775, 'lon': -122.4183, 'tz_id': 'America/Los_Angeles', 'localtime_epoch': 1745492681, 'localtime': '2025-04-24 04:04'}, 'current': {'last_updated_epoch': 1745492400, 'last_updated': '2025-04-24 04:00', 'temp_c': 11.1, 'temp_f': 52.0, 'is_day': 0, 'condition': {'text': 'Overcast', 'icon': '//cdn.weatherapi.com/weather/64x64/night/122.png', 'code': 1009}, 'wind_mph': 11.0, 'wind_kph': 17.6, 'wind_degree': 267, 'wind_dir': 'W', 'pressure_mb': 1016.0, 'pressure_in': 30.01, 'precip_mm': 0.0, 'precip_in': 0.0, 'humidity': 80, 'cloud': 100, 'feelslike_c': 9.0, 'feelslike_f': 48.2, 'windchill_c': 7.7, 'windchill_f': 45.9, 'heatindex_c': 9.3, 'heatindex_f': 48.7, 'dewpoint_c': 8.6, 'dewpoint_f': 47.5, 'vis_km': 16.0, 'vis_miles': 9.0, 'uv': 0.0, 'gust_mph': 15.1, 'gust_kph': 24.2}}\", 'score': 0.9887597, 'raw_content': None}, {'url': 'https://weathershogun.com/weather/usa/ca/san-francisco/480/april/2025-04-24', 'title': 'Thursday, April 24, 2025. San Francisco, CA - Weather Forecast', 'content': 'San Francisco, California Weather: Thursday, April 24, 2025. Cloudy weather, overcast skies with clouds. Day 61°. Night 50°.', 'score': 0.96323407, 'raw_content': None}], 'response_time': 1.7})]}}\n",
      "----\n",
      "{'agent': {'messages': [AIMessage(content=\"The weather in San Francisco is overcast. It's 52°F (11.1°C). The wind is blowing from the west at 11 mph.\", additional_kwargs={}, response_metadata={'prompt_feedback': {'block_reason': 0, 'safety_ratings': []}, 'finish_reason': 'STOP', 'model_name': 'gemini-2.0-flash', 'safety_ratings': []}, id='run-ede2f9b5-e47a-4482-b5f7-403669996ed7-0', usage_metadata={'input_tokens': 684, 'output_tokens': 37, 'total_tokens': 721, 'input_token_details': {'cache_read': 0}})]}}\n",
      "----\n"
     ]
    }
   ],
   "source": [
    "# Use the agent\n",
    "config = {\"configurable\": {\"thread_id\": \"abc123\"}}\n",
    "for chunk in agent_executor.stream(\n",
    "    {\"messages\": [HumanMessage(content=\"hi im bob! and i live in sf\")]}, config\n",
    "):\n",
    "    print(chunk)\n",
    "    print(\"----\")\n",
    "\n",
    "for chunk in agent_executor.stream(\n",
    "    {\"messages\": [HumanMessage(content=\"whats the weather where I live?\")]}, config\n",
    "):\n",
    "    print(chunk)\n",
    "    print(\"----\")"
   ]
  },
  {
   "cell_type": "markdown",
   "metadata": {},
   "source": [
    "#### Self-Ask with Search Agent:\n",
    "**Definition:**\n",
    "\n",
    "- This approach allows the AI to ask itself follow-up questions when it doesn't immediately know the answer. It performs a recursive questioning process to break down complex queries into smaller, more manageable ones.\n",
    "- Once the AI generates these follow-up questions, it performs an external search (e.g., through Google or an internal database) to gather the necessary information before formulating a response.\n",
    "_**How it works:**_\n",
    "\n",
    "- Step 1: Receive a complex question.\n",
    "- Step 2: The agent identifies sub-questions or follow-up questions.\n",
    "- Step 3: It performs a search or fetches answers to these questions from external resources (like a web search).\n",
    "- Step 4: The answers are aggregated to provide a complete response.\n",
    "\n",
    "**Key points:**\n",
    "\n",
    "- Emphasizes question decomposition.\n",
    "- Relies on external search for sub-questions.\n",
    "- Useful for answering open-ended or broad questions where the answer is not - immediately available.\n",
    "\n",
    "**Example:**\n",
    "\n",
    "- Original question: “How many moons does Jupiter have?”\n",
    "- Sub-question: “What is Jupiter?” (search)\n",
    "- Sub-question: “What are moons?” (search)\n",
    "- Finally, it retrieves the answer: \"Jupiter has 79 moons.\""
   ]
  },
  {
   "cell_type": "markdown",
   "metadata": {},
   "source": []
  }
 ],
 "metadata": {
  "kernelspec": {
   "display_name": "langraph env",
   "language": "python",
   "name": "langgraph-env"
  },
  "language_info": {
   "codemirror_mode": {
    "name": "ipython",
    "version": 3
   },
   "file_extension": ".py",
   "mimetype": "text/x-python",
   "name": "python",
   "nbconvert_exporter": "python",
   "pygments_lexer": "ipython3",
   "version": "3.12.0"
  }
 },
 "nbformat": 4,
 "nbformat_minor": 2
}
