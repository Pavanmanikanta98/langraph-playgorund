{
 "cells": [
  {
   "cell_type": "code",
   "execution_count": 1,
   "metadata": {},
   "outputs": [
    {
     "data": {
      "text/plain": [
       "True"
      ]
     },
     "execution_count": 1,
     "metadata": {},
     "output_type": "execute_result"
    }
   ],
   "source": [
    "import os\n",
    "from dotenv import load_dotenv\n",
    "load_dotenv()"
   ]
  },
  {
   "cell_type": "code",
   "execution_count": 2,
   "metadata": {},
   "outputs": [],
   "source": [
    "GOOGLE_API_KEY=os.getenv(\"GOOGLE_API_KEY\")\n",
    "TAVILY_API_KEY=os.getenv(\"TAVILY_API_KEY\")\n",
    "# print(GOOGLE_API_KEY)\n",
    "LANGCHAIN_API_KEY=os.getenv(\"LANGSMITH_API_KEY\")\n",
    "\n",
    "LANGCHAIN_PROJECT=os.getenv(\"LANGSMITH_PROJECT\")\n",
    "LANGCHAIN_TRACING_V2 = os.getenv(\"LANGSMITH_TRACING\")\n",
    "LANGCHAIN_ENDPOINT = os.getenv(\"LANGSMITH_ENDPOINT\")"
   ]
  },
  {
   "cell_type": "code",
   "execution_count": 3,
   "metadata": {},
   "outputs": [],
   "source": [
    "os.environ[\"GOOGLE_API_KEY\"] = GOOGLE_API_KEY\n",
    "os.environ['TAVILY_API_KEY'] = TAVILY_API_KEY\n",
    "os.environ[\"LANGCHAIN_API_KEY\"] = LANGCHAIN_API_KEY\n",
    "os.environ[\"LANGCHAIN_TRACING_V2\"] = LANGCHAIN_TRACING_V2\n",
    "os.environ[\"LANGCHAIN_ENDPOINT\"] = LANGCHAIN_ENDPOINT\n",
    "os.environ[\"LANGCHAIN_PROJECT\"]=LANGCHAIN_PROJECT"
   ]
  },
  {
   "cell_type": "code",
   "execution_count": 4,
   "metadata": {},
   "outputs": [
    {
     "name": "stderr",
     "output_type": "stream",
     "text": [
      "USER_AGENT environment variable not set, consider setting it to identify your requests.\n"
     ]
    }
   ],
   "source": [
    "from langchain.text_splitter import RecursiveCharacterTextSplitter\n",
    "from langchain_community.document_loaders import WebBaseLoader\n",
    "from langchain_community.vectorstores import Chroma"
   ]
  },
  {
   "cell_type": "code",
   "execution_count": 5,
   "metadata": {},
   "outputs": [],
   "source": [
    "from langchain_google_genai import GoogleGenerativeAIEmbeddings\n",
    "embeddings = GoogleGenerativeAIEmbeddings(model=\"models/embedding-001\")\n",
    "\n",
    "from langchain_google_genai import ChatGoogleGenerativeAI\n",
    "llm = ChatGoogleGenerativeAI(model=\"gemini-1.5-pro\")"
   ]
  },
  {
   "cell_type": "markdown",
   "metadata": {},
   "source": [
    "#### ALternative"
   ]
  },
  {
   "cell_type": "code",
   "execution_count": 6,
   "metadata": {},
   "outputs": [],
   "source": [
    "# '''from langchain_huggingface import HuggingFaceEmbeddings\n",
    "# embeddings=HuggingFaceEmbeddings(model_name=\"all-MiniLM-L6-v2\")'''\n",
    "# from langchain_groq import ChatGroq\n",
    "# import os\n",
    "# llm=ChatGroq(model_name=\"Gemma2-9b-It\")"
   ]
  },
  {
   "cell_type": "code",
   "execution_count": 7,
   "metadata": {},
   "outputs": [
    {
     "name": "stdout",
     "output_type": "stream",
     "text": [
      "Hi there! How can I help you today?\n",
      "goodbye take care yourself\n"
     ]
    }
   ],
   "source": [
    "while True:\n",
    "    question=input(\"type your question. if you want to quit the chat write quit\")\n",
    "    if question !=\"quit\":\n",
    "        print(llm.invoke(question).content)\n",
    "    else:\n",
    "        print(\"goodbye take care yourself\")\n",
    "        break"
   ]
  },
  {
   "cell_type": "markdown",
   "metadata": {},
   "source": [
    "#### memory Concept"
   ]
  },
  {
   "cell_type": "code",
   "execution_count": 8,
   "metadata": {},
   "outputs": [],
   "source": [
    "from langchain_core.chat_history import BaseChatMessageHistory\n",
    "from langchain_core.chat_history import InMemoryChatMessageHistory\n",
    "from langchain_core.runnables.history import RunnableWithMessageHistory\n",
    "from langchain_core.messages import AIMessage"
   ]
  },
  {
   "cell_type": "code",
   "execution_count": 9,
   "metadata": {},
   "outputs": [],
   "source": [
    "store = {}"
   ]
  },
  {
   "cell_type": "code",
   "execution_count": 10,
   "metadata": {},
   "outputs": [],
   "source": [
    "def get_session_history(session_id: str) -> BaseChatMessageHistory:\n",
    "    if session_id not in store:\n",
    "        store[session_id] = InMemoryChatMessageHistory()\n",
    "    return store[session_id]"
   ]
  },
  {
   "cell_type": "code",
   "execution_count": 11,
   "metadata": {},
   "outputs": [],
   "source": [
    "config = {\"configurable\": {\"session_id\": \"firstchat\"}}"
   ]
  },
  {
   "cell_type": "code",
   "execution_count": 12,
   "metadata": {},
   "outputs": [],
   "source": [
    "model_with_memory=RunnableWithMessageHistory(llm,get_session_history)"
   ]
  },
  {
   "cell_type": "code",
   "execution_count": 13,
   "metadata": {},
   "outputs": [
    {
     "data": {
      "text/plain": [
       "\"Hi Pavan Manikanta! It's nice to meet you.  Is there anything I can help you with today?\""
      ]
     },
     "execution_count": 13,
     "metadata": {},
     "output_type": "execute_result"
    }
   ],
   "source": [
    "model_with_memory.invoke((\"Hi! I'm Pavan Manikanta\"),config=config).content"
   ]
  },
  {
   "cell_type": "code",
   "execution_count": 14,
   "metadata": {},
   "outputs": [
    {
     "data": {
      "text/plain": [
       "'Your name is Pavan Manikanta.  You told me at the beginning of our conversation.'"
      ]
     },
     "execution_count": 14,
     "metadata": {},
     "output_type": "execute_result"
    }
   ],
   "source": [
    "model_with_memory.invoke((\"tell me what is my name?\"),config=config).content"
   ]
  },
  {
   "cell_type": "code",
   "execution_count": 15,
   "metadata": {},
   "outputs": [
    {
     "data": {
      "text/plain": [
       "{'firstchat': InMemoryChatMessageHistory(messages=[HumanMessage(content=\"Hi! I'm Pavan Manikanta\", additional_kwargs={}, response_metadata={}), AIMessage(content=\"Hi Pavan Manikanta! It's nice to meet you.  Is there anything I can help you with today?\", additional_kwargs={}, response_metadata={'prompt_feedback': {'block_reason': 0, 'safety_ratings': []}, 'finish_reason': 'STOP', 'model_name': 'gemini-1.5-pro-002', 'safety_ratings': []}, id='run-c2c30268-275d-4dd0-9a57-537cc4479b2f-0', usage_metadata={'input_tokens': 10, 'output_tokens': 27, 'total_tokens': 37, 'input_token_details': {'cache_read': 0}}), HumanMessage(content='tell me what is my name?', additional_kwargs={}, response_metadata={}), AIMessage(content='Your name is Pavan Manikanta.  You told me at the beginning of our conversation.', additional_kwargs={}, response_metadata={'prompt_feedback': {'block_reason': 0, 'safety_ratings': []}, 'finish_reason': 'STOP', 'model_name': 'gemini-1.5-pro-002', 'safety_ratings': []}, id='run-af0e45f0-0170-4248-8cb8-1d24e588a625-0', usage_metadata={'input_tokens': 43, 'output_tokens': 21, 'total_tokens': 64, 'input_token_details': {'cache_read': 0}})])}"
      ]
     },
     "execution_count": 15,
     "metadata": {},
     "output_type": "execute_result"
    }
   ],
   "source": [
    "store"
   ]
  },
  {
   "cell_type": "markdown",
   "metadata": {},
   "source": [
    "#### Implementing LCEL"
   ]
  },
  {
   "cell_type": "code",
   "execution_count": 16,
   "metadata": {},
   "outputs": [],
   "source": [
    "from langchain_community.document_loaders import TextLoader, DirectoryLoader\n",
    "from langchain.text_splitter import RecursiveCharacterTextSplitter\n",
    "from langchain_community.vectorstores import Chroma\n",
    "from langchain import PromptTemplate\n",
    "from langchain_core.runnables import RunnableParallel, RunnablePassthrough , RunnableLambda\n",
    "from langchain_core.output_parsers import StrOutputParser"
   ]
  },
  {
   "cell_type": "code",
   "execution_count": 17,
   "metadata": {},
   "outputs": [],
   "source": [
    "### Reading the txt files from source directory\n",
    "\n",
    "loader = DirectoryLoader('../data', glob=\"./*.txt\", loader_cls=TextLoader)\n",
    "docs = loader.load()"
   ]
  },
  {
   "cell_type": "code",
   "execution_count": 18,
   "metadata": {},
   "outputs": [
    {
     "data": {
      "text/plain": [
       "[Document(metadata={'source': '../data/firebase_studio.txt'}, page_content='Firebase Studio: An AI-Powered Cloud IDE for Seamless Full-Stack Development\\n\\n1. Introduction: The Evolving Landscape of Application Development and the Advent of Cloud IDEs\\n\\nThe world of software development is in a constant state of flux, driven by ever-increasing demands for more complex, feature-rich, and rapidly delivered applications. From simple websites, we\\'ve moved to dynamic web applications, powerful mobile apps, and intricate systems that connect users across multiple devices and platforms. This evolution has led to a significant rise in the prominence of \"full-stack\" development, where developers are expected to possess skills across the entire application stack, from the user interface (frontend) to the server-side logic (backend), databases, and deployment infrastructure.\\n\\nThis growing complexity places considerable demands on developers and their tools. Setting up and managing local development environments – installing IDEs, configuring SDKs, managing dependencies, databases, servers, and emulators – can be a time-consuming and often frustrating process. Furthermore, ensuring consistency across development teams and onboarding new members efficiently poses significant challenges. As applications become more distributed and rely on various backend services, the need for development environments that can seamlessly interact with these services becomes paramount.\\n\\nSimultaneously, the field of artificial intelligence has advanced rapidly, moving beyond theoretical research into practical applications that can augment human capabilities. In software development, this has manifested in AI tools designed to assist with coding, debugging, testing, and even system design. The potential of AI to accelerate development, reduce errors, and free up developers to focus on creative problem-solving is immense.\\n\\nIt is against this backdrop that Google introduces Firebase Studio, an ambitious new offering positioned as an AI-powered, cloud-based integrated development environment specifically tailored for the Firebase ecosystem. Firebase Studio is not merely an upgrade to existing Firebase tooling; it represents a distinct paradigm shift, aiming to provide a unified, intelligent, and accessible platform that simplifies the entire lifecycle of building and deploying full-stack applications powered by Firebase services. It is Google\\'s vision for a more streamlined, collaborative, and AI-augmented development experience, designed to meet the challenges of modern application development head-on.\\n\\n2. The Genesis of Firebase Studio: Building on Project IDX and the Firebase Ecosystem\\n\\nTo fully appreciate Firebase Studio, it\\'s essential to understand its lineage and the ecosystem it serves. Firebase, since its acquisition by Google, has grown into a comprehensive platform offering a suite of backend-as-a-service (BaaS) tools that abstract away many of the complexities of server-side programming and infrastructure management. Services like Authentication, Firestore, Realtime Database, Cloud Functions, Hosting, Cloud Storage, and many others provide developers with ready-to-use building blocks for creating scalable and robust applications without needing to manage servers. Firebase has become a go-to platform for mobile and web developers, particularly favored by startups and individual developers for its ease of use, generous free tier, and integrated nature.\\n\\nPrior to Firebase Studio, Google had explored the concept of a cloud-based IDE with Project IDX. Launched as an experiment, Project IDX aimed to provide a general-purpose cloud development environment that supported various frameworks and languages, with an early focus on AI assistance. It demonstrated the potential of running development workflows entirely in the cloud, accessible via a web browser, and hinted at the power of integrating AI directly into the coding process. Project IDX served as a valuable proving ground for the underlying technology and the cloud IDE concept within Google.\\n\\nFirebase Studio emerges as the evolution of Project IDX, taking the core ideas of a cloud IDE and AI assistance but narrowing the focus specifically to optimize the experience for Firebase developers. This strategic pivot allows Firebase Studio to deeply integrate with the nuances and workflows of the Firebase platform, making the interaction between the IDE and Firebase services exceptionally seamless. While Project IDX was broader in scope, Firebase Studio is specialized, aiming to become the definitive development environment for building applications that rely heavily on Firebase. This focus allows for tighter integrations and features specifically designed to leverage the strengths of Firebase, such as streamlined deployment to Firebase Hosting or direct interaction with Firestore data within the IDE. The \"Studio\" moniker suggests a dedicated space or workshop, emphasizing its role as a primary workspace for Firebase projects. It consolidates disparate tools and workflows into a single, intelligent environment.\\n\\nFirebase Studio\\'s identity is thus forged from three core pillars: it is Cloud-Based, providing accessibility and standardization; it is AI-Powered, leveraging Gemini for intelligent assistance; and it is Firebase-Centric, offering deep integrations with the services that form the backbone of countless applications. This combination aims to create a development experience that is not only more efficient but also more intuitive and powerful for anyone building on Firebase.\\n\\n3. Architectural Foundation: The Cloud-Based Paradigm\\n\\nAt its heart, Firebase Studio is a cloud IDE. This architectural choice fundamentally shapes the developer experience and offers distinct advantages and characteristics compared to traditional local development environments.\\n\\nDefining a Cloud IDE\\nA cloud IDE is an integrated development environment that runs remotely on servers in the cloud, rather than being installed and executed directly on a developer\\'s local machine. Developers access the IDE through a web browser, interacting with their code, tools, and project resources via the internet. The computational heavy lifting – compiling, running code, managing dependencies, executing build processes – happens on the remote servers.\\n\\nAccessibility and Environment Standardization\\nOne of the most significant benefits of a cloud-based paradigm is accessibility. Developers can access their complete development environment from virtually any device with a modern web browser and an internet connection, whether it\\'s a powerful desktop, a laptop, or even a tablet. This removes the dependency on high-end local hardware for computationally intensive tasks. Furthermore, cloud IDEs provide a standardized development environment for an entire team. Everyone is working in the same configured environment with the same dependencies and tool versions, drastically reducing the friction caused by discrepancies in local setups – the dreaded \"it works on my machine\" problem. Onboarding new team members becomes much simpler, as they can be granted access to a pre-configured workspace almost instantly, without spending hours installing software and resolving compatibility issues.\\n\\nReduced Local Setup and Machine Requirements\\nFor developers, this means less time spent on environment setup and maintenance. Installing operating systems, programming languages, SDKs, databases, web servers, and IDEs locally can be a complex and time-consuming process, prone to conflicts and errors. With Firebase Studio, this entire layer of complexity is managed in the cloud. Developers simply open their browser, navigate to the Firebase Studio URL, and log in to access their ready-to-code workspace. This is particularly beneficial for developers using less powerful machines or those who frequently switch between different projects with varying technology stacks.\\n\\nCollaboration Without Friction\\nCloud-based environments inherently facilitate collaboration. Multiple developers can potentially work within the same shared workspace, viewing and editing code in real-time (though specific real-time collaboration features would depend on the implementation, building on the collaborative potential of Code OSS\\'s foundation). Sharing project states, demonstrating issues, or pair programming becomes significantly easier when the entire development environment is accessible to authorized team members in the cloud. This can streamline code reviews, debugging sessions, and overall team coordination.\\n\\nUnderlying Infrastructure: Leveraging Google Cloud\\nWhile specific details about the underlying infrastructure powering Firebase Studio are often kept under wraps, it is reasonable to assume it heavily leverages Google Cloud Platform (GCP). GCP provides a robust, scalable, and globally distributed infrastructure that can host the development workspaces, manage computational resources, and ensure high availability and performance. This includes virtual machines for running the IDE instances, storage for project files, networking capabilities for browser access, and potentially containerization technologies to isolate and manage different workspaces. Leveraging GCP\\'s global network also helps in providing relatively low latency access to the IDE from various geographical locations.\\n\\nImplications of Being Cloud-Native: Connectivity and Performance\\nHowever, the cloud-based paradigm is not without its implications. The most significant is the absolute dependency on a stable internet connection. If the internet goes down, access to the development environment is lost, unlike a local IDE where development can continue uninterrupted. While local caching or limited offline modes are possibilities for future iterations, the current model necessitates constant connectivity.\\n\\nPerformance can also be a variable factor. While the remote servers might be powerful, the responsiveness of the IDE can be affected by network latency between the developer\\'s browser and the cloud server. Tasks requiring significant data transfer or real-time feedback might feel slightly less immediate than on a high-performance local machine, although advancements in streaming and remote rendering technologies continue to minimize this gap. The performance also depends on the resources allocated to each workspace, which might vary based on the subscription tier (especially after the preview phase). Security is another critical consideration, as code and project data reside on remote servers, necessitating robust security measures, access controls, and compliance certifications from the provider.\\n\\nDespite these challenges, the benefits of accessibility, standardization, and reduced local overhead make the cloud-based paradigm a compelling choice for a modern development environment, particularly one designed to integrate tightly with cloud-based backend services like Firebase.\\n\\n4. The Developer\\'s Workbench: Built on the Familiarity of Code OSS\\n\\nGoogle\\'s decision to base Firebase Studio on Code OSS, the open-source foundation of Microsoft\\'s highly popular Visual Studio Code, is a strategic move that significantly impacts the developer experience. Rather than building an IDE from scratch, Firebase Studio inherits a mature, feature-rich, and widely familiar interface and core functionality.\\n\\nThe Strategic Choice of Code OSS\\nVisual Studio Code has become one of the most used code editors globally due praised for its speed, flexibility, and extensive ecosystem. Basing Firebase Studio on Code OSS allows Google to immediately provide a high-quality coding environment without reinventing the wheel. Developers who are already comfortable with VS Code can transition to Firebase Studio with minimal learning curve, as the layout, keyboard shortcuts, command palette, and core editing features are largely the same.\\n\\nBenefits of a Familiar Interface and Feature Set\\nThis familiarity is a major advantage for adoption. Developers can leverage their existing muscle memory and knowledge of VS Code features from day one. The core editing experience is robust, offering features like:\\n\\nSyntax Highlighting: Coloring code elements for improved readability across numerous languages.\\nIntelligent Code Completion (IntelliSense): Providing context-aware suggestions for variables, functions, classes, and methods as the developer types.\\nCode Snippets: Quickly inserting common code patterns.\\nLinting and Error Checking: Identifying potential issues and syntax errors in real-time.\\nCode Formatting: Automatically formatting code to adhere to style guides.\\nMulti-cursor Editing: Editing multiple lines simultaneously.\\nIntegrated Terminal: Direct access to a command-line interface within the IDE for running scripts, installing packages, and executing commands.\\nIntegrated Terminal Access\\nThe integrated terminal is a crucial component of modern development workflows. It allows developers to interact with their project using command-line tools without leaving the IDE. In Firebase Studio, this terminal likely provides access to a Linux-based environment running on the cloud server hosting the workspace. This enables developers to use tools like npm, yarn, git, Firebase CLI commands, and potentially language-specific package managers or build tools directly within their cloud workspace.\\n\\nFile Management and Project Structure\\nFirebase Studio provides a file explorer panel similar to VS Code, allowing developers to navigate their project\\'s directory structure, create, delete, rename, and move files and folders. Managing project assets, configuration files (like firebase.json), and source code is intuitive within this familiar interface. The structure of the cloud workspace mirrors that of a local project directory.\\n\\nSource Control Integration: A Gateway to Collaboration and Versioning\\nEffective source control is fundamental to team development and project history management. Firebase Studio integrates with popular Git hosting platforms like GitHub, GitLab, and Bitbucket. Developers can clone repositories, make commits, push changes, pull updates, manage branches, and handle merge conflicts directly within the IDE\\'s source control panel, which is a standard feature inherited from Code OSS. This integration is vital for collaboration, allowing teams to manage their shared codebase efficiently within the cloud environment.\\n\\nCustomization and Extensions: Bridging the Gap with Local Environments\\nOne of the most powerful aspects of VS Code is its extensive marketplace of extensions that add new features, support additional languages or frameworks, integrate with external services, and customize the user interface. Firebase Studio\\'s reliance on Code OSS suggests a degree of compatibility with this ecosystem. While not all VS Code extensions may work perfectly in a cloud environment due to differences in architecture or access to local resources, Firebase Studio is indicated to support access to extensions from the Open VSX Registry (an open alternative to the VS Code Marketplace). This allows developers to bring some of their preferred tools and customizations into the cloud, enhancing their productivity and tailoring the environment to their specific needs. However, the extent to which complex extensions requiring deep operating system interaction or specific local dependencies will function remains a point of practical exploration.\\n\\nIn essence, by building on Code OSS, Firebase Studio provides a solid, familiar, and capable foundation for writing and managing code, allowing developers to feel at home while benefiting from the cloud-based and AI-powered features.\\n\\n5. The Intelligence Layer: Harnessing the Power of Gemini AI\\n\\nThe defining feature that elevates Firebase Studio beyond a standard cloud IDE is its deep integration with Google\\'s Gemini AI model. This is not just a bolted-on AI assistant; Gemini is woven into the fabric of the development experience, aiming to provide intelligent support at various stages of the coding process.\\n\\nThe Role of AI in Modern Coding\\nArtificial intelligence is increasingly being leveraged to augment developer capabilities. AI-powered tools can automate repetitive tasks, suggest code patterns, identify potential errors, and even generate significant portions of code based on descriptions or examples. This can lead to faster development cycles, reduced boilerplate, and allow developers to focus on the more creative and complex aspects of application logic. Firebase Studio aims to harness this potential directly within the development environment.\\n\\nGemini Integration: More Than Just a Chatbot\\nGemini\\'s integration in Firebase Studio goes beyond a simple chat interface where you ask questions and get code back. While conversational interaction is likely a part of it (as suggested by features like chatting with documentation), the AI is designed to be contextually aware of the code being written, the project structure, and potentially the connected Firebase services. This allows for more relevant and proactive assistance.\\n\\nSpecific AI-Assisted Features:\\nCode Generation: From Prompts to Functional Code: One of the most prominent AI features is the ability to generate code from natural language descriptions. A developer could potentially describe a function\\'s purpose (\"create a function to add a new user to Firestore with fields name and email\") or a UI component (\"generate a React component for a login form\"), and Gemini could provide a starting point or even complete code snippets. This significantly accelerates the initial coding phase.\\nCode Completion and Suggestions: Contextual Assistance: Building upon traditional IntelliSense, Gemini can offer more intelligent and context-aware code suggestions. Based on the surrounding code, variable names, and imported libraries, it can predict the next logical piece of code, suggest entire lines or blocks, or recommend how to use Firebase SDK methods correctly.\\nCode Explanation and Understanding: Demystifying Complex Logic: Developers often need to understand existing code, whether it\\'s their own from weeks past or code written by others. Gemini can potentially explain complex code sections, outline the logic of a function, or summarize the purpose of a file. This is invaluable for onboarding new team members or revisiting older projects. The mention of chatting with a \"wiki-style knowledge base\" about the codebase suggests an advanced form of this explanation capability.\\nDebugging and Error Resolution: Intelligent Troubleshooting: When errors occur, Gemini can assist in identifying the root cause. By analyzing error messages and the relevant code, it can suggest potential fixes or debugging steps. This can drastically reduce the time spent troubleshooting, particularly for common issues or unfamiliar error patterns.\\nCode Refactoring and Optimization: Improving Quality with AI Insights: Gemini can analyze code for potential improvements in terms of readability, efficiency, or adherence to best practices. It might suggest ways to refactor functions, optimize database queries, or improve performance, acting as an intelligent code reviewer.\\nThe App Prototyping Agent: Rapid Ideation and Structure Generation: This specialized agent appears focused on accelerating the very beginning of a project. By providing a description of the desired application, the agent can help define key architectural elements like the user interface layout, the database schema (for Firestore/RTDB), and the flow of AI interactions (if integrating Vertex AI). This allows developers to quickly get a structural outline and initial code generated for their application idea.\\nAI for Testing: The App Testing Agent and Beyond: The mention of an \"App Testing agent\" and integration with Firebase App Distribution\\'s testing capabilities suggests AI will play a role in testing. This could involve generating test cases based on code, helping write unit or integration tests, or even simulating user interactions (as hinted by the example of an agent testing a hiking app). AI-powered testing can help improve code coverage and identify potential issues earlier in the development cycle.\\nPrompt Engineering within Firebase Studio\\nWorking effectively with AI code assistants often involves \"prompt engineering\" – crafting clear and specific instructions to get the desired output. Firebase Studio likely provides an intuitive interface for interacting with Gemini, allowing developers to refine their prompts and iterate on the AI\\'s responses to get the most relevant and accurate code or information.\\n\\nTraining and Fine-tuning AI Models (Potential/Future)\\nWhile not explicitly detailed for the preview, a potential future evolution could involve capabilities for developers to fine-tune AI models with their own codebase, allowing the AI to become even more contextually aware and helpful for specific projects or team coding styles.\\n\\nConsiderations and Best Practices for AI-Assisted Development\\nWhile incredibly powerful, relying on AI for coding requires careful consideration. Developers should treat AI-generated code as a starting point or a suggestion, not a definitive solution. It is crucial to review, understand, and test any code provided by the AI thoroughly before integrating it into a production application. Over-reliance can hinder a developer\\'s understanding and problem-solving skills.\\n\\nEthical Implications and Responsible AI Usage\\nAs with any AI tool, there are ethical considerations. Developers must be mindful of potential biases in the training data that could be reflected in generated code, the security implications of relying on AI for sensitive logic, and the importance of maintaining human oversight and accountability for the final code. Firebase Studio, as a platform, will likely need to provide guidelines and features that encourage responsible AI usage.\\n\\nIn summary, the Gemini integration in Firebase Studio is designed to be a transformative element, providing intelligent, context-aware assistance across the development lifecycle, with a specific focus on accelerating prototyping, coding, and understanding the intricacies of building with Firebase.\\n\\n6. Deep Integration with Firebase Services: A Unified Ecosystem\\n\\nThe core mission of Firebase Studio is to be the ideal environment for building with Firebase. This is achieved through deep, native integrations with the various services offered by the Firebase platform. This goes beyond simply including the Firebase SDKs in a project; it involves providing IDE features that directly interact with and manage Firebase resources.\\n\\nThe Value of Native Service Integration\\nIntegrating Firebase services directly into the IDE significantly streamlines the development workflow. Developers can perform tasks that would typically require switching to the Firebase console, running CLI commands, or writing boilerplate code, all within a single environment. This reduces context switching, minimizes friction, and allows developers to remain focused on writing application logic.\\n\\nIntegrating with Firebase Authentication: Streamlined User Management\\nFirebase Authentication is a fundamental service for managing users. Firebase Studio could potentially offer features to:\\n\\nEasily add the Authentication SDK to the project.\\nView and manage authenticated users within the IDE (perhaps a dedicated panel).\\nAssist in implementing different authentication providers (Email/Password, Google, Facebook, etc.) by generating boilerplate code or providing guided setup workflows.\\nHelp write and test Firebase Authentication Security Rules.\\nWorking with Firebase Databases (Firestore and Realtime Database): Data Interaction and Security Rules\\nInteraction with databases is central to most applications. Firebase Studio integration could include:\\n\\nBrowse data stored in Firestore and Realtime Database collections/paths directly within the IDE.\\nWriting and testing database Security Rules with immediate feedback.\\nAssistance in writing queries for data retrieval.\\nGenerating data models or interfaces based on database structures.\\nDeveloping and Deploying Cloud Functions for Firebase: Serverless Backend within the IDE\\nCloud Functions are the primary way to add custom backend logic to Firebase applications. Firebase Studio provides a first-class experience for functions development:\\n\\nWriting Cloud Functions code (typically in Node.js, Python, etc.) within the editor.\\nSetting up triggers (HTTP requests, database changes, authentication events, etc.).\\nDebugging functions locally using the Firebase Local Emulator Suite integration.\\nDirectly deploying functions to the Firebase environment with a simple action within the IDE.\\nViewing function logs (potentially) for debugging deployed functions.\\nFirebase Hosting: Simplified Deployment and Management of Web Assets\\nFor web applications, Firebase Hosting provides fast and secure hosting. Firebase Studio streamlines this:\\n\\nConfiguring hosting settings (like redirects, headers).\\nPreviewing the web application before deployment.\\nDeploying web assets to Firebase Hosting directly from the IDE.\\nManaging different hosting sites (if applicable).\\nCloud Storage for Firebase: Handling User-Generated Content\\nManaging file uploads and downloads is common. Integration could offer:\\n\\nBrowse files stored in Cloud Storage buckets.\\nGetting download URLs.\\nAssistance in writing code to upload, download, or delete files.\\nHelping write and test Cloud Storage Security Rules.\\nIntegrating Vertex AI in Firebase: Bringing Machine Learning to Your App\\nWith the increasing importance of AI, integrating Vertex AI features is crucial. Firebase Studio facilitates this by:\\n\\nAssisting in setting up and configuring access to Gemini or other Vertex AI models.\\nGenerating code for interacting with AI models (e.g., sending prompts, processing responses).\\nPotentially providing interfaces for prompt engineering or model configuration within the IDE.\\nFirebase App Hosting: Supporting Modern Web Frameworks\\nFirebase App Hosting provides serverless hosting optimized for modern web frameworks. Firebase Studio is designed to integrate with this service, streamlining the deployment and management of applications built with frameworks like Next.js, Angular, React, etc., that require server-side rendering or serverless functions for the frontend.\\n\\nOther Service Interactions (Analytics, Remote Config, etc.): Configuration and Monitoring Access\\nWhile not all Firebase services might have deep interactive UIs within the IDE, Firebase Studio can still provide valuable integration points. This might include:\\n\\nLinks to open specific sections of the Firebase console (e.g., Analytics dashboards, Remote Config parameters).\\nBasic configuration options for services within the IDE.\\nAccess to basic logs or monitoring data.\\nThe Firebase Local Emulator Suite Integration: Testing Offline and Locally\\nA critical part of Firebase development is testing with the Local Emulator Suite, which provides local emulations of many Firebase services (Auth, Firestore, RTDB, Functions, Hosting, Pub/Sub). Firebase Studio is expected to have strong integration with the emulator suite, allowing developers to run and test their application and functions against local emulated services. This enables offline testing (once the emulators are set up) and faster iteration without deploying to the cloud.\\n\\nThis deep integration across key Firebase services creates a cohesive development experience. Developers spend less time switching between tools and more time writing code, confident that the IDE understands and can directly interact with the Firebase backend powering their application.\\n\\n7. Enabling Full-Stack Development\\n\\nModern applications are often full-stack, requiring expertise and tools to build both the user-facing frontend and the server-side backend. Firebase Studio is designed to be a capable environment for developing across the entire stack within a single workspace.\\n\\nThe Challenge of Full-Stack Development\\nFull-stack development can be challenging due to the need to manage different languages, frameworks, dependencies, build processes, and deployment targets for the frontend and backend components. Ensuring seamless communication and interaction between the two layers adds further complexity. Traditional workflows often involve using separate IDEs or editors for different parts of the stack and coordinating their development and deployment manually.\\n\\nFrontend Development Support:\\nFirebase Studio provides a suitable environment for developing the frontend of your application:\\n\\nSupported Languages and Frameworks: Based on its Code OSS foundation and the evolution from Project IDX, Firebase Studio supports core web languages like HTML, CSS, JavaScript, and TypeScript. It also caters to popular frontend frameworks like React, Angular, Vue.js, and Next.js, which are commonly used with Firebase. The mention of Flutter indicates support for cross-platform mobile and web development using Dart. While direct native Android/iOS development might require more specialized tools (or potentially leverage Android Device Streaming integration), frameworks like Flutter or potentially React Native could be well-supported for building frontends.\\nLive Previews and Hot Reloading: For web development, features like live previews (seeing changes in a browser as you code) and hot reloading (updating the application in the browser instantly without a full refresh) are crucial for rapid iteration. Firebase Studio is expected to support these features for compatible frameworks.\\nDebugging Frontend Code: Standard debugging capabilities inherited from Code OSS, such as setting breakpoints, stepping through code, inspecting variables, and using the browser\\'s developer tools (accessible alongside the IDE), allow developers to troubleshoot frontend issues effectively.\\nBackend Development Support:\\nFirebase Studio is particularly strong in supporting backend development that aligns with the Firebase model:\\n\\nCloud Functions as the Primary Backend Model: Cloud Functions are serverless functions that execute in response to events or HTTP requests. Firebase Studio provides a first-class experience for writing, testing (with emulators), and deploying these functions directly within the IDE, making it easy to build a scalable backend without managing servers. Support for different runtimes (Node.js, Python, etc.) is expected.\\nIntegrating with Firebase Data Connect (SQL): For applications requiring SQL databases, Firebase Data Connect offers integration with Google Cloud SQL for PostgreSQL. Firebase Studio can assist in defining database schemas, writing queries, and interacting with this service, broadening the backend capabilities available within the IDE.\\nAPI Development and Management: As full-stack applications rely on APIs for communication, Firebase Studio provides the tools to define and implement APIs, often through Cloud Functions or other backend services, and integrate them with the frontend.\\nDebugging Backend Code: Debugging Cloud Functions and other backend logic can be done using the integrated debugger and potentially through integration with the Firebase Local Emulator Suite.\\nManaging Full-Stack Projects: Project Structure and Configuration Files\\nFirebase Studio facilitates the management of projects that contain both frontend and backend components. The file explorer allows for organizing the project into logical directories (e.g., frontend/, functions/), and the IDE understands the configuration files (firebase.json, package.json in both frontend and backend directories, etc.) that define the project structure and dependencies.\\n\\nDeploying the Full Stack: Orchestrating Frontend and Backend Deployments\\nOne of the key advantages of a unified environment is simplifying deployment. Firebase Studio aims to provide streamlined workflows to deploy the entire application – deploying the frontend to Firebase Hosting (or App Hosting) and deploying the backend Cloud Functions – often with integrated build processes.\\n\\nBy providing a cohesive environment for developing both frontend and backend components, Firebase Studio removes much of the operational overhead associated with managing a full-stack project across disparate tools, allowing developers to maintain focus and accelerate their workflow.\\n\\n8. The Development Workflow in Practice\\n\\nUnderstanding the features of Firebase Studio is one thing; visualizing the typical development workflow within the environment provides a practical perspective on its value proposition.\\n\\nGetting Started: Account, Project Creation, Workspace Setup\\nThe initial step involves accessing Firebase Studio, typically through a web browser URL, and logging in with a Google account associated with Firebase. Users can then choose to create a new Firebase project directly from the studio or connect to an existing one. Once a project is selected, a workspace is created or opened. This workspace is the cloud-based environment where the code resides and the development tools are available. The setup is designed to be significantly faster than configuring a local machine for Firebase development.\\n\\nImporting Existing Projects\\nDevelopers with existing Firebase projects hosted on platforms like GitHub, GitLab, or Bitbucket can import their repositories directly into Firebase Studio. This process clones the repository into the cloud workspace, allowing the developer to pick up where they left off in their local environment, without needing to manually transfer files or reconfigure settings.\\n\\nCreating New Projects from Templates or Scratch\\nFor new projects, Firebase Studio offers a variety of templates for common application types and technology stacks (e.g., a basic web app, a Flutter app, a functions-only backend). These templates provide a pre-configured starting point, including necessary Firebase SDKs and sample code, allowing developers to begin coding immediately. Alternatively, developers can start with an empty workspace and build their project from scratch, configuring it as needed.\\n\\nThe Coding Cycle: Editing, Saving, Auto-Saving\\nWithin the workspace, developers use the familiar Code OSS editor to write and modify code files. The environment supports standard editing features like syntax highlighting, autocompletion, and linting. Workspaces often feature auto-saving, ensuring that progress is continuously backed up in the cloud, reducing the risk of losing work.\\n\\nRunning and Debugging Your Application\\nTo test their application, developers can use integrated run configurations. For web apps, this might launch a development server accessible via a public URL or a preview panel within the IDE. For backend functions, integration with the Firebase Local Emulator Suite allows running functions locally for testing. Debugging is facilitated by setting breakpoints in the code, stepping through execution, inspecting variables, and using call stacks, much like in a local IDE.\\n\\nUtilizing the Integrated Terminal\\nThe integrated terminal is readily available for executing command-line tasks specific to the project or Firebase ecosystem. This could involve installing npm packages, running build scripts, interacting with the Firebase CLI (e.g., firebase emulators:start, firebase deploy), or using version control commands (git add, git commit, git push).\\n\\nTesting Your Code Within the Environment\\nBeyond manual testing by running the application, Firebase Studio aims to support automated testing workflows. This includes running unit tests, integration tests, and potentially leveraging the AI-powered App Testing agent or integrating with Firebase Test Lab for mobile testing. Developers can see test results and reports directly within the IDE.\\n\\nDeploying Your Application to Production\\nOnce satisfied with the development and testing, deploying the application is a streamlined process. Developers can initiate deployments of their frontend (to Firebase Hosting/App Hosting) and backend functions (to Cloud Functions) directly from within Firebase Studio, often with visual indicators of the deployment progress.\\n\\nMonitoring and Logging (Basic Integration)\\nWhile the full suite of monitoring and logging is typically accessed via the Firebase console or Google Cloud Console, Firebase Studio may offer basic integrations, such as viewing recent Cloud Functions logs or deployment history, to provide immediate feedback during development.\\n\\nThis integrated workflow, from setup and coding to testing and deployment, all within a single cloud environment enhanced by AI, is the core value proposition of Firebase Studio, aiming to make the process of building with Firebase significantly more efficient and user-friendly.\\n\\n9. Benefits for Developers and Teams\\n\\nThe features and architecture of Firebase Studio translate into a range of tangible benefits for both individual developers and development teams.\\n\\nAccelerated Development Cycles:\\nRapid Prototyping with AI: The AI-powered App Prototyping agent allows developers to quickly generate initial project structures, UI layouts, and code based on natural language descriptions, drastically reducing the time it takes to go from an idea to a functional prototype.\\nReduced Setup Time: Eliminating the need for complex local environment configurations means developers can start coding almost immediately after logging in. This is particularly beneficial for new projects or onboarding new team members.\\nStreamlined Workflows: The deep integration of Firebase services and the unified full-stack environment reduce the need to switch between different tools, consoles, and CLIs, minimizing context switching and keeping developers focused on their code.\\nEnhanced Productivity:\\nAI Assistance Reduces Boilerplate: Gemini\\'s code generation and completion capabilities help automate the writing of repetitive code, allowing developers to concentrate on the unique logic of their application.\\nIntegrated Tools Minimize Context Switching: Accessing Firebase services, terminal, debugger, and version control all within the same interface saves time and mental overhead.\\nStandardized Environments Reduce \"Works on My Machine\" Issues: Consistent cloud-based workspaces eliminate environment-related bugs and compatibility problems, leading to smoother development and easier collaboration.\\nImproved Collaboration:\\nShared Cloud Workspaces: Teams can potentially work within shared workspaces, facilitating real-time collaboration (depending on specific features) and simplifying code sharing and review processes.\\nSimplified Onboarding for New Team Members: New developers can be added to a project\\'s workspace and begin contributing quickly without needing to spend significant time setting up their local machines.\\nCentralized Codebase Access: All authorized team members access the same version of the codebase in the cloud, ensuring consistency.\\nLowered Barrier to Entry:\\nNo Need for High-End Local Machines: Computationally intensive tasks run in the cloud, making Firebase Studio accessible even from less powerful computers or Chromebooks.\\nAI Can Assist Beginners: The AI\\'powered assistance can help developers who are new to Firebase or specific technologies by explaining code and suggesting implementations.\\nIntegrated Environment Simplifies Complex Setups: The platform provides a guided and unified way to set up and interact with multiple Firebase services, which can be daunting when done manually.\\nAccess to Cutting-Edge Features:\\nAs a flagship Google development tool, Firebase Studio is likely to be among the first to integrate new Firebase services and advancements in Google\\'s AI capabilities, allowing developers to leverage the latest technologies quickly.\\n\\nReduced Operational Overhead:\\nLess time is spent by developers and potentially system administrators on managing local development environments, dependencies, and tool updates, freeing up resources for core development tasks.\\n\\nCollectively, these benefits position Firebase Studio as a tool designed to significantly improve the efficiency, speed, and collaborative nature of building applications on the Firebase platform, making it an attractive option for a wide range of developers and teams.\\n\\n10. Limitations and Challenges\\n\\nWhile Firebase Studio offers numerous advantages, it\\'s also important to acknowledge the inherent limitations and challenges associated with a cloud-based IDE, particularly one that is still in its preview phase.\\n\\nInternet Dependency:\\nThe most significant limitation is the absolute requirement for a stable and consistent internet connection. Development within Firebase Studio is not possible offline. In areas with unreliable internet access, or during network outages, developer productivity would be completely halted. This is a fundamental trade-off for the accessibility and reduced local requirements of a cloud IDE.\\n\\nPerformance Variability:\\nWhile cloud servers are powerful, the perceived performance within the IDE can be affected by the quality and speed of the user\\'s internet connection and the latency to the Google Cloud region hosting the workspace. Tasks like typing, scrolling, code completion, or running builds might experience slight delays compared to executing them on a high-performance local machine. The performance may also depend on the resources allocated to the workspace, which could be subject to pricing tiers in the future.\\n\\nCustomization Limitations:\\nAlthough based on Code OSS and supporting Open VSX Registry extensions, Firebase Studio may not offer the same level of deep system-level customization or guaranteed compatibility with all VS Code extensions that a local installation provides. Extensions requiring specific local binaries, system access, or complex integrations with local hardware might not function correctly or be supported. Developers who rely heavily on a highly personalized and intricate local development setup might find the cloud environment somewhat restrictive.\\n\\nVendor Lock-in:\\nFirebase Studio is deeply integrated with Firebase services and the Google Cloud ecosystem. While this is a benefit for those fully committed to Firebase, it inherently creates a degree of vendor lock-in. Migrating a project developed primarily within Firebase Studio to a different backend platform or cloud provider might be more challenging compared to a project developed locally with more loosely coupled services.\\n\\nMaturity and Evolution:\\nAs a product in preview, Firebase Studio is still under active development. This means that features may change, the interface might be refined, and there could be bugs or performance issues that are addressed in future updates. Early adopters should be prepared for a less polished experience compared to mature, stable software. The full feature set as envisioned may not be completely implemented during the preview phase.\\n\\nPricing Model:\\nWhile the preview offers free access (with potential charges for underlying Firebase/GCP usage exceeding free tiers), the long-term pricing model for Firebase Studio workspaces themselves is a key unknown. This uncertainty can make it difficult for individuals or businesses to budget for using the platform extensively after the preview period. The cost structure (e.g., per user, per hour, based on workspace size/resources) will significantly influence its accessibility and adoption.\\n\\nComplex Offline Requirements:\\nFor development workflows that must function reliably offline, or that involve complex interactions with local hardware, networks, or legacy systems that cannot be easily replicated in the cloud, Firebase Studio is likely not a suitable primary development environment.\\n\\nThese limitations mean that while Firebase Studio is a powerful tool with significant advantages, it may not be the ideal fit for every developer or every project. Developers need to weigh the benefits of the cloud-based, AI-powered, and integrated experience against the requirements of their specific workflow and constraints.\\n\\n11. Target Audience and Ideal Use Cases\\n\\nUnderstanding who Firebase Studio is designed for helps clarify its value proposition and potential impact. Its features and architecture make it particularly well-suited for certain types of developers, teams, and project scenarios.\\n\\nSolo Developers Building Firebase Projects:\\nIndividual developers often juggle multiple roles and seek tools that maximize efficiency and minimize setup time. Firebase Studio\\'s simplified environment setup, integrated Firebase services, and AI assistance can significantly boost the productivity of solo developers building web or mobile applications powered by Firebase.\\n\\nSmall to Medium-Sized Teams Collaborating on Firebase Apps:\\nCollaboration features, standardized environments, and simplified onboarding make Firebase Studio attractive for teams. It reduces the administrative burden of maintaining consistent local development setups across team members and facilitates easier code sharing and potentially collaborative coding sessions.\\n\\nStartups Focused on Rapid Prototyping and MVP Development:\\nStartups need to move fast and validate ideas quickly. The AI-powered prototyping capabilities and the streamlined development-to-deployment workflow of Firebase Studio are ideal for rapidly building minimum viable products (MVPs) and iterating based on feedback.\\n\\nDevelopers Eager to Integrate AI into Their Applications:\\nWith deep integration with Gemini and Vertex AI in Firebase, Firebase Studio is a prime environment for developers looking to build applications that leverage generative AI, machine learning, and other intelligent features. The IDE provides tools and assistance specifically for incorporating these capabilities.\\n\\nEducational Settings and Bootcamps:\\nThe ease of setup and standardized environment make Firebase Studio suitable for educational purposes. Instructors can provide students with immediate access to a ready-to-code Firebase environment, removing common hurdles related to local machine setup and compatibility issues.\\n\\nSpecific Use Cases:\\nReal-time Applications: Building chat apps, collaborative tools, or dashboards that heavily rely on Firestore or Realtime Database\\'s real-time capabilities, where integrated data Browse and rule writing are beneficial.\\nServerless Backends: Developing applications with backend logic primarily handled by Cloud Functions, leveraging the IDE\\'s strong support for function writing, testing, and deployment.\\nAI-Enhanced Features: Creating applications that incorporate features like content generation, image analysis, smart search, or conversational interfaces powered by Gemini and Vertex AI.\\nModern Web Applications: Building full-stack web apps using modern frameworks that benefit from Firebase App Hosting and streamlined deployment workflows.\\nIn essence, Firebase Studio targets developers and teams who are invested in the Firebase ecosystem and are looking for a development environment that removes operational friction, accelerates coding with AI, and provides deep integration with their backend services. It\\'s particularly appealing for those prioritizing speed, collaboration, and leveraging cutting-edge AI capabilities within their applications.\\n\\n12. Firebase Studio in the Broader Ecosystem: Comparison with Alternatives\\n\\nFirebase Studio doesn\\'t exist in a vacuum; it enters a crowded space of development tools. Comparing it to existing alternatives helps clarify its unique positioning and value proposition.\\n\\nVs. Local IDEs with Firebase SDKs:\\nThe most common way to develop with Firebase today is using a local IDE like Android Studio (for Android), Xcode (for iOS), or Visual Studio Code/other editors (for web, Flutter, etc.), and manually integrating the Firebase SDKs and using the Firebase CLI.\\n\\nPros of Local IDEs: Offer maximum control over the development environment, work offline (mostly), generally provide the best performance as computation is local, vast extension ecosystems (especially VS Code), deep integration with platform-specific tools (e.g., Android/iOS emulators/simulators, platform debuggers).\\nPros of Firebase Studio: Simplified setup, standardized environments, built-in AI assistance, deep native integration with Firebase management (beyond just SDKs), easier collaboration setup, accessible from any device.\\nComparison: Firebase Studio trades some level of local control, offline capability, and raw local performance for significant gains in setup speed, standardization, collaboration ease, and integrated AI power. It aims to simplify the connection between code and cloud services, which can be complex in local setups requiring manual configuration and CLI usage.\\nVs. Other Cloud IDEs (Gitpod, GitHub Codespaces, etc.):\\nOther cloud IDEs provide remote development environments accessible via the browser.\\n\\nPros of Other Cloud IDEs: Offer similar benefits regarding accessibility, standardization, and reduced local setup. Often support a wide range of languages, frameworks, and project types. Good for general-purpose cloud development.\\nPros of Firebase Studio: Its key differentiator is the deep, first-party integration with Firebase services and the powerful, purpose-built Gemini AI assistance tailored for Firebase development. Other cloud IDEs can be used for Firebase development, but they lack the native panels, wizards, AI agents, and direct service interactions that Firebase Studio aims to provide.\\nComparison: Firebase Studio is a specialized cloud IDE. While others are general-purpose development machines in the cloud, Firebase Studio is specifically optimized for the Firebase developer workflow, adding unique Firebase-aware features and AI capabilities.\\nVs. Low-Code/No-Code Platforms (Firebase Extensions, AppSheet):\\nLow-code/no-code platforms allow building applications with minimal or no manual coding, often using visual interfaces and pre-built components. Firebase itself offers some low-code capabilities through Firebase Extensions.\\n\\nPros of Low-Code/No-Code: Extremely rapid development for certain types of applications, accessible to users with limited coding experience.\\nPros of Firebase Studio: Provides a code-first environment, offering maximum flexibility and control over application logic and customization. It accelerates the coding process rather than replacing it entirely. It allows developers to build highly custom and complex features that are not possible with low-code tools alone.\\nComparison: Firebase Studio is not a replacement for low-code tools but rather complements them within the Firebase ecosystem. It caters to developers who want to write custom code but benefit from accelerated workflows and integrated backend services. It allows developers to build the custom logic around the features provided by low-code solutions like extensions.\\nFirebase Studio carves out its niche by combining the accessibility and standardization of a cloud IDE with the power of AI and deep, first-party integration with a popular backend platform. It\\'s designed for developers who want the flexibility of writing code but wish to eliminate much of the setup and operational overhead, especially when building applications heavily reliant on Firebase services.\\n\\n13. The Future Vision: Evolution and Impact\\n\\nAs a product in preview, Firebase Studio is just beginning its journey. Its future evolution and impact on the developer ecosystem are subjects of considerable interest.\\n\\nPotential Future Features:\\nBased on the current offering and the capabilities of the underlying technologies (Code OSS, Gemini, Google Cloud, Firebase), potential future features could include:\\n\\nEnhanced AI Capabilities: More sophisticated code generation, deeper code analysis, AI-powered architecture suggestions, and potentially AI-driven code reviews.\\nBroader Service Integrations: Tighter integration with other Google Cloud services relevant to application development (e.g., Pub/Sub, Task Queues, more advanced monitoring).\\nAdvanced Collaboration Features: Real-time collaborative editing, shared debugging sessions, and integrated communication tools within the workspace.\\nImproved Offline Capabilities: While a full offline mode for a cloud IDE is challenging, limited offline access for reading code or making minor edits could be explored.\\nSupport for More Platforms and Frameworks: Expanding native support for additional programming languages, mobile development frameworks (beyond Flutter), and specialized tools.\\nIntegrated CI/CD Pipelines: Tools within the IDE to configure and manage continuous integration and continuous deployment workflows.\\nPerformance Monitoring and Debugging Tools: More advanced built-in tools for profiling application performance and debugging complex issues across the stack.\\nImpact on the Firebase Developer Community:\\nFirebase Studio has the potential to significantly impact the Firebase developer community:\\n\\nIncreased Adoption: By lowering the barrier to entry and simplifying the development process, it could attract more developers to the Firebase platform.\\nFaster Innovation: Accelerated development cycles allow developers to build and iterate on their ideas more quickly.\\nShift in Best Practices: The integrated tools and AI assistance may influence how developers approach common tasks and architecture patterns within Firebase projects.\\nFocus on Application Logic: By abstracting infrastructure and simplifying tooling, developers can spend more time focusing on the core business logic and user experience of their applications.\\nThe Role of Cloud IDEs and AI in the Future of Software Development:\\nFirebase Studio is part of a larger trend towards cloud-based development environments and the increasing integration of AI into developer workflows. Its success or challenges will provide valuable insights into the viability and future direction of these trends. It suggests a future where the lines between coding, infrastructure management, and AI assistance become increasingly blurred within a unified, intelligent environment.\\n\\nGoogle\\'s Strategy for Firebase Studio:\\nFor Google, Firebase Studio represents a strategic effort to solidify Firebase\\'s position as a leading platform for application development. By providing a best-in-class development experience specifically for Firebase, Google aims to attract and retain developers within its ecosystem, encouraging deeper adoption of Firebase and potentially other Google Cloud services. It aligns with Google\\'s broader focus on AI and its efforts to integrate AI capabilities across its product portfolio.\\n\\nThe future of Firebase Studio is likely to involve continuous iteration, feature expansion, and a growing focus on refining the AI-developer collaboration to make building complex, intelligent applications easier than ever before.\\n\\n14. Conclusion: A New Frontier for Firebase Development\\n\\nFirebase Studio emerges as a compelling and potentially transformative tool for the Firebase ecosystem. By combining the accessibility and standardization of a cloud-based integrated development environment with the powerful, context-aware assistance of Gemini AI and deep, native integrations with Firebase services, it offers a unique value proposition for developers building full-stack applications.\\n\\nThe essay has explored the various facets of Firebase Studio, from its architectural foundation built on Code OSS and Google Cloud to its AI-powered capabilities, seamless Firebase service integrations, and support for full-stack development workflows. We\\'ve examined the tangible benefits it offers, including accelerated development cycles, enhanced productivity, improved collaboration, and a lowered barrier to entry, while also acknowledging the limitations inherent in a cloud-based, preview product, such as internet dependency and evolving features.\\n\\nFirebase Studio is particularly well-suited for solo developers, small to medium-sized teams, and startups prioritizing speed and ease of use when building on Firebase. It shines in use cases involving rapid prototyping, serverless backends, real-time features, and the integration of AI capabilities.\\n\\nWhile it doesn\\'t necessarily replace traditional local development environments for all scenarios, nor does it fully overlap with low-code/no-code platforms, Firebase Studio carves out a significant space as a dedicated, intelligent, and integrated workspace for the Firebase-centric developer. Its success will depend on its continued evolution, addressing limitations, and delivering on the promise of a truly seamless and AI-augmented development experience.\\n\\nUltimately, Firebase Studio represents a new frontier for building applications with Firebase. It signifies a future where the development environment is not just a tool for writing code but an intelligent partner that understands the project, the platform, and the developer\\'s intent, making the journey from idea to deployed application faster, more intuitive, and more collaborative than ever before. As it moves beyond its preview phase, Firebase Studio has the potential to become an indispensable part of the modern developer\\'s toolkit within the Google and Firebase ecosystem.')]"
      ]
     },
     "execution_count": 18,
     "metadata": {},
     "output_type": "execute_result"
    }
   ],
   "source": [
    "docs"
   ]
  },
  {
   "cell_type": "code",
   "execution_count": 19,
   "metadata": {},
   "outputs": [],
   "source": [
    "### Creating Chunks using RecursiveCharacterTextSplitter\n",
    "text_splitter = RecursiveCharacterTextSplitter(\n",
    "    chunk_size = 120,\n",
    "    chunk_overlap = 20,\n",
    "    length_function=len\n",
    ")\n",
    "\n",
    "new_docs = text_splitter.split_documents(documents=docs)\n",
    "doc_strings = [doc.page_content for doc in new_docs]"
   ]
  },
  {
   "cell_type": "code",
   "execution_count": 20,
   "metadata": {},
   "outputs": [],
   "source": [
    "### Creating Retriever using Vector DB\n",
    "\n",
    "db = Chroma.from_documents(new_docs, embeddings)\n",
    "retriever = db.as_retriever(search_kwargs={\"k\": 4})"
   ]
  },
  {
   "cell_type": "code",
   "execution_count": 21,
   "metadata": {},
   "outputs": [],
   "source": [
    "template = \"\"\"Answer the question based only on the following context:\n",
    "{context}\n",
    "\n",
    "Question: {question}\n",
    "\"\"\"\n",
    "prompt = PromptTemplate.from_template(template)"
   ]
  },
  {
   "cell_type": "code",
   "execution_count": 22,
   "metadata": {},
   "outputs": [],
   "source": [
    "retrieval_chain = (\n",
    "    RunnableParallel({\"context\": retriever, \"question\": RunnablePassthrough()})\n",
    "    | prompt\n",
    "    | llm\n",
    "    | StrOutputParser()\n",
    "    )"
   ]
  },
  {
   "cell_type": "code",
   "execution_count": 24,
   "metadata": {},
   "outputs": [
    {
     "name": "stdout",
     "output_type": "stream",
     "text": [
      "It doesn't necessarily replace traditional local development environments for all scenarios.\n"
     ]
    }
   ],
   "source": [
    "question =\"Is it a replacement for local IDEs?\"\n",
    "print(retrieval_chain.invoke(question))"
   ]
  },
  {
   "cell_type": "markdown",
   "metadata": {},
   "source": [
    "#### Start with Tools and Agents"
   ]
  },
  {
   "cell_type": "code",
   "execution_count": 25,
   "metadata": {},
   "outputs": [],
   "source": [
    "from langchain_community.tools import WikipediaQueryRun\n",
    "from langchain_community.utilities import WikipediaAPIWrapper"
   ]
  },
  {
   "cell_type": "code",
   "execution_count": 52,
   "metadata": {},
   "outputs": [
    {
     "data": {
      "text/plain": [
       "'wikipedia'"
      ]
     },
     "execution_count": 52,
     "metadata": {},
     "output_type": "execute_result"
    }
   ],
   "source": [
    "api_wrapper = WikipediaAPIWrapper(top_k_results=5 )\n",
    "wiki_tool = WikipediaQueryRun(api_wrapper=api_wrapper)\n",
    "wiki_tool.name"
   ]
  },
  {
   "cell_type": "code",
   "execution_count": 53,
   "metadata": {},
   "outputs": [
    {
     "data": {
      "text/plain": [
       "{'query': {'description': 'query to look up on wikipedia',\n",
       "  'title': 'Query',\n",
       "  'type': 'string'}}"
      ]
     },
     "execution_count": 53,
     "metadata": {},
     "output_type": "execute_result"
    }
   ],
   "source": [
    "wiki_tool.args"
   ]
  },
  {
   "cell_type": "code",
   "execution_count": 28,
   "metadata": {},
   "outputs": [
    {
     "data": {
      "text/plain": [
       "'No good Wikipedia Search Result was found'"
      ]
     },
     "execution_count": 28,
     "metadata": {},
     "output_type": "execute_result"
    }
   ],
   "source": [
    "wiki_tool.run(\"langcgraph\")"
   ]
  },
  {
   "cell_type": "code",
   "execution_count": 29,
   "metadata": {},
   "outputs": [
    {
     "name": "stderr",
     "output_type": "stream",
     "text": [
      "/home/pavan/Ds/pro/langgraph/venv/lib/python3.12/site-packages/IPython/core/interactiveshell.py:3667: LangChainDeprecationWarning: As of langchain-core 0.3.0, LangChain uses pydantic v2 internally. The langchain_core.pydantic_v1 module was a compatibility shim for pydantic v1, and should no longer be used. Please update the code to import from Pydantic directly.\n",
      "\n",
      "For example, replace imports like: `from langchain_core.pydantic_v1 import BaseModel`\n",
      "with: `from pydantic import BaseModel`\n",
      "or the v1 compatibility namespace if you are working in a code base that has not been fully upgraded to pydantic 2 yet. \tfrom pydantic.v1 import BaseModel\n",
      "\n",
      "  exec(code_obj, self.user_global_ns, self.user_ns)\n"
     ]
    }
   ],
   "source": [
    "from langchain_core.pydantic_v1 import BaseModel, Field"
   ]
  },
  {
   "cell_type": "code",
   "execution_count": null,
   "metadata": {},
   "outputs": [],
   "source": []
  },
  {
   "cell_type": "code",
   "execution_count": 30,
   "metadata": {},
   "outputs": [],
   "source": [
    "\n",
    "from langchain_community.tools import YouTubeSearchTool"
   ]
  },
  {
   "cell_type": "code",
   "execution_count": 31,
   "metadata": {},
   "outputs": [
    {
     "data": {
      "text/plain": [
       "'youtube_search'"
      ]
     },
     "execution_count": 31,
     "metadata": {},
     "output_type": "execute_result"
    }
   ],
   "source": [
    "utube_tool=YouTubeSearchTool()\n",
    "utube_tool.name"
   ]
  },
  {
   "cell_type": "code",
   "execution_count": 32,
   "metadata": {},
   "outputs": [
    {
     "data": {
      "text/plain": [
       "\"['https://www.youtube.com/watch?v=ukzFI9rgwfU&pp=ygUQbWFjaGluZSBsZWFybmluZw%3D%3D', 'https://www.youtube.com/watch?v=PcbuKRNtCUc&pp=ygUQbWFjaGluZSBsZWFybmluZw%3D%3D']\""
      ]
     },
     "execution_count": 32,
     "metadata": {},
     "output_type": "execute_result"
    }
   ],
   "source": [
    "utube_tool.run(\"machine learning\")"
   ]
  },
  {
   "cell_type": "code",
   "execution_count": null,
   "metadata": {},
   "outputs": [],
   "source": []
  },
  {
   "cell_type": "code",
   "execution_count": 33,
   "metadata": {},
   "outputs": [],
   "source": [
    "from langchain_community.tools.tavily_search import TavilySearchResults\n",
    "tool = TavilySearchResults()"
   ]
  },
  {
   "cell_type": "code",
   "execution_count": 34,
   "metadata": {},
   "outputs": [
    {
     "data": {
      "text/plain": [
       "[{'title': 'What Happened At Burning Man 2023? Death, Flooding And Sticky ...',\n",
       "  'url': 'https://www.marieclaire.com.au/latest-news/burning-man-festival-2023-explainer/',\n",
       "  'content': 'More than 70,000 festival attendees have been left stranded in the desert after a heavy storm flooded the grounds. Images show the usually colourful, art-filled environment\\xa0as a wasteland, strewn\\xa0with rubbish, flooded tents and ankle-deep mounds of ‘sticky mud’.\\n\\nBut that’s not all—authorities also say they’re investigating a death that’s occurred at the event.\\n\\nSo what happened? We explain below.\\n\\nNative ad body. [...] The festival disaster started with a storm—and not just any storm. The remote area was hit with two to three months worth of rain in just 24 hours. When the heavy rain hit the dry desert earth, it created a thick, ‘sticky’ mud with a clay like consistency\\xa0that’s difficult to walk through.\\n\\nAttendees were told to shelter in place and to conserve food, water and fuel until the storm passes. [...] Sign up for our newsletter\\n\\nWant 15% off at Adore Beauty? Sign up to the latest news at Marie Claire.\\n\\nBy joining, you agree to our Privacy Policy & Terms of Use\\n\\nAbout your privacy\\n\\nEvery year, thousands of people descend on Nevada’s Black Rock Desert for nine days of music, creativity and partying—but this year, everything went\\xa0wrong.',\n",
       "  'score': 0.71496695},\n",
       " {'title': 'What went wrong at Burning Man 2023 - From flood chaos to ...',\n",
       "  'url': 'https://www.themirror.com/entertainment/celebrity-news/what-went-wrong-burning-man-656685',\n",
       "  'content': 'The event had a chaotic near end after extreme rainfall of more than a half of inch hit the dessert.\\n\\nThe rainfall caused flooding and muddy conditions in the dessert which left some Burners stranded and others making a grueling mass exodus by walking the many miles to get closer to civilization. That year, it was the 35th annual Burning Man and it took place from August 27- September 4, 2023. 73,000 people were estimated to have attended the festival. [...] It was on Friday, September 1, when heavy rainfall from Tropical Storm Hilary fell on to Black Rock desert in Reno, Nevada where Burning Man takes place. During the annual festival, a made-man temporary settlement is constructed.\\n\\nThe rain led to mud that was \"so thick that you\\'ll sink right into it and be stuck there for a while\" according to National Weather Service meteorologist Heath Richards to the Los Angeles Times [...] Some vehicles did get stuck and were left stranded when attendees ditched them. Organizers at the time advised people not to drive or bike and enacted a ban until conditions were better as they closed their gates. They also advised people to shelter in place and conserve food, water as well as fuel.',\n",
       "  'score': 0.7067782},\n",
       " {'title': \"What we know about 2023 Burning Man festival's flooding chaos\",\n",
       "  'url': 'https://www.independent.co.uk/news/world/americas/what-is-burning-man-festival-b2404911.html',\n",
       "  'content': 'On Monday, officials in the Pershing County Sheriff’s Office confirmed the death was that of 32-year-old Leon Reece. He was found unresponsive on the playa and his death was “unrelated to the weather.” An official cause has yet to be released.\\n\\nThe man’s death is currently under investigation.\\n\\nThe Independent has reached out to the law enforcement agency for comment.\\n\\nChaos at the exodus [...] Then toward the end of the nine-day art and cultures festival, heavy rains poured down, causing flooding and a massive amount of mud.\\n\\nHeavy rains, brought on by a rare hurricane on the West Coast, forced organisers and local authorities to close roads for the remainder of the festival and told anyone en route to go home.\\n\\nBy Saturday, more than 70,000 “Burners” at the site were urged to hunker down and conserve supplies amid mud slicks and unserviced toilets. [...] On Sunday, police announced an investigation into an unspecified death at the festival. The deceased was identified as 32-year-old Leon Reece - but his cause of death has not been determined.\\n\\nHere’s everything we know about the Burning Man 2023 fiasco:\\n\\nWhat is Burning Man?\\n\\nThe festival is a “temporary metropolis dedicated to community, art, self-expression, and self-reliance,” according to its website.',\n",
       "  'score': 0.7018975},\n",
       " {'title': 'Burning Man flooding: What happened to stranded festivalgoers?',\n",
       "  'url': 'https://abcnews.go.com/US/burning-man-flooding-happened-stranded-festivalgoers/story?id=102908331',\n",
       "  'content': 'ABC News\\n\\nVideo\\n\\nLive\\n\\nShows\\n\\nShop\\n\\nStream on\\n\\nBurning Man flooding: What happened to stranded festivalgoers?\\n\\nSome 64,000 people were still on site Monday as the exodus began.\\n\\nTens of thousands of Burning Man attendees are now able to leave the festival after a downpour and massive flooding left them stranded over the weekend. [...] Organizers lifted a driving ban as of 2 p.m. local time Monday, allowing \"exodus operations\" to begin, organizers said. They are, however, recommending that people delay their departures until Tuesday to avoid getting stuck in the mud.\\n\\nApproximately 64,000 people remain on site as of midday Monday, organizers said.\\n\\nWhat happened?\\n\\nBlack Rock Desert was faced with two to three months worth of rain in just a matter of hours on Friday, Sept. 1. [...] The festival, held in the Black Rock Desert in northwestern Nevada, was attended by more than 70,000 people last year, and just as many were expected this year. Burning Man began on Aug. 28 and was scheduled to run through Sept. 4.\\n\\nOne person died at the festival amid the unusual weather conditions, the Pershing County Sheriff\\'s Office confirmed Sunday morning in a statement. The death is under investigation.',\n",
       "  'score': 0.69697046},\n",
       " {'title': 'What we know about flooding at Burning Man - Axios',\n",
       "  'url': 'https://www.axios.com/2023/09/03/burning-man-festival-flooding-weather',\n",
       "  'content': \"State of play · The Pershing County Sheriff's Office confirmed Monday one person died at the event, now identified as 32-year-old Leon Reece.\",\n",
       "  'score': 0.6041426}]"
      ]
     },
     "execution_count": 34,
     "metadata": {},
     "output_type": "execute_result"
    }
   ],
   "source": [
    "tool.invoke({\"query\": \"What happened in the latest burning man floods\"})"
   ]
  },
  {
   "cell_type": "markdown",
   "metadata": {},
   "source": [
    "agents"
   ]
  },
  {
   "cell_type": "code",
   "execution_count": 35,
   "metadata": {},
   "outputs": [],
   "source": [
    "from langchain import hub\n",
    "from langchain.agents import AgentExecutor,create_openai_functions_agent"
   ]
  },
  {
   "cell_type": "code",
   "execution_count": 36,
   "metadata": {},
   "outputs": [],
   "source": [
    "instructions = \"\"\"You are an assistant.\"\"\"\n",
    "base_prompt = hub.pull(\"langchain-ai/openai-functions-template\")\n",
    "prompt = base_prompt.partial(instructions=instructions)"
   ]
  },
  {
   "cell_type": "code",
   "execution_count": 37,
   "metadata": {},
   "outputs": [
    {
     "data": {
      "text/plain": [
       "[SystemMessagePromptTemplate(prompt=PromptTemplate(input_variables=['instructions'], input_types={}, partial_variables={}, template='{instructions}'), additional_kwargs={}),\n",
       " MessagesPlaceholder(variable_name='chat_history', optional=True),\n",
       " HumanMessagePromptTemplate(prompt=PromptTemplate(input_variables=['input'], input_types={}, partial_variables={}, template='{input}'), additional_kwargs={}),\n",
       " MessagesPlaceholder(variable_name='agent_scratchpad')]"
      ]
     },
     "execution_count": 37,
     "metadata": {},
     "output_type": "execute_result"
    }
   ],
   "source": [
    "prompt.messages"
   ]
  },
  {
   "cell_type": "code",
   "execution_count": 38,
   "metadata": {},
   "outputs": [],
   "source": [
    "tavily_tool = TavilySearchResults()"
   ]
  },
  {
   "cell_type": "code",
   "execution_count": 54,
   "metadata": {},
   "outputs": [],
   "source": [
    "tools = [tavily_tool,utube_tool,wiki_tool]"
   ]
  },
  {
   "cell_type": "code",
   "execution_count": 55,
   "metadata": {},
   "outputs": [],
   "source": [
    "# agent = create_openai_functions_agent(llm, tools, prompt)\n",
    "from langchain.agents import create_tool_calling_agent\n",
    "\n",
    "agent = create_tool_calling_agent(llm, tools, prompt)"
   ]
  },
  {
   "cell_type": "code",
   "execution_count": 56,
   "metadata": {},
   "outputs": [],
   "source": [
    "\n",
    "agent_executor = AgentExecutor(\n",
    "  agent=agent,\n",
    "  tools=tools,\n",
    "  verbose=True,\n",
    ")\n",
    "\n"
   ]
  },
  {
   "cell_type": "code",
   "execution_count": 57,
   "metadata": {},
   "outputs": [
    {
     "name": "stdout",
     "output_type": "stream",
     "text": [
      "\n",
      "\n",
      "\u001b[1m> Entering new AgentExecutor chain...\u001b[0m\n",
      "\u001b[32;1m\u001b[1;3m\n",
      "Invoking: `wikipedia` with `{'query': 'Veer Savarkar'}`\n",
      "\n",
      "\n",
      "\u001b[0m\u001b[38;5;200m\u001b[1;3mPage: Vinayak Damodar Savarkar\n",
      "Summary: Vinayak Damodar Savarkar (28 May 1883 – 26 February 1966)  was an Indian politician, activist and writer. Savarkar developed the Hindu nationalist political ideology of Hindutva while confined at Ratnagiri in 1922. He was a leading figure in the Hindu Mahasabha. The prefix \"Veer\" (meaning 'brave') has been given by himself, when he penned his own biography under pseudonym of Chitragupta .\n",
      "Savarkar began his political activities as a high school student and continued to do so at Fergusson College in Pune. He and his brother founded a secret society called Abhinav Bharat Society. When he went to the United Kingdom for his law studies, he involved himself with organizations such as India House and the Free India Society. He also published books advocating complete Indian independence by revolutionary means. One of the books he published called The Indian War of Independence about the Indian Rebellion of 1857 was banned by the British colonial authorities.\n",
      "In 1910, Savarkar was arrested by the British government and was ordered to be extradited to India for his connections with India House. On the voyage back to India, Savarkar staged an attempt to escape from the steamship SS Morea and seek asylum in France while the ship was docked in the port of Marseille. The French port officials, however, handed him back to the British government. On return to India, Savarkar was sentenced to life terms of imprisonment totalling fifty years and was moved to the Cellular Jail in the Andaman and Nicobar Islands. He was released in 1924 by the British officials after he wrote a series of mercy petitions to the British. He virtually stopped any criticism of the British regime after he was released from jail.\n",
      "After being released from his restriction to Ratnagiri district in 1937, Savarkar started traveling widely, becoming a forceful orator and writer, advocating Hindu political and social unity. In his Ahmedabad addressal, he supported Two-nation theory. The Hindu Mahasabha under Savarkar's leadership endorsed the idea of India as a Hindu Rashtra (Hindu Nation).\n",
      "In 1939, the ruling Indian National Congress resigned en masse over Britain declaring India a belligerent in World War II. The Hindu Mahasabha under Savarkar formed alliances with the Muslim League and other non-Congress parties to form government in many states. Subsequently, Congress under Gandhi's leadership launched the Quit India Movement; Savarkar boycotted the movement, writing a letter titled \"Stick to your Posts\" and recruiting Indians for the British war effort. In 1948, Savarkar was charged as a co-conspirator in the assassination of Mahatma Gandhi; he was acquitted by the court for lack of evidence.\n",
      "\n",
      "Page: Swatantrya Veer Savarkar (film)\n",
      "Summary: Swatantrya Veer Savarkar is a 2024 Indian Hindi-language film on the life of Vinayak Damodar Savarkar. It is directed, co-written, and co-produced by Randeep Hooda, who also plays the titular role of Savarkar. It was released in theatres on 22 March 2024.\n",
      "The film presents a detailed biographical sketch of Savarkar from his childhood, including the key events from his life, often in a near-worshipful tone towards its central character. The film has been criticised for distorting history and for promoting one-sided agenda but received praises for its actors' performances.\n",
      "\n",
      "\n",
      "\n",
      "Page: Veer Savarkar International Airport\n",
      "Summary: Veer Savarkar International Airport (IATA: IXZ, ICAO: VOPB) is an airport located 2 km (1.2 mi) south of Port Blair and the primary airport serving the Andaman and Nicobar Islands of India. Earlier known as Port Blair Airport, it was renamed in 2002 after Vinayak Damodar Savarkar, who had been detained in the Cellular Jail in the city for 11 years during India’s freedom struggle. It operates as a civil enclave, sharing airside facilities with INS Utkrosh of the Indian Navy.\n",
      "\n",
      "Page: Veer Savarkar (film)\n",
      "Summary: Veer Savarkar is a 2001 Indian Hindi-language biopic film based \u001b[0m\u001b[32;1m\u001b[1;3mVinayak Damodar Savarkar, also known as Veer Savarkar, was an Indian politician, activist, and writer. He developed the Hindu nationalist political ideology of Hindutva.  He was a leading figure in the Hindu Mahasabha. He was imprisoned by British authorities for his revolutionary activities and advocacy of Indian independence.  Later, after his release, he became a forceful orator and writer, advocating Hindu political and social unity.  He was a controversial figure, particularly for his role during the Quit India Movement and his alleged involvement in the assassination of Mahatma Gandhi (for which he was acquitted).\u001b[0m\n",
      "\n",
      "\u001b[1m> Finished chain.\u001b[0m\n",
      "{'input': 'who was the Veer Savarkar', 'output': 'Vinayak Damodar Savarkar, also known as Veer Savarkar, was an Indian politician, activist, and writer. He developed the Hindu nationalist political ideology of Hindutva.  He was a leading figure in the Hindu Mahasabha. He was imprisoned by British authorities for his revolutionary activities and advocacy of Indian independence.  Later, after his release, he became a forceful orator and writer, advocating Hindu political and social unity.  He was a controversial figure, particularly for his role during the Quit India Movement and his alleged involvement in the assassination of Mahatma Gandhi (for which he was acquitted).'}\n"
     ]
    }
   ],
   "source": [
    "print(agent_executor.invoke({\"input\": \"who was the Veer Savarkar\"}))\n",
    "\n"
   ]
  },
  {
   "cell_type": "code",
   "execution_count": null,
   "metadata": {},
   "outputs": [],
   "source": []
  },
  {
   "cell_type": "code",
   "execution_count": null,
   "metadata": {},
   "outputs": [],
   "source": []
  },
  {
   "cell_type": "code",
   "execution_count": null,
   "metadata": {},
   "outputs": [],
   "source": []
  },
  {
   "cell_type": "code",
   "execution_count": null,
   "metadata": {},
   "outputs": [],
   "source": []
  }
 ],
 "metadata": {
  "kernelspec": {
   "display_name": "langraph env",
   "language": "python",
   "name": "langgraph-env"
  },
  "language_info": {
   "codemirror_mode": {
    "name": "ipython",
    "version": 3
   },
   "file_extension": ".py",
   "mimetype": "text/x-python",
   "name": "python",
   "nbconvert_exporter": "python",
   "pygments_lexer": "ipython3",
   "version": "3.12.0"
  }
 },
 "nbformat": 4,
 "nbformat_minor": 2
}
