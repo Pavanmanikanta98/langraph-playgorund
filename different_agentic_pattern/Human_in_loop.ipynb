{
 "cells": [
  {
   "cell_type": "markdown",
   "metadata": {},
   "source": [
    "##### For some actions, you may want to require human approval before running to ensure that everything is running as intended."
   ]
  },
  {
   "cell_type": "code",
   "execution_count": 21,
   "metadata": {},
   "outputs": [],
   "source": [
    "from typing import Annotated\n",
    "import operator, json\n",
    "from typing import TypedDict, Sequence\n",
    "from typing_extensions import TypedDict"
   ]
  },
  {
   "cell_type": "code",
   "execution_count": 1,
   "metadata": {},
   "outputs": [],
   "source": [
    "from langchain_core.messages import BaseMessage\n",
    "from langgraph.graph import StateGraph, END, START\n",
    "from langgraph.checkpoint.memory import MemorySaver\n",
    "from langgraph.graph.message import add_messages\n",
    "from langgraph.prebuilt import ToolNode, tools_condition\n",
    "from langchain_core.tools import tool\n",
    "from langchain_community.tools.tavily_search import TavilySearchResults "
   ]
  },
  {
   "cell_type": "code",
   "execution_count": 2,
   "metadata": {},
   "outputs": [],
   "source": [
    "from langchain_groq import ChatGroq\n",
    "llm=ChatGroq(model_name=\"Gemma2-9b-It\")"
   ]
  },
  {
   "cell_type": "code",
   "execution_count": 3,
   "metadata": {},
   "outputs": [
    {
     "data": {
      "text/plain": [
       "'Hello! 👋 \\n\\nHow can I help you today? 😊\\n'"
      ]
     },
     "execution_count": 3,
     "metadata": {},
     "output_type": "execute_result"
    }
   ],
   "source": [
    "llm.invoke(\"hiii\").content"
   ]
  },
  {
   "cell_type": "code",
   "execution_count": 5,
   "metadata": {},
   "outputs": [],
   "source": [
    "@tool\n",
    "def multiply(first_number: int, second_number : int ) -> int:\n",
    "    \"multiply two integer number\"\n",
    "    return first_number * second_number"
   ]
  },
  {
   "cell_type": "code",
   "execution_count": 6,
   "metadata": {},
   "outputs": [
    {
     "name": "stderr",
     "output_type": "stream",
     "text": [
      "/tmp/ipykernel_18950/2089873997.py:1: LangChainDeprecationWarning: The method `BaseTool.__call__` was deprecated in langchain-core 0.1.47 and will be removed in 1.0. Use :meth:`~invoke` instead.\n",
      "  multiply({\"first_number\":24,\"second_number\":364})\n"
     ]
    },
    {
     "data": {
      "text/plain": [
       "8736"
      ]
     },
     "execution_count": 6,
     "metadata": {},
     "output_type": "execute_result"
    }
   ],
   "source": [
    "multiply({\"first_number\":24,\"second_number\":364})"
   ]
  },
  {
   "cell_type": "code",
   "execution_count": 7,
   "metadata": {},
   "outputs": [
    {
     "data": {
      "text/plain": [
       "8736"
      ]
     },
     "execution_count": 7,
     "metadata": {},
     "output_type": "execute_result"
    }
   ],
   "source": [
    "multiply.invoke({\"first_number\":24,\"second_number\":364})"
   ]
  },
  {
   "cell_type": "code",
   "execution_count": 8,
   "metadata": {},
   "outputs": [],
   "source": [
    "@tool\n",
    "def search(query: str):\n",
    "    \"\"\"Perform the web search on the user query\"\"\"\n",
    "    tavily = TavilySearchResults()\n",
    "    result = tavily.invoke(query)\n",
    "    return result"
   ]
  },
  {
   "cell_type": "code",
   "execution_count": 9,
   "metadata": {},
   "outputs": [
    {
     "data": {
      "text/plain": [
       "[{'title': 'Presidents, vice presidents, and first ladies | USAGov',\n",
       "  'url': 'https://www.usa.gov/presidents',\n",
       "  'content': \"Learn about the duties of president, vice president, and first lady of the United States. Find out how to contact and learn more about current and past leaders.\\n\\nPresident of the United States\\n\\nThe president of the United States is the:\\n\\nCurrent president\\n\\nThe 47th and current president of the United States is Donald John Trump.\\xa0He was sworn into office on January 20, 2025.\\n\\nFormer U.S. presidents [...] Read about past presidents and vice presidents.\\n\\nFirst lady\\n\\nThe First lady of the United States has traditionally been the wife or other close female relative of the president of the United States. First ladies:\\n\\nCurrent first lady\\n\\nThe current first lady of the United States is Melania Trump.\\n\\nFormer first ladies\\n\\nFind a list of former first ladies and their presidential spouses.\\n\\nSee the Smithsonian Institution's virtual tour of first ladies' inaugural ball gowns and other artifacts. [...] The vice president of the United States presides over the U.S. Senate and takes over the role of president of the United States if the president is unable to perform their duties. If the vice president is not able to fulfill the duties of president, the role is passed to another leader in the order of presidential succession.\\n\\nCurrent vice president\\n\\nThe 50th and current vice president of the United States is James David (JD) Vance. He was sworn in on January 20, 2025\\n\\nFormer vice presidents\",\n",
       "  'score': 0.8872928},\n",
       " {'title': 'List of presidents of the United States - Wikipedia',\n",
       "  'url': 'https://en.wikipedia.org/wiki/List_of_presidents_of_the_United_States',\n",
       "  'content': 'The president of the United States is the head of state and head of government of the United States,[1] indirectly elected to a four-year term via the Electoral College.[2] Under the U.S. Constitution, the officeholder leads the executive branch of the federal government and is the commander-in-chief of the United States Armed Forces.[3] The first president, George Washington, won a unanimous vote of the Electoral College.[4] The incumbent president is Donald Trump, who assumed office on [...] January 20, 2025.[5][6] Since the office was established in 1789, 45 men have served in 47 presidencies; the discrepancy arises from two individuals elected to non-consecutive terms: Grover Cleveland is counted as the 22nd and 24th president of the United States, while Donald Trump is counted as the 45th and 47th president.[7][8] [...] 42 |  | Bill Clinton(b.1946)[73] | January 20, 1993–January 20, 2001 |  | Democratic | 19921996 | Al Gore\\n43 |  | George W. Bush(b.1946)[74] | January 20, 2001–January 20, 2009 |  | Republican | 20002004 | Dick Cheney\\n44 |  | Barack Obama(b.1961)[75] | January 20, 2009–January 20, 2017 |  | Democratic | 20082012 | Joe Biden\\n45 |  | Donald Trump(b.1946)[76] | January 20, 2017–January 20, 2021 |  | Republican | 2016 | Mike Pence',\n",
       "  'score': 0.81347597},\n",
       " {'title': 'President of the United States - Wikipedia',\n",
       "  'url': 'https://en.wikipedia.org/wiki/President_of_the_United_States',\n",
       "  'content': \"Nixon(1969–1974)Gerald Ford(1974–1977)Jimmy Carter(1977–1981)Ronald Reagan(1981–1989)George H. W. Bush(1989–1993)Bill Clinton(1993–2001)George W. Bush(2001–2009)Barack Obama(2009–2017)Donald Trump(2017–2021)Joe Biden(2021–2025)Donald Trump(2025–present) [...] The president is elected indirectly through the Electoral College to a four-year term, along with the vice president. Under the Twenty-second Amendment, ratified in 1951, no person who has been elected to two presidential terms may be elected to a third. In addition, nine vice presidents have become president by virtue of a president's intra-term death or resignation.[C] In all, 45 individuals have served 47 presidencies spanning 60 four-year terms.[D] Donald Trump is the 47th and current [...] President of the United States\\nPresidential seal\\nPresidential flag\\nIncumbentDonald Trumpsince\\xa0January 20, 2025\\nExecutive branch of the U.S. governmentExecutive Office of the President\\nStyle | Mr. President[1][2](informal)The Honorable[3](formal)His Excellency[4][5](diplomatic)\\nType | Head of stateHead of governmentCommander-in-chief\\nAbbreviation | POTUS\\nMember of | CabinetDomestic Policy CouncilNational Economic CouncilNational Security Council\\nResidence | White House\\nSeat | Washington, D.C.\",\n",
       "  'score': 0.8051581},\n",
       " {'title': 'List of USA presidents from George Washington to Donald Trump',\n",
       "  'url': 'https://timesofindia.indiatimes.com/world/us/list-of-presidents-of-us/featureshow/115011630.cms',\n",
       "  'content': 'No. | US President Name | Term start | Term end | Party | Election(s) | Vice President(s)\\n47th | Donald Trump | January 20,2025 | Present | Republican | 2024 | Kamala Harris\\n46th | Joe Biden | January 20, 2021 | Incumbent | Democratic | 2020 | Kamala Harris\\n45th | Donald Trump | January 20, 2017 | January 20, 2021 | Republican | 2016 | Mike Pence\\n44th | Barack Obama | January 20, 2009 | January 20, 2017 | Democratic | 2008, 2012 | Joe Biden [...] 43rd | George W. Bush | January 20, 2001 | January 20, 2009 | Republican | 2000, 2004 | Dick Cheney\\n42nd | Bill Clinton | January 20, 1993 | January 20, 2001 | Democratic | 1992, 1996 | Al Gore\\n41st | George H. W. Bush | January 20, 1989 | January 20, 1993 | Republican | 1988 | Dan Quayle\\n40th | Ronald Reagan | January 20, 1981 | January 20, 1989 | Republican | 1980, 1984 | George H. W. Bush\\n39th | Jimmy Carter | January 20, 1977 | January 20, 1981 | Democratic | 1976 | Walter Mondale [...] More Stories\\n\\nDonald Trump expressed his desire to be the next Pope, stating it would be his \"number one choice,\" despite being currently occupied as the US President and having been married three times. Following Pope Francis\\'s death, the Catholic Church is seeking a new leader. While Trump mentioned a cardinal from New York, reports suggest Cardinal Joseph Tobin of Newark, New Jersey, is a potential candidate.',\n",
       "  'score': 0.75312227},\n",
       " {'title': 'President of the United States - U.S. Embassy & Consulates in India',\n",
       "  'url': 'https://in.usembassy.gov/our-relationship/the-president-of-the-united-states/',\n",
       "  'content': 'AQI updates from U.S. Embassy and Consulates’ air quality monitors is available. Find out the quality of the air we breathe!\\n\\nPresident of the United States\\n\\n\\n\\nPresident Donald J. Trump\\n\\nDonald J. Trump serves as the 47th President of the United States. He also served as the 45th.\\n\\nRead the President’s full biography.\\n\\n\\n\\nVisit The White House Website\\n\\nNews, issues, and photos of the President\\n\\nU.S. Embassy in India\\n\\nU.S. Embassy\\n\\nU.S. Consulates',\n",
       "  'score': 0.709684}]"
      ]
     },
     "execution_count": 9,
     "metadata": {},
     "output_type": "execute_result"
    }
   ],
   "source": [
    "search(\"who is a current president of USA?\")"
   ]
  },
  {
   "cell_type": "code",
   "execution_count": 10,
   "metadata": {},
   "outputs": [],
   "source": [
    "tools=[search,multiply]"
   ]
  },
  {
   "cell_type": "code",
   "execution_count": 11,
   "metadata": {},
   "outputs": [],
   "source": [
    "model_with_tools = llm.bind_tools(tools)"
   ]
  },
  {
   "cell_type": "code",
   "execution_count": 12,
   "metadata": {},
   "outputs": [
    {
     "data": {
      "text/plain": [
       "{'search': StructuredTool(name='search', description='Perform the web search on the user query', args_schema=<class 'langchain_core.utils.pydantic.search'>, func=<function search at 0x7733f4280fe0>),\n",
       " 'multiply': StructuredTool(name='multiply', description='multiply two integer number', args_schema=<class 'langchain_core.utils.pydantic.multiply'>, func=<function multiply at 0x7733f4874cc0>)}"
      ]
     },
     "execution_count": 12,
     "metadata": {},
     "output_type": "execute_result"
    }
   ],
   "source": [
    "tool_mapping={tool.name: tool for tool in tools}\n",
    "tool_mapping"
   ]
  },
  {
   "cell_type": "code",
   "execution_count": 13,
   "metadata": {},
   "outputs": [],
   "source": [
    "response = model_with_tools.invoke(\"who is a current president of india\")"
   ]
  },
  {
   "cell_type": "code",
   "execution_count": 14,
   "metadata": {},
   "outputs": [
    {
     "data": {
      "text/plain": [
       "AIMessage(content='', additional_kwargs={'tool_calls': [{'id': 'call_s4x0', 'function': {'arguments': '{\"query\":\"who is the current president of india\"}', 'name': 'search'}, 'type': 'function'}]}, response_metadata={'token_usage': {'completion_tokens': 86, 'prompt_tokens': 1075, 'total_tokens': 1161, 'completion_time': 0.156363636, 'prompt_time': 0.038041581, 'queue_time': 0.24521798, 'total_time': 0.194405217}, 'model_name': 'Gemma2-9b-It', 'system_fingerprint': 'fp_10c08bf97d', 'finish_reason': 'tool_calls', 'logprobs': None}, id='run-6ba5dcbb-b9fb-4af3-934d-e5b38110f021-0', tool_calls=[{'name': 'search', 'args': {'query': 'who is the current president of india'}, 'id': 'call_s4x0', 'type': 'tool_call'}], usage_metadata={'input_tokens': 1075, 'output_tokens': 86, 'total_tokens': 1161})"
      ]
     },
     "execution_count": 14,
     "metadata": {},
     "output_type": "execute_result"
    }
   ],
   "source": [
    "response"
   ]
  },
  {
   "cell_type": "code",
   "execution_count": 15,
   "metadata": {},
   "outputs": [],
   "source": [
    "tool_details=response.additional_kwargs.get(\"tool_calls\")"
   ]
  },
  {
   "cell_type": "code",
   "execution_count": 16,
   "metadata": {},
   "outputs": [
    {
     "data": {
      "text/plain": [
       "[{'id': 'call_s4x0',\n",
       "  'function': {'arguments': '{\"query\":\"who is the current president of india\"}',\n",
       "   'name': 'search'},\n",
       "  'type': 'function'}]"
      ]
     },
     "execution_count": 16,
     "metadata": {},
     "output_type": "execute_result"
    }
   ],
   "source": [
    "tool_details"
   ]
  },
  {
   "cell_type": "code",
   "execution_count": 17,
   "metadata": {},
   "outputs": [
    {
     "data": {
      "text/plain": [
       "'search'"
      ]
     },
     "execution_count": 17,
     "metadata": {},
     "output_type": "execute_result"
    }
   ],
   "source": [
    "tool_details[0][\"function\"][\"name\"]"
   ]
  },
  {
   "cell_type": "code",
   "execution_count": 19,
   "metadata": {},
   "outputs": [
    {
     "data": {
      "text/plain": [
       "'{\"query\":\"who is the current president of india\"}'"
      ]
     },
     "execution_count": 19,
     "metadata": {},
     "output_type": "execute_result"
    }
   ],
   "source": [
    "tool_details[0]['function']['arguments']"
   ]
  },
  {
   "cell_type": "code",
   "execution_count": 22,
   "metadata": {},
   "outputs": [
    {
     "data": {
      "text/plain": [
       "{'query': 'who is the current president of india'}"
      ]
     },
     "execution_count": 22,
     "metadata": {},
     "output_type": "execute_result"
    }
   ],
   "source": [
    "json.loads(tool_details[0]['function']['arguments'])"
   ]
  },
  {
   "cell_type": "code",
   "execution_count": 23,
   "metadata": {},
   "outputs": [],
   "source": [
    "class AgentState(TypedDict):\n",
    "    messages: Annotated[Sequence[BaseMessage], operator.add]"
   ]
  },
  {
   "cell_type": "code",
   "execution_count": 24,
   "metadata": {},
   "outputs": [],
   "source": [
    "def invoke_model(state:AgentState):\n",
    "    messages = state['messages']\n",
    "    question = messages[-1]   ## Fetching the user question\n",
    "    return {\"messages\":[model_with_tools.invoke(question)]}"
   ]
  },
  {
   "cell_type": "code",
   "execution_count": 25,
   "metadata": {},
   "outputs": [],
   "source": [
    "def invoke_tool(state:AgentState):\n",
    "    tool_details= state['messages'][-1].additional_kwargs.get(\"tool_calls\", [])[0]\n",
    "    \n",
    "    if tool_details is None:\n",
    "        raise Exception(\"no tool call found\")\n",
    "    \n",
    "    print(f'Selected tool: {tool_details.get(\"function\").get(\"name\")}')\n",
    "    \n",
    "    if tool_details.get(\"function\").get(\"name\")==\"search\":\n",
    "        response = input(prompt=f\"[y/n] continue with expensive web search?\")\n",
    "        if response == \"n\":\n",
    "            raise Exception(\"web search discard\")\n",
    "        \n",
    "    response = tool_mapping[tool_details['function']['name']].invoke(json.loads(tool_details.get(\"function\").get(\"arguments\")))\n",
    "    return {\"messages\" : [response]}"
   ]
  },
  {
   "cell_type": "code",
   "execution_count": 26,
   "metadata": {},
   "outputs": [],
   "source": [
    "def router(state):\n",
    "    tool_calls = state['messages'][-1].additional_kwargs.get(\"tool_calls\", [])\n",
    "    if len(tool_calls):\n",
    "        return \"tool\"\n",
    "    else:\n",
    "        return \"end\""
   ]
  },
  {
   "cell_type": "code",
   "execution_count": 27,
   "metadata": {},
   "outputs": [
    {
     "data": {
      "text/plain": [
       "<langgraph.graph.state.StateGraph at 0x7733f45d36e0>"
      ]
     },
     "execution_count": 27,
     "metadata": {},
     "output_type": "execute_result"
    }
   ],
   "source": [
    "graph = StateGraph(AgentState) ### StateGraph with AgentState\n",
    "\n",
    "graph.add_node(\"ai_assistant\", invoke_model)\n",
    "\n",
    "graph.add_node(\"tool\", invoke_tool)"
   ]
  },
  {
   "cell_type": "code",
   "execution_count": 28,
   "metadata": {},
   "outputs": [
    {
     "data": {
      "text/plain": [
       "<langgraph.graph.state.StateGraph at 0x7733f45d36e0>"
      ]
     },
     "execution_count": 28,
     "metadata": {},
     "output_type": "execute_result"
    }
   ],
   "source": [
    "graph.add_conditional_edges(\"ai_assistant\", router, {\"tool\": \"tool\",\"end\": END,})\n",
    "\n",
    "graph.add_edge(\"tool\", END)\n",
    "\n",
    "#graph.add_edge(\"tool\", \"ai_assistant\")\n",
    "\n",
    "graph.set_entry_point(\"ai_assistant\")"
   ]
  },
  {
   "cell_type": "code",
   "execution_count": 29,
   "metadata": {},
   "outputs": [],
   "source": [
    "app = graph.compile()"
   ]
  },
  {
   "cell_type": "code",
   "execution_count": 30,
   "metadata": {},
   "outputs": [
    {
     "data": {
      "image/png": "[encoded data removed]",
      "text/plain": [
       "<IPython.core.display.Image object>"
      ]
     },
     "metadata": {},
     "output_type": "display_data"
    }
   ],
   "source": [
    "from IPython.display import Image, display\n",
    "display(Image(app.get_graph().draw_mermaid_png()))"
   ]
  },
  {
   "cell_type": "code",
   "execution_count": 31,
   "metadata": {},
   "outputs": [
    {
     "name": "stdout",
     "output_type": "stream",
     "text": [
      "{'messages': [AIMessage(content='', additional_kwargs={'tool_calls': [{'id': 'call_0tej', 'function': {'arguments': '{\"query\":\"upcoming president of India\"}', 'name': 'search'}, 'type': 'function'}]}, response_metadata={'token_usage': {'completion_tokens': 82, 'prompt_tokens': 1075, 'total_tokens': 1157, 'completion_time': 0.149090909, 'prompt_time': 0.039180016, 'queue_time': 0.253923025, 'total_time': 0.188270925}, 'model_name': 'Gemma2-9b-It', 'system_fingerprint': 'fp_10c08bf97d', 'finish_reason': 'tool_calls', 'logprobs': None}, id='run-bf8c151a-afd0-4f3b-9b3c-d3369df28d0c-0', tool_calls=[{'name': 'search', 'args': {'query': 'upcoming president of India'}, 'id': 'call_0tej', 'type': 'tool_call'}], usage_metadata={'input_tokens': 1075, 'output_tokens': 82, 'total_tokens': 1157})]}\n",
      "----\n",
      "Selected tool: search\n",
      "{'messages': [[{'title': 'President of India - Wikipedia', 'url': 'https://en.wikipedia.org/wiki/President_of_India', 'content': 'India portalOther countries\\nvte\\nThe president of India  (ISO: Bhārata kē Rāṣṭrapati) is the head of state of the Republic of India. The president is the nominal head of the executive,[a] the first citizen of the country, and the supreme commander of the Indian Armed Forces. Droupadi Murmu is the 15th and current president, having taken office on 25 July 2022. [...] President of India\\nBhārata kē Rāṣṭrapati\\nLogo of the President of India\\nFlag of India\\nIncumbentDroupadi Murmusince\\xa025 July 2022\\nHead of state of the Republic of IndiaExecutive branch of the Indian Government\\nStyle | Hon\\'ble President(within India)[1]Her Excellency(outside India)[1]The Honourable(within theCommonwealth)\\nType | Head of stateCommander-in-chief\\nAbbreviation | POI\\nResidence | Rashtrapati Bhavan\\nSeat | New Delhi, Delhi, India\\nAppointer | Electoral College of India [...] making India a republic.[6]:\\u200a9\\u200a The offices of monarch and governor-general were replaced by the new office of President of India, with Rajendra Prasad as its first incumbent.[6]:\\u200a1\\u200a India retained its Commonwealth membership per the London Declaration, recognising The King as \"the symbol of the free association of its independent member nations and as such the Head of the Commonwealth.\"[7]', 'score': 0.7610953}, {'title': 'President of India: Home', 'url': 'http://presidentofindia.nic.in/', 'content': 'The Deputy Prime Minister and Minister of Foreign Affairs of Italy, H.E. Mr. Antonio Tajani called on the President of India, Smt. Droupadi Murmu at Rashtrapati Bhavan on April 12, 2025.\\n\\nThe President of India, Smt Droupadi Murmu received the ‘City Key of Honour’ of Lisbon City from the Mayor of Lisbon at a function held at the City Hall of Lisbon, Portugal on April 7, 2025. [...] The President of India, Smt. Droupadi Murmu attended the funeral Mass of His Holiness Pope Francis at Saint Peter’s Square in Vatican City on April 26, 2025.\\n\\nA group of IAS officers from the 2023 batch, currently serving as Assistant Secretaries in various Union Ministries and Departments, called on the President of India, Smt. Droupadi Murmu, at the Rashtrapati Bhavan Cultural Centre on April 15, 2025. [...] President Droupadi Murmu was warmly received by the President of the Republic of Portugal, H.E. Mr Marcelo Rebelo de Sousa at the historic ‘Praca do Imperio’ in Lisbon on April 7, 2025.\\n\\nThe President of India, Smt Droupadi Murmu received H.E. Mr Gabriel Boric Font, President of the Republic of Chile at Rashtrapati Bhavan on April 1, 2025.', 'score': 0.7325349}, {'title': 'State Visit of the President of India to Portugal and Slovakia (April 7', 'url': 'https://www.mea.gov.in/press-releases.htm?dtl/39318/State+Visit+of+the+President+of+India+to+Portugal+and+Slovakia+April+7+10+2025', 'content': 'Media Center\\n\\nState Visit of the President of India to Portugal and Slovakia (April 7- 10, 2025)\\n\\nApril 02, 2025\\n\\nHon’ble President of India Smt. Droupadi Murmu will embark on State Visits to Portugal and Slovakia from April 7-10, 2025. [...] 5. At the invitation of the President of Slovakia H.E. Mr. Peter Pellegrini, the Hon’ble President of India, Smt. Droupadi Murmu will also visit the Slovak Republic from 9-10 April, 2025. This will be the first visit by the President of India to Slovakia in 29 years.', 'score': 0.6889923}, {'title': 'Profile | President of India', 'url': 'http://presidentofindia.gov.in/Profile', 'content': 'Profile of the President. Smt. Droupadi Murmu was sworn in as the 15th President of India on 25 July, 2022. Previously, she was the Governor of Jharkhand', 'score': 0.6768127}, {'title': \"India's Next President Will Make History When She's Sworn In\", 'url': 'https://www.nytimes.com/2022/07/21/world/asia/india-president.html', 'content': \"Droupadi Murmu, who was elected to the largely ceremonial post this week, will be the first president from one of India's Indigenous tribes.\", 'score': 0.65940565}]]}\n",
      "----\n"
     ]
    }
   ],
   "source": [
    "for s in app.stream({\"messages\": [\"who is upcoming president of India?\"]}):\n",
    "    print(list(s.values())[0])\n",
    "    print(\"----\")"
   ]
  },
  {
   "cell_type": "code",
   "execution_count": 32,
   "metadata": {},
   "outputs": [
    {
     "name": "stdout",
     "output_type": "stream",
     "text": [
      "{'messages': [AIMessage(content='', additional_kwargs={'tool_calls': [{'id': 'call_xt8w', 'function': {'arguments': '{\"first_number\":23,\"second_number\":46}', 'name': 'multiply'}, 'type': 'function'}]}, response_metadata={'token_usage': {'completion_tokens': 93, 'prompt_tokens': 1080, 'total_tokens': 1173, 'completion_time': 0.169090909, 'prompt_time': 0.047054787, 'queue_time': 0.25232196, 'total_time': 0.216145696}, 'model_name': 'Gemma2-9b-It', 'system_fingerprint': 'fp_10c08bf97d', 'finish_reason': 'tool_calls', 'logprobs': None}, id='run-f0c32367-c83d-4af4-b89b-415d8ede9403-0', tool_calls=[{'name': 'multiply', 'args': {'first_number': 23, 'second_number': 46}, 'id': 'call_xt8w', 'type': 'tool_call'}], usage_metadata={'input_tokens': 1080, 'output_tokens': 93, 'total_tokens': 1173})]}\n",
      "----\n",
      "Selected tool: multiply\n",
      "{'messages': [1058]}\n",
      "----\n"
     ]
    }
   ],
   "source": [
    "for s in app.stream({\"messages\": [\"what is multiplication of 23 and 46?\"]}):\n",
    "    print(list(s.values())[0])\n",
    "    print(\"----\")"
   ]
  },
  {
   "cell_type": "markdown",
   "metadata": {},
   "source": [
    "##### LangGraph supports human-in-the-loop workflows in a number of ways. In this section, we will use LangGraph's interrupt_before functionality to always break the tool node."
   ]
  },
  {
   "cell_type": "code",
   "execution_count": 33,
   "metadata": {},
   "outputs": [],
   "source": [
    "class AgentState(TypedDict):\n",
    "    messages: Annotated[list, add_messages]"
   ]
  },
  {
   "cell_type": "code",
   "execution_count": 35,
   "metadata": {},
   "outputs": [],
   "source": [
    "tavily=TavilySearchResults()\n",
    "tools = [tavily]"
   ]
  },
  {
   "cell_type": "code",
   "execution_count": 36,
   "metadata": {},
   "outputs": [],
   "source": [
    "llm_with_tools = llm.bind_tools(tools)"
   ]
  },
  {
   "cell_type": "code",
   "execution_count": 37,
   "metadata": {},
   "outputs": [],
   "source": [
    "def ai_assistant(state: AgentState):\n",
    "    return {\"messages\": [llm_with_tools.invoke(state[\"messages\"])]}"
   ]
  },
  {
   "cell_type": "code",
   "execution_count": 38,
   "metadata": {},
   "outputs": [],
   "source": [
    "memory = MemorySaver()"
   ]
  },
  {
   "cell_type": "code",
   "execution_count": 39,
   "metadata": {},
   "outputs": [
    {
     "data": {
      "text/plain": [
       "<langgraph.graph.state.StateGraph at 0x7733e072a600>"
      ]
     },
     "execution_count": 39,
     "metadata": {},
     "output_type": "execute_result"
    }
   ],
   "source": [
    "graph_builder = StateGraph(AgentState)\n",
    "graph_builder.add_node(\"ai_assistant\", ai_assistant)\n",
    "\n",
    "tool_node = ToolNode(tools=tools)\n",
    "graph_builder.add_node(\"tools\", tool_node)"
   ]
  },
  {
   "cell_type": "code",
   "execution_count": 40,
   "metadata": {},
   "outputs": [
    {
     "data": {
      "text/plain": [
       "<langgraph.graph.state.StateGraph at 0x7733e072a600>"
      ]
     },
     "execution_count": 40,
     "metadata": {},
     "output_type": "execute_result"
    }
   ],
   "source": [
    "graph_builder.add_edge(START, \"ai_assistant\")\n",
    "\n",
    "graph_builder.add_conditional_edges(\n",
    "    \"ai_assistant\",\n",
    "    tools_condition,\n",
    ")\n",
    "graph_builder.add_edge(\"tools\", \"ai_assistant\")"
   ]
  },
  {
   "cell_type": "code",
   "execution_count": 41,
   "metadata": {},
   "outputs": [],
   "source": [
    "app2 = graph_builder.compile(\n",
    "    checkpointer=memory,\n",
    "    # This is new!\n",
    "    interrupt_before=[\"tools\"],\n",
    "    # Note: can also interrupt __after__ tools, if desired.\n",
    "    # interrupt_after=[\"tools\"]\n",
    ")"
   ]
  },
  {
   "cell_type": "code",
   "execution_count": 42,
   "metadata": {},
   "outputs": [
    {
     "data": {
      "image/png": "[encoded data removed]",
      "text/plain": [
       "<IPython.core.display.Image object>"
      ]
     },
     "metadata": {},
     "output_type": "display_data"
    }
   ],
   "source": [
    "from IPython.display import Image, display\n",
    "display(Image(app2.get_graph().draw_mermaid_png()))"
   ]
  },
  {
   "cell_type": "code",
   "execution_count": 43,
   "metadata": {},
   "outputs": [],
   "source": [
    "user_input = \"what is current a capital of india?\"\n",
    "config = {\"configurable\": {\"thread_id\": \"1\"}}"
   ]
  },
  {
   "cell_type": "code",
   "execution_count": 44,
   "metadata": {},
   "outputs": [],
   "source": [
    "# The config is the **second positional argument** to stream() or invoke()!\n",
    "events = app2.stream(\n",
    "    {\"messages\": [(\"user\", user_input)]}, config, stream_mode=\"values\"\n",
    ")"
   ]
  },
  {
   "cell_type": "code",
   "execution_count": 45,
   "metadata": {},
   "outputs": [
    {
     "name": "stdout",
     "output_type": "stream",
     "text": [
      "================================\u001b[1m Human Message \u001b[0m=================================\n",
      "\n",
      "what is current a capital of india?\n",
      "==================================\u001b[1m Ai Message \u001b[0m==================================\n",
      "Tool Calls:\n",
      "  tavily_search_results_json (call_vbnq)\n",
      " Call ID: call_vbnq\n",
      "  Args:\n",
      "    query: capital of india\n"
     ]
    }
   ],
   "source": [
    "for event in events:\n",
    "    if \"messages\" in event:\n",
    "        event[\"messages\"][-1].pretty_print()"
   ]
  },
  {
   "cell_type": "code",
   "execution_count": 46,
   "metadata": {},
   "outputs": [],
   "source": [
    "snapshot = app2.get_state(config)"
   ]
  },
  {
   "cell_type": "code",
   "execution_count": 47,
   "metadata": {},
   "outputs": [
    {
     "data": {
      "text/plain": [
       "('tools',)"
      ]
     },
     "execution_count": 47,
     "metadata": {},
     "output_type": "execute_result"
    }
   ],
   "source": [
    "snapshot.next"
   ]
  },
  {
   "cell_type": "code",
   "execution_count": 48,
   "metadata": {},
   "outputs": [],
   "source": [
    "last_message=snapshot.values[\"messages\"][-1]"
   ]
  },
  {
   "cell_type": "code",
   "execution_count": 49,
   "metadata": {},
   "outputs": [
    {
     "data": {
      "text/plain": [
       "[{'name': 'tavily_search_results_json',\n",
       "  'args': {'query': 'capital of india'},\n",
       "  'id': 'call_vbnq',\n",
       "  'type': 'tool_call'}]"
      ]
     },
     "execution_count": 49,
     "metadata": {},
     "output_type": "execute_result"
    }
   ],
   "source": [
    "last_message.tool_calls"
   ]
  },
  {
   "cell_type": "code",
   "execution_count": 52,
   "metadata": {},
   "outputs": [],
   "source": [
    "# `None` will append nothing new to the current state, letting it resume as if it had never been interrupted\n",
    "events = app2.stream(None, config, stream_mode=\"values\")"
   ]
  },
  {
   "cell_type": "code",
   "execution_count": 53,
   "metadata": {},
   "outputs": [
    {
     "name": "stdout",
     "output_type": "stream",
     "text": [
      "==================================\u001b[1m Ai Message \u001b[0m==================================\n",
      "Tool Calls:\n",
      "  tavily_search_results_json (call_r3xr)\n",
      " Call ID: call_r3xr\n",
      "  Args:\n",
      "    query: capital of india\n",
      "=================================\u001b[1m Tool Message \u001b[0m=================================\n",
      "Name: tavily_search_results_json\n",
      "\n",
      "[{\"title\": \"What is the capital of India? States and union territories explained.\", \"url\": \"https://www.usatoday.com/story/news/world/2023/05/24/what-is-the-capital-of-india/70195720007/\", \"content\": \"The capital of India is New Delhi, located in the north-central part of the country to the west of the Yamuna River. Calcutta (now Kolkata, the\", \"score\": 0.9014448}, {\"title\": \"New Delhi - Wikipedia\", \"url\": \"https://en.wikipedia.org/wiki/New_Delhi\", \"content\": \"New Delhi (/ˈnjuː ˈdɛ.li/ ⓘ,[6] Hindi: [ˈnəiː ˈdɪlːiː], ISO: Naī Dillī) is the capital of India and a part of the National Capital Territory of Delhi (NCT). New Delhi is the seat of all three branches of the Government of India, hosting the Rashtrapati Bhavan, Sansad Bhavan, and the Supreme Court. New Delhi is a municipality within the NCT, administered by the NDMC, which covers mostly Lutyens' Delhi and a few adjacent areas. The municipal area is part of a larger administrative district, the [...] Jump to content\\nMain menu\\nSearch\\nDonate\\nCreate account\\nLog in\\nPersonal tools\\nToggle the table of contents\\nNew Delhi\\n189 languages\\nArticle\\nTalk\\nRead\\nView source\\nView history\\nTools\\nCoordinates: 28°36′50″N 77°12′32″E\\nFrom Wikipedia, the free encyclopedia\\nThis article is about the capital of India, within the union territory of Delhi. For other uses, see New Delhi (disambiguation). [...] ^ \\\"86 years ago New Delhi took over as power capital of India\\\". The Times of India. Archived from the original on 1 March 2021. Retrieved 31 May 2018.\\n^ a b Wright, Tom (11 November 2011). \\\"Why Delhi? The Move From Calcutta\\\". The Wall Street Journal. Archived from the original on 27 July 2020. Retrieved 16 November 2011.\", \"score\": 0.86136365}, {\"title\": \"The Capital of India | Know Your Country | National Geographic\", \"url\": \"https://www.youtube.com/watch?v=qELzANfST38&pp=0gcJCdgAo7VqN5tD\", \"content\": \"From the land of Pandavas, Indraprastha to now the capital region of the largest democracy, India, Delhi has been the face to many kingdoms\", \"score\": 0.8232293}, {\"title\": \"Delhi, India's MEGACITY: Capital of a Billion People - YouTube\", \"url\": \"https://www.youtube.com/watch?v=OUPTGDrXDy4\", \"content\": \"India's capital and most populous city is Delhi, home to 31 million residents.\", \"score\": 0.8145405}, {\"title\": \"Delhi - Wikipedia\", \"url\": \"https://en.wikipedia.org/wiki/Delhi\", \"content\": \"As the capital of India, Delhi is the focus of political reportage, including regular television broadcasts of Parliament sessions. Many national media agencies, including the state-owned Press Trust of India, Media Trust of India and Doordarshan, are based in the city. Television programming includes two free terrestrial television channels offered by Doordarshan, and several Hindi, English, and regional-language cable channels offered by multi system operators. Satellite television has yet to [...] The name \\\"New Delhi\\\" was given in 1927, and the new capital was inaugurated on 13 February 1931. New Delhi was officially declared as the capital of the Union of India after the country gained independence on 15 August 1947.[58] It has expanded since; the small part of it that was constructed during the British period has come to be informally known as Lutyens' Delhi.[59] [...] Delhi, a southern region within Delhi, became the capital of the British Indian Empire. During the Partition of India in 1947, Delhi was transformed from a Mughal city to a Punjabi one, losing two-thirds of its Muslim residents, in part due to the pressure brought to bear by arriving Hindu and Sikh refugees from western Punjab.[21] After independence in 1947, New Delhi continued as the capital of the Dominion of India, and after 1950 of the Republic of India.\", \"score\": 0.79901963}]\n",
      "==================================\u001b[1m Ai Message \u001b[0m==================================\n",
      "\n",
      "New Delhi\n"
     ]
    }
   ],
   "source": [
    "for event in events:\n",
    "    if \"messages\" in event:\n",
    "        event[\"messages\"][-1].pretty_print()"
   ]
  },
  {
   "cell_type": "code",
   "execution_count": 54,
   "metadata": {},
   "outputs": [],
   "source": [
    "user_input = \"what is a weather there?\"\n",
    "\n",
    "config = {\"configurable\": {\"thread_id\": \"1\"}}"
   ]
  },
  {
   "cell_type": "code",
   "execution_count": 55,
   "metadata": {},
   "outputs": [],
   "source": [
    "# The config is the **second positional argument** to stream() or invoke()!\n",
    "events = app2.stream(\n",
    "    {\"messages\": [(\"user\", user_input)]}, config, stream_mode=\"values\"\n",
    ")"
   ]
  },
  {
   "cell_type": "code",
   "execution_count": 56,
   "metadata": {},
   "outputs": [
    {
     "name": "stdout",
     "output_type": "stream",
     "text": [
      "================================\u001b[1m Human Message \u001b[0m=================================\n",
      "\n",
      "what is a weather there?\n",
      "==================================\u001b[1m Ai Message \u001b[0m==================================\n",
      "Tool Calls:\n",
      "  tavily_search_results_json (call_246b)\n",
      " Call ID: call_246b\n",
      "  Args:\n",
      "    query: weather in new delhi\n"
     ]
    }
   ],
   "source": [
    "for event in events:\n",
    "    if \"messages\" in event:\n",
    "        event[\"messages\"][-1].pretty_print()"
   ]
  },
  {
   "cell_type": "code",
   "execution_count": 57,
   "metadata": {},
   "outputs": [],
   "source": [
    "snapshot = app2.get_state(config)"
   ]
  },
  {
   "cell_type": "code",
   "execution_count": 58,
   "metadata": {},
   "outputs": [
    {
     "data": {
      "text/plain": [
       "('tools',)"
      ]
     },
     "execution_count": 58,
     "metadata": {},
     "output_type": "execute_result"
    }
   ],
   "source": [
    "snapshot.next"
   ]
  },
  {
   "cell_type": "code",
   "execution_count": 59,
   "metadata": {},
   "outputs": [],
   "source": [
    "last_message=snapshot.values[\"messages\"][-1]"
   ]
  },
  {
   "cell_type": "code",
   "execution_count": 60,
   "metadata": {},
   "outputs": [
    {
     "data": {
      "text/plain": [
       "[{'name': 'tavily_search_results_json',\n",
       "  'args': {'query': 'weather in new delhi'},\n",
       "  'id': 'call_246b',\n",
       "  'type': 'tool_call'}]"
      ]
     },
     "execution_count": 60,
     "metadata": {},
     "output_type": "execute_result"
    }
   ],
   "source": [
    "last_message.tool_calls"
   ]
  },
  {
   "cell_type": "code",
   "execution_count": 61,
   "metadata": {},
   "outputs": [],
   "source": [
    "# `None` will append nothing new to the current state, letting it resume as if it had never been interrupted\n",
    "events = app2.stream(None, config, stream_mode=\"values\")"
   ]
  },
  {
   "cell_type": "code",
   "execution_count": 62,
   "metadata": {},
   "outputs": [
    {
     "name": "stdout",
     "output_type": "stream",
     "text": [
      "==================================\u001b[1m Ai Message \u001b[0m==================================\n",
      "Tool Calls:\n",
      "  tavily_search_results_json (call_246b)\n",
      " Call ID: call_246b\n",
      "  Args:\n",
      "    query: weather in new delhi\n",
      "=================================\u001b[1m Tool Message \u001b[0m=================================\n",
      "Name: tavily_search_results_json\n",
      "\n",
      "[{\"title\": \"maximum and minimum temperatures - New Delhi\", \"url\": \"https://rmcnewdelhi.imd.gov.in/press/press.php\", \"content\": \"Dated:02-05-2025. Forecast Valid for:03-05-2025. LOCAL WEATHER FORECAST OF DELHI. Forecast: GENERALLY CLOUDY SKY. VERY LIGHT TO LIGHT RAIN. THUNDERSTORM\", \"score\": 0.9471519}, {\"title\": \"New Delhi Weather Forecast 3 May 2025 - Times of India\", \"url\": \"https://timesofindia.indiatimes.com/weather/new-delhi-weather-forecast-today/110011\", \"content\": \"Today's Weather in New Delhi: In New Delhi today, the weather is expected to be Haze with a maximum temperature of 29°C and a minimum of 24°C. Sunrise in\", \"score\": 0.9393874}, {\"title\": \"Delhi Weather Forecast for March 5, 2025: Gusty Winds & Clear ...\", \"url\": \"https://www.moneycontrol.com/travel/delhi-weather-forecast-for-march-5-2025-gusty-winds-clear-skies-expected-article-12956211.html\", \"content\": \"Morning temperatures started at a chilly 12°C but will rise to a comfortable 27°C by the afternoon. No rainfall is expected, ensuring a bright\", \"score\": 0.91023487}, {\"title\": \"Delhi Weather Forecast and AQI Today on March 3, 2025 - MSN\", \"url\": \"https://www.msn.com/en-in/news/India/delhi-weather-forecast-and-aqi-today-on-march-3-2025-warm-start-at-13-05-c-find-out-the-complete-weather-forecast/ar-AA1A6Tjq\", \"content\": \"Delhi Weather Forecast and AQI Today on March 3, 2025: Warm start at 13.05 °C., Find out the complete weather forecast · Delhi AQI Today: · Delhi\", \"score\": 0.88822687}, {\"title\": \"Weather in new delhi\", \"url\": \"https://www.weatherapi.com/\", \"content\": \"{'location': {'name': 'New Delhi', 'region': 'Delhi', 'country': 'India', 'lat': 28.6, 'lon': 77.2, 'tz_id': 'Asia/Kolkata', 'localtime_epoch': 1746256298, 'localtime': '2025-05-03 12:41'}, 'current': {'last_updated_epoch': 1746255600, 'last_updated': '2025-05-03 12:30', 'temp_c': 30.3, 'temp_f': 86.5, 'is_day': 1, 'condition': {'text': 'Mist', 'icon': '//cdn.weatherapi.com/weather/64x64/day/143.png', 'code': 1030}, 'wind_mph': 4.5, 'wind_kph': 7.2, 'wind_degree': 188, 'wind_dir': 'S', 'pressure_mb': 1009.0, 'pressure_in': 29.8, 'precip_mm': 0.0, 'precip_in': 0.0, 'humidity': 46, 'cloud': 50, 'feelslike_c': 28.5, 'feelslike_f': 83.3, 'windchill_c': 36.1, 'windchill_f': 97.1, 'heatindex_c': 35.5, 'heatindex_f': 95.8, 'dewpoint_c': 12.2, 'dewpoint_f': 54.0, 'vis_km': 4.0, 'vis_miles': 2.0, 'uv': 8.3, 'gust_mph': 5.1, 'gust_kph': 8.3}}\", \"score\": 0.8586911}]\n",
      "==================================\u001b[1m Ai Message \u001b[0m==================================\n",
      "\n",
      "The weather in New Delhi today is expected to be Generally Cloudy with a high of 29°C and a low of 24°C. There is a chance of Very Light to Light Rain and Thunderstorm.\n"
     ]
    }
   ],
   "source": [
    "for event in events:\n",
    "    if \"messages\" in event:\n",
    "        event[\"messages\"][-1].pretty_print()"
   ]
  },
  {
   "cell_type": "code",
   "execution_count": 63,
   "metadata": {},
   "outputs": [
    {
     "data": {
      "text/plain": [
       "StateSnapshot(values={'messages': [HumanMessage(content='what is current a capital of india?', additional_kwargs={}, response_metadata={}, id='5aaeaeca-1d5f-4d07-a3e6-fb2ba1bca5db'), AIMessage(content='', additional_kwargs={'tool_calls': [{'id': 'call_vbnq', 'function': {'arguments': '{\"query\":\"capital of india\"}', 'name': 'tavily_search_results_json'}, 'type': 'function'}]}, response_metadata={'token_usage': {'completion_tokens': 89, 'prompt_tokens': 989, 'total_tokens': 1078, 'completion_time': 0.161818182, 'prompt_time': 0.03466802, 'queue_time': 0.24630004200000002, 'total_time': 0.196486202}, 'model_name': 'Gemma2-9b-It', 'system_fingerprint': 'fp_10c08bf97d', 'finish_reason': 'tool_calls', 'logprobs': None}, id='run-c702855b-146b-4a3a-8155-aab4f8dfcb2f-0', tool_calls=[{'name': 'tavily_search_results_json', 'args': {'query': 'capital of india'}, 'id': 'call_vbnq', 'type': 'tool_call'}], usage_metadata={'input_tokens': 989, 'output_tokens': 89, 'total_tokens': 1078}), ToolMessage(content='[{\"title\": \"What is the capital of India? States and union territories explained.\", \"url\": \"https://www.usatoday.com/story/news/world/2023/05/24/what-is-the-capital-of-india/70195720007/\", \"content\": \"The capital of India is New Delhi, located in the north-central part of the country to the west of the Yamuna River. Calcutta (now Kolkata, the\", \"score\": 0.9014448}, {\"title\": \"New Delhi - Wikipedia\", \"url\": \"https://en.wikipedia.org/wiki/New_Delhi\", \"content\": \"New Delhi (/ˈnjuː ˈdɛ.li/ ⓘ,[6] Hindi: [ˈnəiː ˈdɪlːiː], ISO: Naī Dillī) is the capital of India and a part of the National Capital Territory of Delhi (NCT). New Delhi is the seat of all three branches of the Government of India, hosting the Rashtrapati Bhavan, Sansad Bhavan, and the Supreme Court. New Delhi is a municipality within the NCT, administered by the NDMC, which covers mostly Lutyens\\' Delhi and a few adjacent areas. The municipal area is part of a larger administrative district, the [...] Jump to content\\\\nMain menu\\\\nSearch\\\\nDonate\\\\nCreate account\\\\nLog in\\\\nPersonal tools\\\\nToggle the table of contents\\\\nNew Delhi\\\\n189 languages\\\\nArticle\\\\nTalk\\\\nRead\\\\nView source\\\\nView history\\\\nTools\\\\nCoordinates: 28°36′50″N 77°12′32″E\\\\nFrom Wikipedia, the free encyclopedia\\\\nThis article is about the capital of India, within the union territory of Delhi. For other uses, see New Delhi (disambiguation). [...] ^ \\\\\"86 years ago New Delhi took over as power capital of India\\\\\". The Times of India. Archived from the original on 1 March 2021. Retrieved 31 May 2018.\\\\n^ a b Wright, Tom (11 November 2011). \\\\\"Why Delhi? The Move From Calcutta\\\\\". The Wall Street Journal. Archived from the original on 27 July 2020. Retrieved 16 November 2011.\", \"score\": 0.86136365}, {\"title\": \"The Capital of India | Know Your Country | National Geographic\", \"url\": \"https://www.youtube.com/watch?v=qELzANfST38&pp=0gcJCdgAo7VqN5tD\", \"content\": \"From the land of Pandavas, Indraprastha to now the capital region of the largest democracy, India, Delhi has been the face to many kingdoms\", \"score\": 0.8232293}, {\"title\": \"Delhi, India\\'s MEGACITY: Capital of a Billion People - YouTube\", \"url\": \"https://www.youtube.com/watch?v=OUPTGDrXDy4\", \"content\": \"India\\'s capital and most populous city is Delhi, home to 31 million residents.\", \"score\": 0.8145405}, {\"title\": \"Delhi - Wikipedia\", \"url\": \"https://en.wikipedia.org/wiki/Delhi\", \"content\": \"As the capital of India, Delhi is the focus of political reportage, including regular television broadcasts of Parliament sessions. Many national media agencies, including the state-owned Press Trust of India, Media Trust of India and Doordarshan, are based in the city. Television programming includes two free terrestrial television channels offered by Doordarshan, and several Hindi, English, and regional-language cable channels offered by multi system operators. Satellite television has yet to [...] The name \\\\\"New Delhi\\\\\" was given in 1927, and the new capital was inaugurated on 13 February 1931. New Delhi was officially declared as the capital of the Union of India after the country gained independence on 15 August 1947.[58] It has expanded since; the small part of it that was constructed during the British period has come to be informally known as Lutyens\\' Delhi.[59] [...] Delhi, a southern region within Delhi, became the capital of the British Indian Empire. During the Partition of India in 1947, Delhi was transformed from a Mughal city to a Punjabi one, losing two-thirds of its Muslim residents, in part due to the pressure brought to bear by arriving Hindu and Sikh refugees from western Punjab.[21] After independence in 1947, New Delhi continued as the capital of the Dominion of India, and after 1950 of the Republic of India.\", \"score\": 0.79901963}]', name='tavily_search_results_json', id='d5d52063-e62b-44ce-a1c4-c0ec6530fc1f', tool_call_id='call_vbnq', artifact={'query': 'capital of india', 'follow_up_questions': None, 'answer': None, 'images': [], 'results': [{'url': 'https://www.usatoday.com/story/news/world/2023/05/24/what-is-the-capital-of-india/70195720007/', 'title': 'What is the capital of India? States and union territories explained.', 'content': 'The capital of India is New Delhi, located in the north-central part of the country to the west of the Yamuna River. Calcutta (now Kolkata, the', 'score': 0.9014448, 'raw_content': None}, {'url': 'https://en.wikipedia.org/wiki/New_Delhi', 'title': 'New Delhi - Wikipedia', 'content': 'New Delhi (/ˈnjuː ˈdɛ.li/ ⓘ,[6] Hindi: [ˈnəiː ˈdɪlːiː], ISO: Naī Dillī) is the capital of India and a part of the National Capital Territory of Delhi (NCT). New Delhi is the seat of all three branches of the Government of India, hosting the Rashtrapati Bhavan, Sansad Bhavan, and the Supreme Court. New Delhi is a municipality within the NCT, administered by the NDMC, which covers mostly Lutyens\\' Delhi and a few adjacent areas. The municipal area is part of a larger administrative district, the [...] Jump to content\\nMain menu\\nSearch\\nDonate\\nCreate account\\nLog in\\nPersonal tools\\nToggle the table of contents\\nNew Delhi\\n189 languages\\nArticle\\nTalk\\nRead\\nView source\\nView history\\nTools\\nCoordinates: 28°36′50″N 77°12′32″E\\nFrom Wikipedia, the free encyclopedia\\nThis article is about the capital of India, within the union territory of Delhi. For other uses, see New Delhi (disambiguation). [...] ^ \"86 years ago New Delhi took over as power capital of India\". The Times of India. Archived from the original on 1 March 2021. Retrieved 31 May 2018.\\n^ a b Wright, Tom (11 November 2011). \"Why Delhi? The Move From Calcutta\". The Wall Street Journal. Archived from the original on 27 July 2020. Retrieved 16 November 2011.', 'score': 0.86136365, 'raw_content': None}, {'url': 'https://www.youtube.com/watch?v=qELzANfST38&pp=0gcJCdgAo7VqN5tD', 'title': 'The Capital of India | Know Your Country | National Geographic', 'content': 'From the land of Pandavas, Indraprastha to now the capital region of the largest democracy, India, Delhi has been the face to many kingdoms', 'score': 0.8232293, 'raw_content': None}, {'url': 'https://www.youtube.com/watch?v=OUPTGDrXDy4', 'title': \"Delhi, India's MEGACITY: Capital of a Billion People - YouTube\", 'content': \"India's capital and most populous city is Delhi, home to 31 million residents.\", 'score': 0.8145405, 'raw_content': None}, {'url': 'https://en.wikipedia.org/wiki/Delhi', 'title': 'Delhi - Wikipedia', 'content': 'As the capital of India, Delhi is the focus of political reportage, including regular television broadcasts of Parliament sessions. Many national media agencies, including the state-owned Press Trust of India, Media Trust of India and Doordarshan, are based in the city. Television programming includes two free terrestrial television channels offered by Doordarshan, and several Hindi, English, and regional-language cable channels offered by multi system operators. Satellite television has yet to [...] The name \"New Delhi\" was given in 1927, and the new capital was inaugurated on 13 February 1931. New Delhi was officially declared as the capital of the Union of India after the country gained independence on 15 August 1947.[58] It has expanded since; the small part of it that was constructed during the British period has come to be informally known as Lutyens\\' Delhi.[59] [...] Delhi, a southern region within Delhi, became the capital of the British Indian Empire. During the Partition of India in 1947, Delhi was transformed from a Mughal city to a Punjabi one, losing two-thirds of its Muslim residents, in part due to the pressure brought to bear by arriving Hindu and Sikh refugees from western Punjab.[21] After independence in 1947, New Delhi continued as the capital of the Dominion of India, and after 1950 of the Republic of India.', 'score': 0.79901963, 'raw_content': None}], 'response_time': 1.13}), AIMessage(content='', additional_kwargs={'tool_calls': [{'id': 'call_r3xr', 'function': {'arguments': '{\"query\":\"capital of india\"}', 'name': 'tavily_search_results_json'}, 'type': 'function'}]}, response_metadata={'token_usage': {'completion_tokens': 52, 'prompt_tokens': 2127, 'total_tokens': 2179, 'completion_time': 0.094545455, 'prompt_time': 0.089137687, 'queue_time': 0.24771785100000002, 'total_time': 0.183683142}, 'model_name': 'Gemma2-9b-It', 'system_fingerprint': 'fp_10c08bf97d', 'finish_reason': 'tool_calls', 'logprobs': None}, id='run-91c600cd-4afb-40dd-b3ee-53128e43035e-0', tool_calls=[{'name': 'tavily_search_results_json', 'args': {'query': 'capital of india'}, 'id': 'call_r3xr', 'type': 'tool_call'}], usage_metadata={'input_tokens': 2127, 'output_tokens': 52, 'total_tokens': 2179}), ToolMessage(content='[{\"title\": \"What is the capital of India? States and union territories explained.\", \"url\": \"https://www.usatoday.com/story/news/world/2023/05/24/what-is-the-capital-of-india/70195720007/\", \"content\": \"The capital of India is New Delhi, located in the north-central part of the country to the west of the Yamuna River. Calcutta (now Kolkata, the\", \"score\": 0.9014448}, {\"title\": \"New Delhi - Wikipedia\", \"url\": \"https://en.wikipedia.org/wiki/New_Delhi\", \"content\": \"New Delhi (/ˈnjuː ˈdɛ.li/ ⓘ,[6] Hindi: [ˈnəiː ˈdɪlːiː], ISO: Naī Dillī) is the capital of India and a part of the National Capital Territory of Delhi (NCT). New Delhi is the seat of all three branches of the Government of India, hosting the Rashtrapati Bhavan, Sansad Bhavan, and the Supreme Court. New Delhi is a municipality within the NCT, administered by the NDMC, which covers mostly Lutyens\\' Delhi and a few adjacent areas. The municipal area is part of a larger administrative district, the [...] Jump to content\\\\nMain menu\\\\nSearch\\\\nDonate\\\\nCreate account\\\\nLog in\\\\nPersonal tools\\\\nToggle the table of contents\\\\nNew Delhi\\\\n189 languages\\\\nArticle\\\\nTalk\\\\nRead\\\\nView source\\\\nView history\\\\nTools\\\\nCoordinates: 28°36′50″N 77°12′32″E\\\\nFrom Wikipedia, the free encyclopedia\\\\nThis article is about the capital of India, within the union territory of Delhi. For other uses, see New Delhi (disambiguation). [...] ^ \\\\\"86 years ago New Delhi took over as power capital of India\\\\\". The Times of India. Archived from the original on 1 March 2021. Retrieved 31 May 2018.\\\\n^ a b Wright, Tom (11 November 2011). \\\\\"Why Delhi? The Move From Calcutta\\\\\". The Wall Street Journal. Archived from the original on 27 July 2020. Retrieved 16 November 2011.\", \"score\": 0.86136365}, {\"title\": \"The Capital of India | Know Your Country | National Geographic\", \"url\": \"https://www.youtube.com/watch?v=qELzANfST38&pp=0gcJCdgAo7VqN5tD\", \"content\": \"From the land of Pandavas, Indraprastha to now the capital region of the largest democracy, India, Delhi has been the face to many kingdoms\", \"score\": 0.8232293}, {\"title\": \"Delhi, India\\'s MEGACITY: Capital of a Billion People - YouTube\", \"url\": \"https://www.youtube.com/watch?v=OUPTGDrXDy4\", \"content\": \"India\\'s capital and most populous city is Delhi, home to 31 million residents.\", \"score\": 0.8145405}, {\"title\": \"Delhi - Wikipedia\", \"url\": \"https://en.wikipedia.org/wiki/Delhi\", \"content\": \"As the capital of India, Delhi is the focus of political reportage, including regular television broadcasts of Parliament sessions. Many national media agencies, including the state-owned Press Trust of India, Media Trust of India and Doordarshan, are based in the city. Television programming includes two free terrestrial television channels offered by Doordarshan, and several Hindi, English, and regional-language cable channels offered by multi system operators. Satellite television has yet to [...] The name \\\\\"New Delhi\\\\\" was given in 1927, and the new capital was inaugurated on 13 February 1931. New Delhi was officially declared as the capital of the Union of India after the country gained independence on 15 August 1947.[58] It has expanded since; the small part of it that was constructed during the British period has come to be informally known as Lutyens\\' Delhi.[59] [...] Delhi, a southern region within Delhi, became the capital of the British Indian Empire. During the Partition of India in 1947, Delhi was transformed from a Mughal city to a Punjabi one, losing two-thirds of its Muslim residents, in part due to the pressure brought to bear by arriving Hindu and Sikh refugees from western Punjab.[21] After independence in 1947, New Delhi continued as the capital of the Dominion of India, and after 1950 of the Republic of India.\", \"score\": 0.79901963}]', name='tavily_search_results_json', id='908f1f75-9b33-4561-bf47-9681f25dc647', tool_call_id='call_r3xr', artifact={'query': 'capital of india', 'follow_up_questions': None, 'answer': None, 'images': [], 'results': [{'url': 'https://www.usatoday.com/story/news/world/2023/05/24/what-is-the-capital-of-india/70195720007/', 'title': 'What is the capital of India? States and union territories explained.', 'content': 'The capital of India is New Delhi, located in the north-central part of the country to the west of the Yamuna River. Calcutta (now Kolkata, the', 'score': 0.9014448, 'raw_content': None}, {'url': 'https://en.wikipedia.org/wiki/New_Delhi', 'title': 'New Delhi - Wikipedia', 'content': 'New Delhi (/ˈnjuː ˈdɛ.li/ ⓘ,[6] Hindi: [ˈnəiː ˈdɪlːiː], ISO: Naī Dillī) is the capital of India and a part of the National Capital Territory of Delhi (NCT). New Delhi is the seat of all three branches of the Government of India, hosting the Rashtrapati Bhavan, Sansad Bhavan, and the Supreme Court. New Delhi is a municipality within the NCT, administered by the NDMC, which covers mostly Lutyens\\' Delhi and a few adjacent areas. The municipal area is part of a larger administrative district, the [...] Jump to content\\nMain menu\\nSearch\\nDonate\\nCreate account\\nLog in\\nPersonal tools\\nToggle the table of contents\\nNew Delhi\\n189 languages\\nArticle\\nTalk\\nRead\\nView source\\nView history\\nTools\\nCoordinates: 28°36′50″N 77°12′32″E\\nFrom Wikipedia, the free encyclopedia\\nThis article is about the capital of India, within the union territory of Delhi. For other uses, see New Delhi (disambiguation). [...] ^ \"86 years ago New Delhi took over as power capital of India\". The Times of India. Archived from the original on 1 March 2021. Retrieved 31 May 2018.\\n^ a b Wright, Tom (11 November 2011). \"Why Delhi? The Move From Calcutta\". The Wall Street Journal. Archived from the original on 27 July 2020. Retrieved 16 November 2011.', 'score': 0.86136365, 'raw_content': None}, {'url': 'https://www.youtube.com/watch?v=qELzANfST38&pp=0gcJCdgAo7VqN5tD', 'title': 'The Capital of India | Know Your Country | National Geographic', 'content': 'From the land of Pandavas, Indraprastha to now the capital region of the largest democracy, India, Delhi has been the face to many kingdoms', 'score': 0.8232293, 'raw_content': None}, {'url': 'https://www.youtube.com/watch?v=OUPTGDrXDy4', 'title': \"Delhi, India's MEGACITY: Capital of a Billion People - YouTube\", 'content': \"India's capital and most populous city is Delhi, home to 31 million residents.\", 'score': 0.8145405, 'raw_content': None}, {'url': 'https://en.wikipedia.org/wiki/Delhi', 'title': 'Delhi - Wikipedia', 'content': 'As the capital of India, Delhi is the focus of political reportage, including regular television broadcasts of Parliament sessions. Many national media agencies, including the state-owned Press Trust of India, Media Trust of India and Doordarshan, are based in the city. Television programming includes two free terrestrial television channels offered by Doordarshan, and several Hindi, English, and regional-language cable channels offered by multi system operators. Satellite television has yet to [...] The name \"New Delhi\" was given in 1927, and the new capital was inaugurated on 13 February 1931. New Delhi was officially declared as the capital of the Union of India after the country gained independence on 15 August 1947.[58] It has expanded since; the small part of it that was constructed during the British period has come to be informally known as Lutyens\\' Delhi.[59] [...] Delhi, a southern region within Delhi, became the capital of the British Indian Empire. During the Partition of India in 1947, Delhi was transformed from a Mughal city to a Punjabi one, losing two-thirds of its Muslim residents, in part due to the pressure brought to bear by arriving Hindu and Sikh refugees from western Punjab.[21] After independence in 1947, New Delhi continued as the capital of the Dominion of India, and after 1950 of the Republic of India.', 'score': 0.79901963, 'raw_content': None}], 'response_time': 2.39}), AIMessage(content='New Delhi', additional_kwargs={}, response_metadata={'token_usage': {'completion_tokens': 4, 'prompt_tokens': 3265, 'total_tokens': 3269, 'completion_time': 0.007272727, 'prompt_time': 0.139477623, 'queue_time': 0.249372527, 'total_time': 0.14675035}, 'model_name': 'Gemma2-9b-It', 'system_fingerprint': 'fp_10c08bf97d', 'finish_reason': 'stop', 'logprobs': None}, id='run-a7ebfe91-f1aa-4e4b-b7cf-1b647bdad8dd-0', usage_metadata={'input_tokens': 3265, 'output_tokens': 4, 'total_tokens': 3269}), HumanMessage(content='what is a weather there?', additional_kwargs={}, response_metadata={}, id='0d8eff8b-0eb5-47d1-a551-f1388f79d339'), AIMessage(content='', additional_kwargs={'tool_calls': [{'id': 'call_246b', 'function': {'arguments': '{\"query\":\"weather in new delhi\"}', 'name': 'tavily_search_results_json'}, 'type': 'function'}]}, response_metadata={'token_usage': {'completion_tokens': 68, 'prompt_tokens': 3283, 'total_tokens': 3351, 'completion_time': 0.123636364, 'prompt_time': 0.14106148, 'queue_time': 0.287476182, 'total_time': 0.264697844}, 'model_name': 'Gemma2-9b-It', 'system_fingerprint': 'fp_10c08bf97d', 'finish_reason': 'tool_calls', 'logprobs': None}, id='run-8a54b756-c880-4fef-b60d-51e1c37d15c9-0', tool_calls=[{'name': 'tavily_search_results_json', 'args': {'query': 'weather in new delhi'}, 'id': 'call_246b', 'type': 'tool_call'}], usage_metadata={'input_tokens': 3283, 'output_tokens': 68, 'total_tokens': 3351}), ToolMessage(content='[{\"title\": \"maximum and minimum temperatures - New Delhi\", \"url\": \"https://rmcnewdelhi.imd.gov.in/press/press.php\", \"content\": \"Dated:02-05-2025. Forecast Valid for:03-05-2025. LOCAL WEATHER FORECAST OF DELHI. Forecast: GENERALLY CLOUDY SKY. VERY LIGHT TO LIGHT RAIN. THUNDERSTORM\", \"score\": 0.9471519}, {\"title\": \"New Delhi Weather Forecast 3 May 2025 - Times of India\", \"url\": \"https://timesofindia.indiatimes.com/weather/new-delhi-weather-forecast-today/110011\", \"content\": \"Today\\'s Weather in New Delhi: In New Delhi today, the weather is expected to be Haze with a maximum temperature of 29°C and a minimum of 24°C. Sunrise in\", \"score\": 0.9393874}, {\"title\": \"Delhi Weather Forecast for March 5, 2025: Gusty Winds & Clear ...\", \"url\": \"https://www.moneycontrol.com/travel/delhi-weather-forecast-for-march-5-2025-gusty-winds-clear-skies-expected-article-12956211.html\", \"content\": \"Morning temperatures started at a chilly 12°C but will rise to a comfortable 27°C by the afternoon. No rainfall is expected, ensuring a bright\", \"score\": 0.91023487}, {\"title\": \"Delhi Weather Forecast and AQI Today on March 3, 2025 - MSN\", \"url\": \"https://www.msn.com/en-in/news/India/delhi-weather-forecast-and-aqi-today-on-march-3-2025-warm-start-at-13-05-c-find-out-the-complete-weather-forecast/ar-AA1A6Tjq\", \"content\": \"Delhi Weather Forecast and AQI Today on March 3, 2025: Warm start at 13.05 °C., Find out the complete weather forecast · Delhi AQI Today: · Delhi\", \"score\": 0.88822687}, {\"title\": \"Weather in new delhi\", \"url\": \"https://www.weatherapi.com/\", \"content\": \"{\\'location\\': {\\'name\\': \\'New Delhi\\', \\'region\\': \\'Delhi\\', \\'country\\': \\'India\\', \\'lat\\': 28.6, \\'lon\\': 77.2, \\'tz_id\\': \\'Asia/Kolkata\\', \\'localtime_epoch\\': 1746256298, \\'localtime\\': \\'2025-05-03 12:41\\'}, \\'current\\': {\\'last_updated_epoch\\': 1746255600, \\'last_updated\\': \\'2025-05-03 12:30\\', \\'temp_c\\': 30.3, \\'temp_f\\': 86.5, \\'is_day\\': 1, \\'condition\\': {\\'text\\': \\'Mist\\', \\'icon\\': \\'//cdn.weatherapi.com/weather/64x64/day/143.png\\', \\'code\\': 1030}, \\'wind_mph\\': 4.5, \\'wind_kph\\': 7.2, \\'wind_degree\\': 188, \\'wind_dir\\': \\'S\\', \\'pressure_mb\\': 1009.0, \\'pressure_in\\': 29.8, \\'precip_mm\\': 0.0, \\'precip_in\\': 0.0, \\'humidity\\': 46, \\'cloud\\': 50, \\'feelslike_c\\': 28.5, \\'feelslike_f\\': 83.3, \\'windchill_c\\': 36.1, \\'windchill_f\\': 97.1, \\'heatindex_c\\': 35.5, \\'heatindex_f\\': 95.8, \\'dewpoint_c\\': 12.2, \\'dewpoint_f\\': 54.0, \\'vis_km\\': 4.0, \\'vis_miles\\': 2.0, \\'uv\\': 8.3, \\'gust_mph\\': 5.1, \\'gust_kph\\': 8.3}}\", \"score\": 0.8586911}]', name='tavily_search_results_json', id='3a693f91-de39-4469-875c-7961ba2bddf4', tool_call_id='call_246b', artifact={'query': 'weather in new delhi', 'follow_up_questions': None, 'answer': None, 'images': [], 'results': [{'url': 'https://rmcnewdelhi.imd.gov.in/press/press.php', 'title': 'maximum and minimum temperatures - New Delhi', 'content': 'Dated:02-05-2025. Forecast Valid for:03-05-2025. LOCAL WEATHER FORECAST OF DELHI. Forecast: GENERALLY CLOUDY SKY. VERY LIGHT TO LIGHT RAIN. THUNDERSTORM', 'score': 0.9471519, 'raw_content': None}, {'url': 'https://timesofindia.indiatimes.com/weather/new-delhi-weather-forecast-today/110011', 'title': 'New Delhi Weather Forecast 3 May 2025 - Times of India', 'content': \"Today's Weather in New Delhi: In New Delhi today, the weather is expected to be Haze with a maximum temperature of 29°C and a minimum of 24°C. Sunrise in\", 'score': 0.9393874, 'raw_content': None}, {'url': 'https://www.moneycontrol.com/travel/delhi-weather-forecast-for-march-5-2025-gusty-winds-clear-skies-expected-article-12956211.html', 'title': 'Delhi Weather Forecast for March 5, 2025: Gusty Winds & Clear ...', 'content': 'Morning temperatures started at a chilly 12°C but will rise to a comfortable 27°C by the afternoon. No rainfall is expected, ensuring a bright', 'score': 0.91023487, 'raw_content': None}, {'url': 'https://www.msn.com/en-in/news/India/delhi-weather-forecast-and-aqi-today-on-march-3-2025-warm-start-at-13-05-c-find-out-the-complete-weather-forecast/ar-AA1A6Tjq', 'title': 'Delhi Weather Forecast and AQI Today on March 3, 2025 - MSN', 'content': 'Delhi Weather Forecast and AQI Today on March 3, 2025: Warm start at 13.05 °C., Find out the complete weather forecast · Delhi AQI Today: · Delhi', 'score': 0.88822687, 'raw_content': None}, {'title': 'Weather in new delhi', 'url': 'https://www.weatherapi.com/', 'content': \"{'location': {'name': 'New Delhi', 'region': 'Delhi', 'country': 'India', 'lat': 28.6, 'lon': 77.2, 'tz_id': 'Asia/Kolkata', 'localtime_epoch': 1746256298, 'localtime': '2025-05-03 12:41'}, 'current': {'last_updated_epoch': 1746255600, 'last_updated': '2025-05-03 12:30', 'temp_c': 30.3, 'temp_f': 86.5, 'is_day': 1, 'condition': {'text': 'Mist', 'icon': '//cdn.weatherapi.com/weather/64x64/day/143.png', 'code': 1030}, 'wind_mph': 4.5, 'wind_kph': 7.2, 'wind_degree': 188, 'wind_dir': 'S', 'pressure_mb': 1009.0, 'pressure_in': 29.8, 'precip_mm': 0.0, 'precip_in': 0.0, 'humidity': 46, 'cloud': 50, 'feelslike_c': 28.5, 'feelslike_f': 83.3, 'windchill_c': 36.1, 'windchill_f': 97.1, 'heatindex_c': 35.5, 'heatindex_f': 95.8, 'dewpoint_c': 12.2, 'dewpoint_f': 54.0, 'vis_km': 4.0, 'vis_miles': 2.0, 'uv': 8.3, 'gust_mph': 5.1, 'gust_kph': 8.3}}\", 'score': 0.8586911, 'raw_content': None}], 'response_time': 1.64}), AIMessage(content='The weather in New Delhi today is expected to be Generally Cloudy with a high of 29°C and a low of 24°C. There is a chance of Very Light to Light Rain and Thunderstorm.  \\n', additional_kwargs={}, response_metadata={'token_usage': {'completion_tokens': 49, 'prompt_tokens': 4385, 'total_tokens': 4434, 'completion_time': 0.089090909, 'prompt_time': 0.149611782, 'queue_time': 0.505541429, 'total_time': 0.238702691}, 'model_name': 'Gemma2-9b-It', 'system_fingerprint': 'fp_10c08bf97d', 'finish_reason': 'stop', 'logprobs': None}, id='run-54332428-83f5-4837-965f-114eb29346eb-0', usage_metadata={'input_tokens': 4385, 'output_tokens': 49, 'total_tokens': 4434})]}, next=(), config={'configurable': {'thread_id': '1', 'checkpoint_ns': '', 'checkpoint_id': '1f027edd-c223-6bb6-800a-917571676554'}}, metadata={'source': 'loop', 'writes': {'ai_assistant': {'messages': [AIMessage(content='The weather in New Delhi today is expected to be Generally Cloudy with a high of 29°C and a low of 24°C. There is a chance of Very Light to Light Rain and Thunderstorm.  \\n', additional_kwargs={}, response_metadata={'token_usage': {'completion_tokens': 49, 'prompt_tokens': 4385, 'total_tokens': 4434, 'completion_time': 0.089090909, 'prompt_time': 0.149611782, 'queue_time': 0.505541429, 'total_time': 0.238702691}, 'model_name': 'Gemma2-9b-It', 'system_fingerprint': 'fp_10c08bf97d', 'finish_reason': 'stop', 'logprobs': None}, id='run-54332428-83f5-4837-965f-114eb29346eb-0', usage_metadata={'input_tokens': 4385, 'output_tokens': 49, 'total_tokens': 4434})]}}, 'step': 10, 'parents': {}, 'thread_id': '1'}, created_at='2025-05-03T07:11:40.244863+00:00', parent_config={'configurable': {'thread_id': '1', 'checkpoint_ns': '', 'checkpoint_id': '1f027edd-b5a9-6776-8009-17d766dbd28d'}}, tasks=())"
      ]
     },
     "execution_count": 63,
     "metadata": {},
     "output_type": "execute_result"
    }
   ],
   "source": [
    "app2.get_state(config)"
   ]
  },
  {
   "cell_type": "code",
   "execution_count": 64,
   "metadata": {},
   "outputs": [],
   "source": [
    "snapshot=app2.get_state(config)"
   ]
  },
  {
   "cell_type": "code",
   "execution_count": 65,
   "metadata": {},
   "outputs": [
    {
     "data": {
      "text/plain": [
       "()"
      ]
     },
     "execution_count": 65,
     "metadata": {},
     "output_type": "execute_result"
    }
   ],
   "source": [
    "snapshot.next"
   ]
  },
  {
   "cell_type": "code",
   "execution_count": 66,
   "metadata": {},
   "outputs": [],
   "source": [
    "user_input = \"give me the recent news of it?\"\n",
    "\n",
    "config = {\"configurable\": {\"thread_id\": \"1\"}}"
   ]
  },
  {
   "cell_type": "code",
   "execution_count": 67,
   "metadata": {},
   "outputs": [],
   "source": [
    "# The config is the **second positional argument** to stream() or invoke()!\n",
    "events = app2.stream(\n",
    "    {\"messages\": [(\"user\", user_input)]}, config, stream_mode=\"values\"\n",
    ")"
   ]
  },
  {
   "cell_type": "code",
   "execution_count": 68,
   "metadata": {},
   "outputs": [
    {
     "name": "stdout",
     "output_type": "stream",
     "text": [
      "================================\u001b[1m Human Message \u001b[0m=================================\n",
      "\n",
      "give me the recent news of it?\n",
      "==================================\u001b[1m Ai Message \u001b[0m==================================\n",
      "Tool Calls:\n",
      "  tavily_search_results_json (call_g2xb)\n",
      " Call ID: call_g2xb\n",
      "  Args:\n",
      "    query: recent news about new delhi\n"
     ]
    }
   ],
   "source": [
    "for event in events:\n",
    "    if \"messages\" in event:\n",
    "        event[\"messages\"][-1].pretty_print()"
   ]
  },
  {
   "cell_type": "code",
   "execution_count": 69,
   "metadata": {},
   "outputs": [],
   "source": [
    "snapshot=app2.get_state(config)"
   ]
  },
  {
   "cell_type": "code",
   "execution_count": 70,
   "metadata": {},
   "outputs": [],
   "source": [
    "current_message = snapshot.values[\"messages\"][-1]"
   ]
  },
  {
   "cell_type": "code",
   "execution_count": 71,
   "metadata": {},
   "outputs": [
    {
     "data": {
      "text/plain": [
       "('tools',)"
      ]
     },
     "execution_count": 71,
     "metadata": {},
     "output_type": "execute_result"
    }
   ],
   "source": [
    "snapshot.next"
   ]
  },
  {
   "cell_type": "code",
   "execution_count": 72,
   "metadata": {},
   "outputs": [
    {
     "name": "stdout",
     "output_type": "stream",
     "text": [
      "==================================\u001b[1m Ai Message \u001b[0m==================================\n",
      "Tool Calls:\n",
      "  tavily_search_results_json (call_g2xb)\n",
      " Call ID: call_g2xb\n",
      "  Args:\n",
      "    query: recent news about new delhi\n"
     ]
    }
   ],
   "source": [
    "current_message.pretty_print()"
   ]
  },
  {
   "cell_type": "code",
   "execution_count": 73,
   "metadata": {},
   "outputs": [],
   "source": [
    "tool_call_id = current_message.tool_calls[0][\"id\"] "
   ]
  },
  {
   "cell_type": "code",
   "execution_count": 74,
   "metadata": {},
   "outputs": [
    {
     "data": {
      "text/plain": [
       "'call_g2xb'"
      ]
     },
     "execution_count": 74,
     "metadata": {},
     "output_type": "execute_result"
    }
   ],
   "source": [
    "tool_call_id"
   ]
  },
  {
   "cell_type": "code",
   "execution_count": 75,
   "metadata": {},
   "outputs": [],
   "source": [
    "from langchain_core.messages import AIMessage, ToolMessage"
   ]
  },
  {
   "cell_type": "code",
   "execution_count": 76,
   "metadata": {},
   "outputs": [],
   "source": [
    "answer = \"it is just related to raining which is happing on daily basis\""
   ]
  },
  {
   "cell_type": "code",
   "execution_count": 77,
   "metadata": {},
   "outputs": [],
   "source": [
    "new_messages = [\n",
    "    ToolMessage(content=answer, tool_call_id=tool_call_id),\n",
    "    AIMessage(content=answer),\n",
    "]"
   ]
  },
  {
   "cell_type": "code",
   "execution_count": 78,
   "metadata": {},
   "outputs": [
    {
     "data": {
      "text/plain": [
       "{'configurable': {'thread_id': '1',\n",
       "  'checkpoint_ns': '',\n",
       "  'checkpoint_id': '1f0280f7-756b-68b8-800e-95eb0f52ff45'}}"
      ]
     },
     "execution_count": 78,
     "metadata": {},
     "output_type": "execute_result"
    }
   ],
   "source": [
    "app2.update_state(\n",
    "    config,\n",
    "    {\"messages\": new_messages},\n",
    ")"
   ]
  },
  {
   "cell_type": "code",
   "execution_count": 79,
   "metadata": {},
   "outputs": [
    {
     "name": "stdout",
     "output_type": "stream",
     "text": [
      "[AIMessage(content='it is just related to raining which is happing on daily basis', additional_kwargs={}, response_metadata={}, id='cc54143c-d0d2-4247-bd0a-7ecb5eb137fd')]\n"
     ]
    }
   ],
   "source": [
    "print(app2.get_state(config).values[\"messages\"][-1:])"
   ]
  },
  {
   "cell_type": "code",
   "execution_count": null,
   "metadata": {},
   "outputs": [],
   "source": []
  }
 ],
 "metadata": {
  "kernelspec": {
   "display_name": "langraph env",
   "language": "python",
   "name": "langgraph-env"
  },
  "language_info": {
   "codemirror_mode": {
    "name": "ipython",
    "version": 3
   },
   "file_extension": ".py",
   "mimetype": "text/x-python",
   "name": "python",
   "nbconvert_exporter": "python",
   "pygments_lexer": "ipython3",
   "version": "3.12.0"
  }
 },
 "nbformat": 4,
 "nbformat_minor": 2
}
