{
 "cells": [
  {
   "cell_type": "markdown",
   "metadata": {},
   "source": [
    "**A Structured Output Agent in LangChain (or other LLM frameworks) refers to an agent that produces responses in a specific structured format, such as JSON, dictionaries, or other structured data types. These agents are particularly useful when you want to ensure that your responses conform to a defined schema, making it easier to parse, validate, and utilize in downstream applications.**\n",
    "\n",
    "##### Why Use a Structured Output Agent?\n",
    "\n",
    "- Controlled Responses: Ensures that the outputs follow a specific format, reducing ambiguity.\n",
    "- Data Validation: Useful when you want the model output to fit predefined structures, like for APIs or database entries.\n",
    "- Automation: Makes integration with systems like dashboards, ETL pipelines, or business workflows easier."
   ]
  },
  {
   "cell_type": "code",
   "execution_count": null,
   "metadata": {},
   "outputs": [],
   "source": [
    "from langchain_community.tools.tavily_search import TavilySearchResults\n",
    "from langchain_core.tools import tool\n",
    "\n",
    "from pydantic import BaseModel, Field\n",
    "\n",
    "from langgraph.graph import MessagesState,StateGraph, END\n",
    "from langgraph.prebuilt import ToolNode\n",
    "from langchain_core.messages import HumanMessage"
   ]
  },
  {
   "cell_type": "code",
   "execution_count": 2,
   "metadata": {},
   "outputs": [],
   "source": [
    "from langchain_groq import ChatGroq\n",
    "\n",
    "llm = ChatGroq(model_name = 'Gemma2-9b-It')"
   ]
  },
  {
   "cell_type": "code",
   "execution_count": 3,
   "metadata": {},
   "outputs": [],
   "source": [
    "tavily_tool = TavilySearchResults()"
   ]
  },
  {
   "cell_type": "code",
   "execution_count": 4,
   "metadata": {},
   "outputs": [],
   "source": [
    "@tool\n",
    "def get_city_details(prompt):\n",
    "    \"Should do a web search to find the required city details\"\n",
    "    response = tavily_tool.invoke(prompt)\n",
    "    return response"
   ]
  },
  {
   "cell_type": "code",
   "execution_count": 5,
   "metadata": {},
   "outputs": [],
   "source": [
    "tools = [get_city_details]"
   ]
  },
  {
   "cell_type": "code",
   "execution_count": 6,
   "metadata": {},
   "outputs": [],
   "source": [
    "model_with_tools = llm.bind_tools(tools=tools) "
   ]
  },
  {
   "cell_type": "code",
   "execution_count": 7,
   "metadata": {},
   "outputs": [],
   "source": [
    "class CityDetails(BaseModel):\n",
    "    \"\"\"Respond to the user with this\"\"\"\n",
    "    state_name: str = Field(description=\"State name of the city\")\n",
    "    state_capital: str = Field(description=\"State capital of the city\")\n",
    "    country_name: str = Field(description=\"Country name of the city\")\n",
    "    country_capital: str = Field(description=\"Country capital of the city\")"
   ]
  },
  {
   "cell_type": "markdown",
   "metadata": {},
   "source": [
    "##### The BaseModel class is a core component of Pydantic, which is used extensively in Python applications for data validation, type checking, and parsing. It's particularly useful when working with APIs, web frameworks like FastAPI, and other scenarios where you need to enforce data structure and ensure data integrity.\n",
    "\n",
    "**Here's an overview of the BaseModel class, along with some examples to demonstrate how you can use it effectively.**\n",
    "\n",
    "##### This code defines a Pydantic model called CityDetails using the BaseModel class. Let's break it down:\n",
    "\n",
    "- Explanation:\n",
    "- Class Definition:\n",
    "- CityDetails inherits from BaseModel, making it a data validation model.\n",
    "\n",
    "#### Purpose:\n",
    "\n",
    "- The model validates and structures data related to cities.\n",
    "- Useful for ensuring that any data related to cities has the correct structure before processing.\n",
    "- Helpful in APIs (like FastAPI) to generate self-documenting endpoints."
   ]
  },
  {
   "cell_type": "code",
   "execution_count": 8,
   "metadata": {},
   "outputs": [],
   "source": [
    "# Inherit 'messages' key from MessagesState, which is a list of chat messages\n",
    "class AgentState(MessagesState):\n",
    "    # Final structured response from the agent\n",
    "    final_response: CityDetails"
   ]
  },
  {
   "cell_type": "code",
   "execution_count": 9,
   "metadata": {},
   "outputs": [],
   "source": [
    "model_with_structured_output = llm.with_structured_output(CityDetails)"
   ]
  },
  {
   "cell_type": "code",
   "execution_count": 10,
   "metadata": {},
   "outputs": [],
   "source": [
    "def call_model(state: AgentState):\n",
    "    print(f\" this is 01 input from call model {state}\")\n",
    "    response = model_with_tools.invoke(state['messages'])\n",
    "    print(f\"this is 02 response from call model  {response}\")\n",
    "    # We return a list, because this will get added to the existing list\n",
    "    return {\"messages\": [response]}"
   ]
  },
  {
   "cell_type": "code",
   "execution_count": 11,
   "metadata": {},
   "outputs": [],
   "source": [
    "def should_continue(state: AgentState):\n",
    "    messages = state[\"messages\"]\n",
    "    last_message = messages[-1]\n",
    "    \n",
    "    # If there is no function call, then we respond to the user\n",
    "    if not last_message.tool_calls:\n",
    "        return \"respond\"\n",
    "    # Otherwise if there is, we continue with the tool\n",
    "    else:\n",
    "        return \"continue\""
   ]
  },
  {
   "cell_type": "code",
   "execution_count": 12,
   "metadata": {},
   "outputs": [],
   "source": [
    "def respond(state: AgentState):\n",
    "    print(f\"here is 03 state from respond {state}\")\n",
    "    response = model_with_structured_output.invoke([HumanMessage(content=state['messages'][-1].content)])\n",
    "    # We return the final answer\n",
    "    print(f\"this is 04 response from respond{response}\")\n",
    "    return {\"final_response\": response}"
   ]
  },
  {
   "cell_type": "code",
   "execution_count": 13,
   "metadata": {},
   "outputs": [],
   "source": [
    "# Define a new graph\n",
    "workflow = StateGraph(AgentState)\n",
    "\n",
    "# Define the two nodes we will cycle between\n",
    "workflow.add_node(\"llm\", call_model)\n",
    "workflow.add_node(\"tools\", ToolNode(tools))\n",
    "workflow.add_node(\"respond\", respond)\n",
    "\n",
    "\n",
    "# Set the entrypoint as `agent`\n",
    "# This means that this node is the first one called\n",
    "workflow.set_entry_point(\"llm\")\n",
    "\n",
    "# We now add a conditional edge\n",
    "workflow.add_conditional_edges(\n",
    "    \"llm\",\n",
    "    \n",
    "    should_continue,\n",
    "    {\n",
    "        \"continue\": \"tools\",\n",
    "        \"respond\": \"respond\",\n",
    "    },\n",
    ")\n",
    "\n",
    "workflow.add_edge(\"tools\", \"llm\")\n",
    "workflow.add_edge(\"respond\", END)\n",
    "graph = workflow.compile()"
   ]
  },
  {
   "cell_type": "code",
   "execution_count": 14,
   "metadata": {},
   "outputs": [
    {
     "data": {
      "image/png": "[encoded data removed]",
      "text/plain": [
       "<IPython.core.display.Image object>"
      ]
     },
     "metadata": {},
     "output_type": "display_data"
    }
   ],
   "source": [
    "from IPython.display import Image, display\n",
    "# View\n",
    "display(Image(graph.get_graph().draw_mermaid_png()))"
   ]
  },
  {
   "cell_type": "code",
   "execution_count": 15,
   "metadata": {},
   "outputs": [
    {
     "name": "stdout",
     "output_type": "stream",
     "text": [
      " this is 01 input from call model {'messages': [HumanMessage(content='Tell me about the city details for gwalior?', additional_kwargs={}, response_metadata={}, id='e9d14ff1-eb8d-4560-a303-149be4309465')]}\n",
      "this is 02 response from call model  content='' additional_kwargs={'tool_calls': [{'id': 'call_p433', 'function': {'arguments': '{\"prompt\":\"Gwalior\"}', 'name': 'get_city_details'}, 'type': 'function'}]} response_metadata={'token_usage': {'completion_tokens': 86, 'prompt_tokens': 946, 'total_tokens': 1032, 'completion_time': 0.156363636, 'prompt_time': 0.041216276, 'queue_time': 0.23681635699999998, 'total_time': 0.197579912}, 'model_name': 'Gemma2-9b-It', 'system_fingerprint': 'fp_10c08bf97d', 'finish_reason': 'tool_calls', 'logprobs': None} id='run-a925de9a-4875-47e8-ac38-416c4ebac579-0' tool_calls=[{'name': 'get_city_details', 'args': {'prompt': 'Gwalior'}, 'id': 'call_p433', 'type': 'tool_call'}] usage_metadata={'input_tokens': 946, 'output_tokens': 86, 'total_tokens': 1032}\n",
      " this is 01 input from call model {'messages': [HumanMessage(content='Tell me about the city details for gwalior?', additional_kwargs={}, response_metadata={}, id='e9d14ff1-eb8d-4560-a303-149be4309465'), AIMessage(content='', additional_kwargs={'tool_calls': [{'id': 'call_p433', 'function': {'arguments': '{\"prompt\":\"Gwalior\"}', 'name': 'get_city_details'}, 'type': 'function'}]}, response_metadata={'token_usage': {'completion_tokens': 86, 'prompt_tokens': 946, 'total_tokens': 1032, 'completion_time': 0.156363636, 'prompt_time': 0.041216276, 'queue_time': 0.23681635699999998, 'total_time': 0.197579912}, 'model_name': 'Gemma2-9b-It', 'system_fingerprint': 'fp_10c08bf97d', 'finish_reason': 'tool_calls', 'logprobs': None}, id='run-a925de9a-4875-47e8-ac38-416c4ebac579-0', tool_calls=[{'name': 'get_city_details', 'args': {'prompt': 'Gwalior'}, 'id': 'call_p433', 'type': 'tool_call'}], usage_metadata={'input_tokens': 946, 'output_tokens': 86, 'total_tokens': 1032}), ToolMessage(content='[{\"title\": \"Gwalior - Wikipedia\", \"url\": \"https://en.wikipedia.org/wiki/Gwalior\", \"content\": \"Gwalior (Hindi: IPA: [ɡʋɑːlɪjəɾ], pronunciationⓘ) is a major city in the central Indian state of Madhya Pradesh; It is known as the Music City of India[7][8] having oldest musical gharana in existence. It is a major sports, cultural, industrial, and political centre in Madhya Pradesh. Gwalior is among the seven cities selected for new startup centres under India\\'s growing innovation ecosystem.[9] On World Cities Day (31 October 2023), UNESCO Director - General Audrey Azoulay announced Gwalior\\'s [...] Gwalior\\\\nMetropolis\\\\nGwalior FortBritish MonumentDurbar HallSaas TempleMaharani Laxmibai ChhatriJai Vilas palace from outsideMuhammed Ghaus Tomb\\\\nCoat of arms\\\\nNickname(s):The City of Music, Capital of Hindustani Music,[1]The Royal City of Madhya Pradesh[2]\\\\nGwaliorShow map of Madhya PradeshGwaliorShow map of India\\\\nCoordinates:26°12′45″N78°10′39″E\\ufeff / \\ufeff26.21250°N 78.17750°E\\ufeff /26.21250; 78.17750\\\\nCountry | India\\\\nState | Madhya Pradesh\\\\nRegion | Gwalior Chambal\\\\nDistrict | Gwalior\\\\nFounded by | Suraj Sen [...] Post-independence, Gwalior has emerged as an important industrial and  tourist attraction in central India while many industries and administrative offices came up within the city. Before the end of the 20th century it became a million plus agglomeration and now it is a metropolitan city in central India. Gwalior is surrounded by industrial and commercial zones of neighbouring districts (Malanpur – Bhind, Banmore – Morena) on all three main directions.\", \"score\": 0.91362286}, {\"title\": \"Gwalior | History, Culture & Tourist Attractions - Britannica\", \"url\": \"https://www.britannica.com/place/Gwalior-India\", \"content\": \"Gwalior is an important commercial and industrial centre that is engaged in the distribution of agricultural produce, cloth fabrics, building stone, and iron ore. The city’s major industries include the manufacture of footwear, pottery, biscuits (cookies), cigarettes, textiles, carpets, plastics, rayon, glass, and matches; cotton, flour, sugar, and oilseed milling; and stone carving. It is on a major national highway, is a railway junction, and has an airport handling domestic flights. [...] Gwalior, Madhya Pradesh, India(more)\\\\nGwalior, city, northern Madhya Pradesh state, central India. It is situated about 75 miles (120 km) south of Agra. Gwalior is a cultural, industrial, and political centre and takes its name from the historic rock fortress that forms the centre of the city. It has been referred to as Gopa Parvat, Gopachal Durg, Gopagiri, and Gopadiri, all which mean “cowherd’s hill.” Pop. (2001) 827,026; (2011) 1,069,276.\\\\nHistory [...] The old city of Gwalior centres on the walled fortress, one of the most famous in India, that is situated atop a cliffed plateau nearly 2 miles (3 km) long that rises a sheer 300 feet (90 metres) from the plain. The fort was first mentioned in a temple inscription about 525 ce. Of strategic importance in guarding the main route from the plains of northern India, it was in the hands of Hindu rulers until 1232 and then changed hands several times between Muslim and Hindu rulers until 1751.\", \"score\": 0.83549726}, {\"title\": \"Gwalior State - Wikipedia\", \"url\": \"https://en.wikipedia.org/wiki/Gwalior_State\", \"content\": \"Gwalior State\\\\n\\\\n\\\\n\\\\nThe Gwalior State was a \\\\nstate within the Maratha Confederacy located in Central India. It was ruled by the House of Scindia (anglicized from Sendrak), a Hindu Maratha dynasty. Following the dissolution of the Confederacy, it became part of the Central India Agency of the Indian Empire under British protection. [...] The state was entitled to a 21-gun salute when it became a princely state of the India.[1] It took its (later) name from the old town of Gwalior, which, although not its first capital, was an important place because of its strategic location and the strength of its fort; it became later its capital, after Daulat Rao Sindhia built its palace in the village of Lashkar, near the fort. The state was founded in the early 18th century by Ranoji Sindhia, as part of the Maratha Confederacy. The [...] Under Mahadji Sindhia (1761–1794) Gwalior State became a leading power in Central India, and dominated the affairs of the confederacy.  The Anglo-Maratha Wars brought Gwalior State under British suzerainty, so that it became a princely state of the Indian Empire. Gwalior was the largest state in the Central India Agency, under the political supervision of a Resident at Gwalior. In 1936, the Gwalior residency was separated from the Central India Agency, and made answerable directly to the\", \"score\": 0.79939574}, {\"title\": \"Profile | District Gwalior, Government of Madhya Pradesh | India\", \"url\": \"https://gwalior.nic.in/en/history/\", \"content\": \"Gwalior district is a district of the Indian state of Madhya Pradesh. This district is under the revenue division of Gwalior. This district is situated\", \"score\": 0.7272211}, {\"title\": \"Gwalior, India: All You Must Know Before You Go (2025) - Tripadvisor\", \"url\": \"https://www.tripadvisor.com/Tourism-g667810-Gwalior_Gwalior_District_Madhya_Pradesh-Vacations.html\", \"content\": \"Gwalior is known for some of its popular attractions, which include: Bateswar group of temples - Morena Gwailor · Gwalior Fort · Gurudwara Data Bandi Chhod\", \"score\": 0.69622743}]', name='get_city_details', id='3cc1ca2d-add3-4029-a629-a220a7303981', tool_call_id='call_p433')]}\n",
      "this is 02 response from call model  content='Gwalior is a major city in the central Indian state of Madhya Pradesh. It is known as the Music City of India and is a major sports, cultural, industrial, and political centre in Madhya Pradesh. \\n\\n\\nIt is located south of Agra. The city is surrounded by industrial and commercial zones of neighboring districts. \\n\\n\\n\\nThe old city of Gwalior centres on the walled fortress, one of the most famous in India. It was founded in the early 18th century and was a leading power in Central India during the 18th and 19th centuries. \\n\\n\\n\\nGwalior is a cultural and tourist attraction with a rich history and heritage.' additional_kwargs={} response_metadata={'token_usage': {'completion_tokens': 139, 'prompt_tokens': 2491, 'total_tokens': 2630, 'completion_time': 0.252727273, 'prompt_time': 0.086635312, 'queue_time': 0.23240683699999998, 'total_time': 0.339362585}, 'model_name': 'Gemma2-9b-It', 'system_fingerprint': 'fp_10c08bf97d', 'finish_reason': 'stop', 'logprobs': None} id='run-cc0171f1-8605-46bb-adb9-36e54dd0bb98-0' usage_metadata={'input_tokens': 2491, 'output_tokens': 139, 'total_tokens': 2630}\n",
      "here is 03 state from respond {'messages': [HumanMessage(content='Tell me about the city details for gwalior?', additional_kwargs={}, response_metadata={}, id='e9d14ff1-eb8d-4560-a303-149be4309465'), AIMessage(content='', additional_kwargs={'tool_calls': [{'id': 'call_p433', 'function': {'arguments': '{\"prompt\":\"Gwalior\"}', 'name': 'get_city_details'}, 'type': 'function'}]}, response_metadata={'token_usage': {'completion_tokens': 86, 'prompt_tokens': 946, 'total_tokens': 1032, 'completion_time': 0.156363636, 'prompt_time': 0.041216276, 'queue_time': 0.23681635699999998, 'total_time': 0.197579912}, 'model_name': 'Gemma2-9b-It', 'system_fingerprint': 'fp_10c08bf97d', 'finish_reason': 'tool_calls', 'logprobs': None}, id='run-a925de9a-4875-47e8-ac38-416c4ebac579-0', tool_calls=[{'name': 'get_city_details', 'args': {'prompt': 'Gwalior'}, 'id': 'call_p433', 'type': 'tool_call'}], usage_metadata={'input_tokens': 946, 'output_tokens': 86, 'total_tokens': 1032}), ToolMessage(content='[{\"title\": \"Gwalior - Wikipedia\", \"url\": \"https://en.wikipedia.org/wiki/Gwalior\", \"content\": \"Gwalior (Hindi: IPA: [ɡʋɑːlɪjəɾ], pronunciationⓘ) is a major city in the central Indian state of Madhya Pradesh; It is known as the Music City of India[7][8] having oldest musical gharana in existence. It is a major sports, cultural, industrial, and political centre in Madhya Pradesh. Gwalior is among the seven cities selected for new startup centres under India\\'s growing innovation ecosystem.[9] On World Cities Day (31 October 2023), UNESCO Director - General Audrey Azoulay announced Gwalior\\'s [...] Gwalior\\\\nMetropolis\\\\nGwalior FortBritish MonumentDurbar HallSaas TempleMaharani Laxmibai ChhatriJai Vilas palace from outsideMuhammed Ghaus Tomb\\\\nCoat of arms\\\\nNickname(s):The City of Music, Capital of Hindustani Music,[1]The Royal City of Madhya Pradesh[2]\\\\nGwaliorShow map of Madhya PradeshGwaliorShow map of India\\\\nCoordinates:26°12′45″N78°10′39″E\\ufeff / \\ufeff26.21250°N 78.17750°E\\ufeff /26.21250; 78.17750\\\\nCountry | India\\\\nState | Madhya Pradesh\\\\nRegion | Gwalior Chambal\\\\nDistrict | Gwalior\\\\nFounded by | Suraj Sen [...] Post-independence, Gwalior has emerged as an important industrial and  tourist attraction in central India while many industries and administrative offices came up within the city. Before the end of the 20th century it became a million plus agglomeration and now it is a metropolitan city in central India. Gwalior is surrounded by industrial and commercial zones of neighbouring districts (Malanpur – Bhind, Banmore – Morena) on all three main directions.\", \"score\": 0.91362286}, {\"title\": \"Gwalior | History, Culture & Tourist Attractions - Britannica\", \"url\": \"https://www.britannica.com/place/Gwalior-India\", \"content\": \"Gwalior is an important commercial and industrial centre that is engaged in the distribution of agricultural produce, cloth fabrics, building stone, and iron ore. The city’s major industries include the manufacture of footwear, pottery, biscuits (cookies), cigarettes, textiles, carpets, plastics, rayon, glass, and matches; cotton, flour, sugar, and oilseed milling; and stone carving. It is on a major national highway, is a railway junction, and has an airport handling domestic flights. [...] Gwalior, Madhya Pradesh, India(more)\\\\nGwalior, city, northern Madhya Pradesh state, central India. It is situated about 75 miles (120 km) south of Agra. Gwalior is a cultural, industrial, and political centre and takes its name from the historic rock fortress that forms the centre of the city. It has been referred to as Gopa Parvat, Gopachal Durg, Gopagiri, and Gopadiri, all which mean “cowherd’s hill.” Pop. (2001) 827,026; (2011) 1,069,276.\\\\nHistory [...] The old city of Gwalior centres on the walled fortress, one of the most famous in India, that is situated atop a cliffed plateau nearly 2 miles (3 km) long that rises a sheer 300 feet (90 metres) from the plain. The fort was first mentioned in a temple inscription about 525 ce. Of strategic importance in guarding the main route from the plains of northern India, it was in the hands of Hindu rulers until 1232 and then changed hands several times between Muslim and Hindu rulers until 1751.\", \"score\": 0.83549726}, {\"title\": \"Gwalior State - Wikipedia\", \"url\": \"https://en.wikipedia.org/wiki/Gwalior_State\", \"content\": \"Gwalior State\\\\n\\\\n\\\\n\\\\nThe Gwalior State was a \\\\nstate within the Maratha Confederacy located in Central India. It was ruled by the House of Scindia (anglicized from Sendrak), a Hindu Maratha dynasty. Following the dissolution of the Confederacy, it became part of the Central India Agency of the Indian Empire under British protection. [...] The state was entitled to a 21-gun salute when it became a princely state of the India.[1] It took its (later) name from the old town of Gwalior, which, although not its first capital, was an important place because of its strategic location and the strength of its fort; it became later its capital, after Daulat Rao Sindhia built its palace in the village of Lashkar, near the fort. The state was founded in the early 18th century by Ranoji Sindhia, as part of the Maratha Confederacy. The [...] Under Mahadji Sindhia (1761–1794) Gwalior State became a leading power in Central India, and dominated the affairs of the confederacy.  The Anglo-Maratha Wars brought Gwalior State under British suzerainty, so that it became a princely state of the Indian Empire. Gwalior was the largest state in the Central India Agency, under the political supervision of a Resident at Gwalior. In 1936, the Gwalior residency was separated from the Central India Agency, and made answerable directly to the\", \"score\": 0.79939574}, {\"title\": \"Profile | District Gwalior, Government of Madhya Pradesh | India\", \"url\": \"https://gwalior.nic.in/en/history/\", \"content\": \"Gwalior district is a district of the Indian state of Madhya Pradesh. This district is under the revenue division of Gwalior. This district is situated\", \"score\": 0.7272211}, {\"title\": \"Gwalior, India: All You Must Know Before You Go (2025) - Tripadvisor\", \"url\": \"https://www.tripadvisor.com/Tourism-g667810-Gwalior_Gwalior_District_Madhya_Pradesh-Vacations.html\", \"content\": \"Gwalior is known for some of its popular attractions, which include: Bateswar group of temples - Morena Gwailor · Gwalior Fort · Gurudwara Data Bandi Chhod\", \"score\": 0.69622743}]', name='get_city_details', id='3cc1ca2d-add3-4029-a629-a220a7303981', tool_call_id='call_p433'), AIMessage(content='Gwalior is a major city in the central Indian state of Madhya Pradesh. It is known as the Music City of India and is a major sports, cultural, industrial, and political centre in Madhya Pradesh. \\n\\n\\nIt is located south of Agra. The city is surrounded by industrial and commercial zones of neighboring districts. \\n\\n\\n\\nThe old city of Gwalior centres on the walled fortress, one of the most famous in India. It was founded in the early 18th century and was a leading power in Central India during the 18th and 19th centuries. \\n\\n\\n\\nGwalior is a cultural and tourist attraction with a rich history and heritage.', additional_kwargs={}, response_metadata={'token_usage': {'completion_tokens': 139, 'prompt_tokens': 2491, 'total_tokens': 2630, 'completion_time': 0.252727273, 'prompt_time': 0.086635312, 'queue_time': 0.23240683699999998, 'total_time': 0.339362585}, 'model_name': 'Gemma2-9b-It', 'system_fingerprint': 'fp_10c08bf97d', 'finish_reason': 'stop', 'logprobs': None}, id='run-cc0171f1-8605-46bb-adb9-36e54dd0bb98-0', usage_metadata={'input_tokens': 2491, 'output_tokens': 139, 'total_tokens': 2630})]}\n",
      "this is 04 response from respondstate_name='Madhya Pradesh' state_capital='Bhopal' country_name='India' country_capital='Delhi'\n"
     ]
    }
   ],
   "source": [
    "answer = graph.invoke(input={\"messages\": [(\"human\", \"Tell me about the city details for gwalior?\")]})['final_response']\n"
   ]
  },
  {
   "cell_type": "code",
   "execution_count": 16,
   "metadata": {},
   "outputs": [
    {
     "data": {
      "text/plain": [
       "CityDetails(state_name='Madhya Pradesh', state_capital='Bhopal', country_name='India', country_capital='Delhi')"
      ]
     },
     "execution_count": 16,
     "metadata": {},
     "output_type": "execute_result"
    }
   ],
   "source": [
    "answer"
   ]
  },
  {
   "cell_type": "code",
   "execution_count": 19,
   "metadata": {},
   "outputs": [
    {
     "name": "stdout",
     "output_type": "stream",
     "text": [
      "state_name : Madhya Pradesh\n",
      "state_capital : Bhopal\n",
      "country_name : India\n",
      "country_capital : Delhi\n"
     ]
    }
   ],
   "source": [
    "for k,v in answer:\n",
    "    print(f'{k} : {v}')"
   ]
  },
  {
   "cell_type": "code",
   "execution_count": null,
   "metadata": {},
   "outputs": [],
   "source": []
  }
 ],
 "metadata": {
  "kernelspec": {
   "display_name": "langraph env",
   "language": "python",
   "name": "langgraph-env"
  },
  "language_info": {
   "codemirror_mode": {
    "name": "ipython",
    "version": 3
   },
   "file_extension": ".py",
   "mimetype": "text/x-python",
   "name": "python",
   "nbconvert_exporter": "python",
   "pygments_lexer": "ipython3",
   "version": "3.12.0"
  }
 },
 "nbformat": 4,
 "nbformat_minor": 2
}
